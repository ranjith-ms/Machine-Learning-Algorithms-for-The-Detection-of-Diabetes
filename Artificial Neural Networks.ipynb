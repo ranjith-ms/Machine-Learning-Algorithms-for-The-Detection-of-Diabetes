{
  "nbformat": 4,
  "nbformat_minor": 0,
  "metadata": {
    "colab": {
      "name": "heart_disease.ipynb",
      "provenance": [],
      "collapsed_sections": [],
      "toc_visible": true
    },
    "kernelspec": {
      "name": "python3",
      "display_name": "Python 3"
    },
    "accelerator": "GPU"
  },
  "cells": [
    {
      "cell_type": "code",
      "metadata": {
        "colab": {
          "base_uri": "https://localhost:8080/",
          "height": 35
        },
        "id": "uf7fSV-EscCh",
        "outputId": "eecdb41f-51a1-4013-fe8d-d588b51af453"
      },
      "source": [
        "import os\r\n",
        "os.getcwd()"
      ],
      "execution_count": 1,
      "outputs": [
        {
          "output_type": "execute_result",
          "data": {
            "application/vnd.google.colaboratory.intrinsic+json": {
              "type": "string"
            },
            "text/plain": [
              "'/content'"
            ]
          },
          "metadata": {
            "tags": []
          },
          "execution_count": 1
        }
      ]
    },
    {
      "cell_type": "code",
      "metadata": {
        "colab": {
          "base_uri": "https://localhost:8080/"
        },
        "id": "0kjNL8touCuU",
        "outputId": "4ba93d9e-6115-4978-9193-ccd94163761b"
      },
      "source": [
        "%cd '/content/drive/My Drive/Colab Notebooks/diabetes_prediction'"
      ],
      "execution_count": 2,
      "outputs": [
        {
          "output_type": "stream",
          "text": [
            "/content/drive/My Drive/Colab Notebooks/diabetes_prediction\n"
          ],
          "name": "stdout"
        }
      ]
    },
    {
      "cell_type": "code",
      "metadata": {
        "colab": {
          "base_uri": "https://localhost:8080/"
        },
        "id": "nR4tuIbvuQwz",
        "outputId": "225a18c8-8f2b-4731-9f8d-51bd62f861fd"
      },
      "source": [
        "ls"
      ],
      "execution_count": null,
      "outputs": [
        {
          "output_type": "stream",
          "text": [
            "diabetes_data_upload.csv  disease.hdf5              heart_disease.h5\n",
            "disease_0.9798.hdf5       heart_disease1_0.9798.h5  model.hdf5\n",
            "disease1.hdf5             heart_disease1.h5         new_disease1.hdf5\n"
          ],
          "name": "stdout"
        }
      ]
    },
    {
      "cell_type": "markdown",
      "metadata": {
        "id": "PcTvkg5TurGx"
      },
      "source": [
        "# **Import Required Libraries**"
      ]
    },
    {
      "cell_type": "code",
      "metadata": {
        "id": "-HKliiL6uxP1"
      },
      "source": [
        "import numpy as np\r\n",
        "import pandas as pd\r\n",
        "import matplotlib.pyplot as plt\r\n",
        "import seaborn as sns\r\n",
        "import plotly.express as px"
      ],
      "execution_count": null,
      "outputs": []
    },
    {
      "cell_type": "markdown",
      "metadata": {
        "id": "ueEic-fDvBul"
      },
      "source": [
        "# Reading CSV File\r\n"
      ]
    },
    {
      "cell_type": "code",
      "metadata": {
        "colab": {
          "base_uri": "https://localhost:8080/",
          "height": 397
        },
        "id": "C9Q-puhwuesE",
        "outputId": "993a6420-5077-4bec-9d7a-4ea12d38bee5"
      },
      "source": [
        "data=pd.read_csv('diabetes_data_upload.csv')\r\n",
        "data.head(10)"
      ],
      "execution_count": null,
      "outputs": [
        {
          "output_type": "execute_result",
          "data": {
            "text/html": [
              "<div>\n",
              "<style scoped>\n",
              "    .dataframe tbody tr th:only-of-type {\n",
              "        vertical-align: middle;\n",
              "    }\n",
              "\n",
              "    .dataframe tbody tr th {\n",
              "        vertical-align: top;\n",
              "    }\n",
              "\n",
              "    .dataframe thead th {\n",
              "        text-align: right;\n",
              "    }\n",
              "</style>\n",
              "<table border=\"1\" class=\"dataframe\">\n",
              "  <thead>\n",
              "    <tr style=\"text-align: right;\">\n",
              "      <th></th>\n",
              "      <th>Age</th>\n",
              "      <th>Gender</th>\n",
              "      <th>Polyuria</th>\n",
              "      <th>Polydipsia</th>\n",
              "      <th>sudden weight loss</th>\n",
              "      <th>weakness</th>\n",
              "      <th>Polyphagia</th>\n",
              "      <th>Genital thrush</th>\n",
              "      <th>visual blurring</th>\n",
              "      <th>Itching</th>\n",
              "      <th>Irritability</th>\n",
              "      <th>delayed healing</th>\n",
              "      <th>partial paresis</th>\n",
              "      <th>muscle stiffness</th>\n",
              "      <th>Alopecia</th>\n",
              "      <th>Obesity</th>\n",
              "      <th>class</th>\n",
              "    </tr>\n",
              "  </thead>\n",
              "  <tbody>\n",
              "    <tr>\n",
              "      <th>0</th>\n",
              "      <td>40</td>\n",
              "      <td>Male</td>\n",
              "      <td>No</td>\n",
              "      <td>Yes</td>\n",
              "      <td>No</td>\n",
              "      <td>Yes</td>\n",
              "      <td>No</td>\n",
              "      <td>No</td>\n",
              "      <td>No</td>\n",
              "      <td>Yes</td>\n",
              "      <td>No</td>\n",
              "      <td>Yes</td>\n",
              "      <td>No</td>\n",
              "      <td>Yes</td>\n",
              "      <td>Yes</td>\n",
              "      <td>Yes</td>\n",
              "      <td>Positive</td>\n",
              "    </tr>\n",
              "    <tr>\n",
              "      <th>1</th>\n",
              "      <td>58</td>\n",
              "      <td>Male</td>\n",
              "      <td>No</td>\n",
              "      <td>No</td>\n",
              "      <td>No</td>\n",
              "      <td>Yes</td>\n",
              "      <td>No</td>\n",
              "      <td>No</td>\n",
              "      <td>Yes</td>\n",
              "      <td>No</td>\n",
              "      <td>No</td>\n",
              "      <td>No</td>\n",
              "      <td>Yes</td>\n",
              "      <td>No</td>\n",
              "      <td>Yes</td>\n",
              "      <td>No</td>\n",
              "      <td>Positive</td>\n",
              "    </tr>\n",
              "    <tr>\n",
              "      <th>2</th>\n",
              "      <td>41</td>\n",
              "      <td>Male</td>\n",
              "      <td>Yes</td>\n",
              "      <td>No</td>\n",
              "      <td>No</td>\n",
              "      <td>Yes</td>\n",
              "      <td>Yes</td>\n",
              "      <td>No</td>\n",
              "      <td>No</td>\n",
              "      <td>Yes</td>\n",
              "      <td>No</td>\n",
              "      <td>Yes</td>\n",
              "      <td>No</td>\n",
              "      <td>Yes</td>\n",
              "      <td>Yes</td>\n",
              "      <td>No</td>\n",
              "      <td>Positive</td>\n",
              "    </tr>\n",
              "    <tr>\n",
              "      <th>3</th>\n",
              "      <td>45</td>\n",
              "      <td>Male</td>\n",
              "      <td>No</td>\n",
              "      <td>No</td>\n",
              "      <td>Yes</td>\n",
              "      <td>Yes</td>\n",
              "      <td>Yes</td>\n",
              "      <td>Yes</td>\n",
              "      <td>No</td>\n",
              "      <td>Yes</td>\n",
              "      <td>No</td>\n",
              "      <td>Yes</td>\n",
              "      <td>No</td>\n",
              "      <td>No</td>\n",
              "      <td>No</td>\n",
              "      <td>No</td>\n",
              "      <td>Positive</td>\n",
              "    </tr>\n",
              "    <tr>\n",
              "      <th>4</th>\n",
              "      <td>60</td>\n",
              "      <td>Male</td>\n",
              "      <td>Yes</td>\n",
              "      <td>Yes</td>\n",
              "      <td>Yes</td>\n",
              "      <td>Yes</td>\n",
              "      <td>Yes</td>\n",
              "      <td>No</td>\n",
              "      <td>Yes</td>\n",
              "      <td>Yes</td>\n",
              "      <td>Yes</td>\n",
              "      <td>Yes</td>\n",
              "      <td>Yes</td>\n",
              "      <td>Yes</td>\n",
              "      <td>Yes</td>\n",
              "      <td>Yes</td>\n",
              "      <td>Positive</td>\n",
              "    </tr>\n",
              "    <tr>\n",
              "      <th>5</th>\n",
              "      <td>55</td>\n",
              "      <td>Male</td>\n",
              "      <td>Yes</td>\n",
              "      <td>Yes</td>\n",
              "      <td>No</td>\n",
              "      <td>Yes</td>\n",
              "      <td>Yes</td>\n",
              "      <td>No</td>\n",
              "      <td>Yes</td>\n",
              "      <td>Yes</td>\n",
              "      <td>No</td>\n",
              "      <td>Yes</td>\n",
              "      <td>No</td>\n",
              "      <td>Yes</td>\n",
              "      <td>Yes</td>\n",
              "      <td>Yes</td>\n",
              "      <td>Positive</td>\n",
              "    </tr>\n",
              "    <tr>\n",
              "      <th>6</th>\n",
              "      <td>57</td>\n",
              "      <td>Male</td>\n",
              "      <td>Yes</td>\n",
              "      <td>Yes</td>\n",
              "      <td>No</td>\n",
              "      <td>Yes</td>\n",
              "      <td>Yes</td>\n",
              "      <td>Yes</td>\n",
              "      <td>No</td>\n",
              "      <td>No</td>\n",
              "      <td>No</td>\n",
              "      <td>Yes</td>\n",
              "      <td>Yes</td>\n",
              "      <td>No</td>\n",
              "      <td>No</td>\n",
              "      <td>No</td>\n",
              "      <td>Positive</td>\n",
              "    </tr>\n",
              "    <tr>\n",
              "      <th>7</th>\n",
              "      <td>66</td>\n",
              "      <td>Male</td>\n",
              "      <td>Yes</td>\n",
              "      <td>Yes</td>\n",
              "      <td>Yes</td>\n",
              "      <td>Yes</td>\n",
              "      <td>No</td>\n",
              "      <td>No</td>\n",
              "      <td>Yes</td>\n",
              "      <td>Yes</td>\n",
              "      <td>Yes</td>\n",
              "      <td>No</td>\n",
              "      <td>Yes</td>\n",
              "      <td>Yes</td>\n",
              "      <td>No</td>\n",
              "      <td>No</td>\n",
              "      <td>Positive</td>\n",
              "    </tr>\n",
              "    <tr>\n",
              "      <th>8</th>\n",
              "      <td>67</td>\n",
              "      <td>Male</td>\n",
              "      <td>Yes</td>\n",
              "      <td>Yes</td>\n",
              "      <td>No</td>\n",
              "      <td>Yes</td>\n",
              "      <td>Yes</td>\n",
              "      <td>Yes</td>\n",
              "      <td>No</td>\n",
              "      <td>Yes</td>\n",
              "      <td>Yes</td>\n",
              "      <td>No</td>\n",
              "      <td>Yes</td>\n",
              "      <td>Yes</td>\n",
              "      <td>No</td>\n",
              "      <td>Yes</td>\n",
              "      <td>Positive</td>\n",
              "    </tr>\n",
              "    <tr>\n",
              "      <th>9</th>\n",
              "      <td>70</td>\n",
              "      <td>Male</td>\n",
              "      <td>No</td>\n",
              "      <td>Yes</td>\n",
              "      <td>Yes</td>\n",
              "      <td>Yes</td>\n",
              "      <td>Yes</td>\n",
              "      <td>No</td>\n",
              "      <td>Yes</td>\n",
              "      <td>Yes</td>\n",
              "      <td>Yes</td>\n",
              "      <td>No</td>\n",
              "      <td>No</td>\n",
              "      <td>No</td>\n",
              "      <td>Yes</td>\n",
              "      <td>No</td>\n",
              "      <td>Positive</td>\n",
              "    </tr>\n",
              "  </tbody>\n",
              "</table>\n",
              "</div>"
            ],
            "text/plain": [
              "   Age Gender Polyuria Polydipsia  ... muscle stiffness Alopecia Obesity     class\n",
              "0   40   Male       No        Yes  ...              Yes      Yes     Yes  Positive\n",
              "1   58   Male       No         No  ...               No      Yes      No  Positive\n",
              "2   41   Male      Yes         No  ...              Yes      Yes      No  Positive\n",
              "3   45   Male       No         No  ...               No       No      No  Positive\n",
              "4   60   Male      Yes        Yes  ...              Yes      Yes     Yes  Positive\n",
              "5   55   Male      Yes        Yes  ...              Yes      Yes     Yes  Positive\n",
              "6   57   Male      Yes        Yes  ...               No       No      No  Positive\n",
              "7   66   Male      Yes        Yes  ...              Yes       No      No  Positive\n",
              "8   67   Male      Yes        Yes  ...              Yes       No     Yes  Positive\n",
              "9   70   Male       No        Yes  ...               No      Yes      No  Positive\n",
              "\n",
              "[10 rows x 17 columns]"
            ]
          },
          "metadata": {
            "tags": []
          },
          "execution_count": 5
        }
      ]
    },
    {
      "cell_type": "markdown",
      "metadata": {
        "id": "24WIUFIgvSFD"
      },
      "source": [
        "# Getting Dataset Insights  "
      ]
    },
    {
      "cell_type": "code",
      "metadata": {
        "colab": {
          "base_uri": "https://localhost:8080/"
        },
        "id": "sV6y3ZvMvfLm",
        "outputId": "623c762b-3bbe-4a1e-9110-1a18760861d1"
      },
      "source": [
        "# shape of the dataset i.e no of rows and columns\r\n",
        "data.shape"
      ],
      "execution_count": null,
      "outputs": [
        {
          "output_type": "execute_result",
          "data": {
            "text/plain": [
              "(520, 17)"
            ]
          },
          "metadata": {
            "tags": []
          },
          "execution_count": 6
        }
      ]
    },
    {
      "cell_type": "markdown",
      "metadata": {
        "id": "4B2Wan1cvrko"
      },
      "source": [
        "We have 520 rows corresponding to total no of datasamples collected\r\n",
        "and 17 columns out of which 16 columns corresponds to heart disease predicting features ."
      ]
    },
    {
      "cell_type": "code",
      "metadata": {
        "colab": {
          "base_uri": "https://localhost:8080/"
        },
        "id": "aYtFB3W-uRdW",
        "outputId": "8c1b8c8e-8002-4c74-9266-7e60787d333c"
      },
      "source": [
        "# columns name of the dataset \r\n",
        "data.columns"
      ],
      "execution_count": null,
      "outputs": [
        {
          "output_type": "execute_result",
          "data": {
            "text/plain": [
              "Index(['Age', 'Gender', 'Polyuria', 'Polydipsia', 'sudden weight loss',\n",
              "       'weakness', 'Polyphagia', 'Genital thrush', 'visual blurring',\n",
              "       'Itching', 'Irritability', 'delayed healing', 'partial paresis',\n",
              "       'muscle stiffness', 'Alopecia', 'Obesity', 'class'],\n",
              "      dtype='object')"
            ]
          },
          "metadata": {
            "tags": []
          },
          "execution_count": 7
        }
      ]
    },
    {
      "cell_type": "code",
      "metadata": {
        "colab": {
          "base_uri": "https://localhost:8080/"
        },
        "id": "6LQ9AfHdwfqP",
        "outputId": "9893afae-76d6-429e-f946-e3e611131982"
      },
      "source": [
        "#informations of each columns\r\n",
        "data.info()"
      ],
      "execution_count": null,
      "outputs": [
        {
          "output_type": "stream",
          "text": [
            "<class 'pandas.core.frame.DataFrame'>\n",
            "RangeIndex: 520 entries, 0 to 519\n",
            "Data columns (total 17 columns):\n",
            " #   Column              Non-Null Count  Dtype \n",
            "---  ------              --------------  ----- \n",
            " 0   Age                 520 non-null    int64 \n",
            " 1   Gender              520 non-null    object\n",
            " 2   Polyuria            520 non-null    object\n",
            " 3   Polydipsia          520 non-null    object\n",
            " 4   sudden weight loss  520 non-null    object\n",
            " 5   weakness            520 non-null    object\n",
            " 6   Polyphagia          520 non-null    object\n",
            " 7   Genital thrush      520 non-null    object\n",
            " 8   visual blurring     520 non-null    object\n",
            " 9   Itching             520 non-null    object\n",
            " 10  Irritability        520 non-null    object\n",
            " 11  delayed healing     520 non-null    object\n",
            " 12  partial paresis     520 non-null    object\n",
            " 13  muscle stiffness    520 non-null    object\n",
            " 14  Alopecia            520 non-null    object\n",
            " 15  Obesity             520 non-null    object\n",
            " 16  class               520 non-null    object\n",
            "dtypes: int64(1), object(16)\n",
            "memory usage: 69.2+ KB\n"
          ],
          "name": "stdout"
        }
      ]
    },
    {
      "cell_type": "markdown",
      "metadata": {
        "id": "YdYuyowXxAZm"
      },
      "source": [
        "# Checking Null Values"
      ]
    },
    {
      "cell_type": "code",
      "metadata": {
        "colab": {
          "base_uri": "https://localhost:8080/"
        },
        "id": "qVM0ts53wuAA",
        "outputId": "318304c3-840b-4cbd-9a3a-04f072d1cfab"
      },
      "source": [
        "data.isnull().any()"
      ],
      "execution_count": null,
      "outputs": [
        {
          "output_type": "execute_result",
          "data": {
            "text/plain": [
              "Age                   False\n",
              "Gender                False\n",
              "Polyuria              False\n",
              "Polydipsia            False\n",
              "sudden weight loss    False\n",
              "weakness              False\n",
              "Polyphagia            False\n",
              "Genital thrush        False\n",
              "visual blurring       False\n",
              "Itching               False\n",
              "Irritability          False\n",
              "delayed healing       False\n",
              "partial paresis       False\n",
              "muscle stiffness      False\n",
              "Alopecia              False\n",
              "Obesity               False\n",
              "class                 False\n",
              "dtype: bool"
            ]
          },
          "metadata": {
            "tags": []
          },
          "execution_count": 9
        }
      ]
    },
    {
      "cell_type": "code",
      "metadata": {
        "colab": {
          "base_uri": "https://localhost:8080/"
        },
        "id": "mLcoHFaEw9ZX",
        "outputId": "1d2cb1d7-4783-407c-8285-20a7b5090701"
      },
      "source": [
        "data.isnull().sum()"
      ],
      "execution_count": null,
      "outputs": [
        {
          "output_type": "execute_result",
          "data": {
            "text/plain": [
              "Age                   0\n",
              "Gender                0\n",
              "Polyuria              0\n",
              "Polydipsia            0\n",
              "sudden weight loss    0\n",
              "weakness              0\n",
              "Polyphagia            0\n",
              "Genital thrush        0\n",
              "visual blurring       0\n",
              "Itching               0\n",
              "Irritability          0\n",
              "delayed healing       0\n",
              "partial paresis       0\n",
              "muscle stiffness      0\n",
              "Alopecia              0\n",
              "Obesity               0\n",
              "class                 0\n",
              "dtype: int64"
            ]
          },
          "metadata": {
            "tags": []
          },
          "execution_count": 10
        }
      ]
    },
    {
      "cell_type": "markdown",
      "metadata": {
        "id": "_gq79CgjDf5w"
      },
      "source": [
        "# Checking Unique Values In Each Column "
      ]
    },
    {
      "cell_type": "code",
      "metadata": {
        "colab": {
          "base_uri": "https://localhost:8080/"
        },
        "id": "OAT_XGB_DdBC",
        "outputId": "e5585784-902b-4344-b440-fb517259689a"
      },
      "source": [
        "data.nunique()"
      ],
      "execution_count": null,
      "outputs": [
        {
          "output_type": "execute_result",
          "data": {
            "text/plain": [
              "Age                   51\n",
              "Gender                 2\n",
              "Polyuria               2\n",
              "Polydipsia             2\n",
              "sudden weight loss     2\n",
              "weakness               2\n",
              "Polyphagia             2\n",
              "Genital thrush         2\n",
              "visual blurring        2\n",
              "Itching                2\n",
              "Irritability           2\n",
              "delayed healing        2\n",
              "partial paresis        2\n",
              "muscle stiffness       2\n",
              "Alopecia               2\n",
              "Obesity                2\n",
              "class                  2\n",
              "dtype: int64"
            ]
          },
          "metadata": {
            "tags": []
          },
          "execution_count": 11
        }
      ]
    },
    {
      "cell_type": "markdown",
      "metadata": {
        "id": "vCctqYyZF36T"
      },
      "source": [
        "# Getting Heart-Disease Positive and Negative Case Count in a dataset"
      ]
    },
    {
      "cell_type": "code",
      "metadata": {
        "colab": {
          "base_uri": "https://localhost:8080/"
        },
        "id": "W3D_UzqaDxzO",
        "outputId": "6b6104b1-bd66-49a8-dbd9-97dbf34a0249"
      },
      "source": [
        "data['class'].value_counts()"
      ],
      "execution_count": null,
      "outputs": [
        {
          "output_type": "execute_result",
          "data": {
            "text/plain": [
              "Positive    320\n",
              "Negative    200\n",
              "Name: class, dtype: int64"
            ]
          },
          "metadata": {
            "tags": []
          },
          "execution_count": 12
        }
      ]
    },
    {
      "cell_type": "code",
      "metadata": {
        "colab": {
          "base_uri": "https://localhost:8080/"
        },
        "id": "lniEaQ34FND9",
        "outputId": "d78049ed-38a1-4b55-bb61-f4f999d54688"
      },
      "source": [
        "print(\"Number Of people having heart disease positive in dataset are \",data['class'].value_counts()[0])\r\n",
        "print(\"Number Of people having heart disease negative in dataset are\",data['class'].value_counts()[1])"
      ],
      "execution_count": null,
      "outputs": [
        {
          "output_type": "stream",
          "text": [
            "Number Of people having heart disease positive in dataset are  320\n",
            "Number Of people having heart disease negative in dataset are 200\n"
          ],
          "name": "stdout"
        }
      ]
    },
    {
      "cell_type": "code",
      "metadata": {
        "colab": {
          "base_uri": "https://localhost:8080/"
        },
        "id": "ebwMgG22EAQO",
        "outputId": "36babb6f-fbef-49ca-884d-bb32d8873f94"
      },
      "source": [
        "data['Gender'].value_counts()"
      ],
      "execution_count": null,
      "outputs": [
        {
          "output_type": "execute_result",
          "data": {
            "text/plain": [
              "Male      328\n",
              "Female    192\n",
              "Name: Gender, dtype: int64"
            ]
          },
          "metadata": {
            "tags": []
          },
          "execution_count": 14
        }
      ]
    },
    {
      "cell_type": "code",
      "metadata": {
        "colab": {
          "base_uri": "https://localhost:8080/"
        },
        "id": "WNTfARTiDqCu",
        "outputId": "13272665-eb42-4618-8007-c352d188a72e"
      },
      "source": [
        "data[data['class']=='Positive']['Gender'].value_counts()"
      ],
      "execution_count": null,
      "outputs": [
        {
          "output_type": "execute_result",
          "data": {
            "text/plain": [
              "Female    173\n",
              "Male      147\n",
              "Name: Gender, dtype: int64"
            ]
          },
          "metadata": {
            "tags": []
          },
          "execution_count": 15
        }
      ]
    },
    {
      "cell_type": "code",
      "metadata": {
        "colab": {
          "base_uri": "https://localhost:8080/"
        },
        "id": "_JpBa07YD3H2",
        "outputId": "0160800f-e3c9-4b93-93d7-5377d3684fcd"
      },
      "source": [
        "data[~(data['class']=='Positive')]['Gender'].value_counts()"
      ],
      "execution_count": null,
      "outputs": [
        {
          "output_type": "execute_result",
          "data": {
            "text/plain": [
              "Male      181\n",
              "Female     19\n",
              "Name: Gender, dtype: int64"
            ]
          },
          "metadata": {
            "tags": []
          },
          "execution_count": 18
        }
      ]
    },
    {
      "cell_type": "code",
      "metadata": {
        "colab": {
          "base_uri": "https://localhost:8080/"
        },
        "id": "gI_01tVqEJ8N",
        "outputId": "031ef272-d96d-40d7-9db0-32d910135eee"
      },
      "source": [
        "print(\"The Percentage Of Male Susceptible to heart disease is\",(147/328)*100)\r\n",
        "print(\"The Percentage Of Female Susceptible to heart disease is\",(173/192)*100)"
      ],
      "execution_count": null,
      "outputs": [
        {
          "output_type": "stream",
          "text": [
            "The Percentage Of Male Susceptible to heart disease is 44.81707317073171\n",
            "The Percentage Of Female Susceptible to heart disease is 90.10416666666666\n"
          ],
          "name": "stdout"
        }
      ]
    },
    {
      "cell_type": "markdown",
      "metadata": {
        "id": "OlBbkVznGHOf"
      },
      "source": [
        "# **Data Visualization** "
      ]
    },
    {
      "cell_type": "code",
      "metadata": {
        "colab": {
          "base_uri": "https://localhost:8080/",
          "height": 317
        },
        "id": "7UmdNFt3FpX4",
        "outputId": "8ab4e436-b92b-4774-eb31-544ceeb00aeb"
      },
      "source": [
        "data['class'].value_counts().plot(kind='bar',color=\"#cdcdcd\")"
      ],
      "execution_count": null,
      "outputs": [
        {
          "output_type": "execute_result",
          "data": {
            "text/plain": [
              "<matplotlib.axes._subplots.AxesSubplot at 0x7f77ec7bf7f0>"
            ]
          },
          "metadata": {
            "tags": []
          },
          "execution_count": 21
        },
        {
          "output_type": "display_data",
          "data": {
            "image/png": "[encoded data removed]",
            "text/plain": [
              "<Figure size 432x288 with 1 Axes>"
            ]
          },
          "metadata": {
            "tags": [],
            "needs_background": "light"
          }
        }
      ]
    },
    {
      "cell_type": "markdown",
      "metadata": {
        "id": "Ry4Y107jXQY3"
      },
      "source": [
        "Positive Count is more than Negative Count"
      ]
    },
    {
      "cell_type": "code",
      "metadata": {
        "colab": {
          "base_uri": "https://localhost:8080/",
          "height": 308
        },
        "id": "fE2Q92JeWYor",
        "outputId": "6f3c3619-2481-4b2e-dd21-ec9334cf13b5"
      },
      "source": [
        "data['Gender'].value_counts().plot(kind='bar',color=\"#decded\")"
      ],
      "execution_count": null,
      "outputs": [
        {
          "output_type": "execute_result",
          "data": {
            "text/plain": [
              "<matplotlib.axes._subplots.AxesSubplot at 0x7f77ec2359e8>"
            ]
          },
          "metadata": {
            "tags": []
          },
          "execution_count": 23
        },
        {
          "output_type": "display_data",
          "data": {
            "image/png": "[encoded data removed]",
            "text/plain": [
              "<Figure size 432x288 with 1 Axes>"
            ]
          },
          "metadata": {
            "tags": [],
            "needs_background": "light"
          }
        }
      ]
    },
    {
      "cell_type": "markdown",
      "metadata": {
        "id": "gxt6x2lGXWAk"
      },
      "source": [
        "Male Count is more than Female in dataset"
      ]
    },
    {
      "cell_type": "code",
      "metadata": {
        "colab": {
          "base_uri": "https://localhost:8080/",
          "height": 308
        },
        "id": "JPS-2LQFGDB7",
        "outputId": "dadef6a7-6823-41fb-de65-cacdaefbd548"
      },
      "source": [
        "data[data['class']=='Positive']['Gender'].value_counts().plot(kind='bar',color=\"#ababab\")"
      ],
      "execution_count": null,
      "outputs": [
        {
          "output_type": "execute_result",
          "data": {
            "text/plain": [
              "<matplotlib.axes._subplots.AxesSubplot at 0x7f77ec201550>"
            ]
          },
          "metadata": {
            "tags": []
          },
          "execution_count": 24
        },
        {
          "output_type": "display_data",
          "data": {
            "image/png": "[encoded data removed]",
            "text/plain": [
              "<Figure size 432x288 with 1 Axes>"
            ]
          },
          "metadata": {
            "tags": [],
            "needs_background": "light"
          }
        }
      ]
    },
    {
      "cell_type": "code",
      "metadata": {
        "colab": {
          "base_uri": "https://localhost:8080/",
          "height": 308
        },
        "id": "ji-G-BmhGVdd",
        "outputId": "a3867343-3058-435a-c537-d6801814e274"
      },
      "source": [
        "data[~(data['class']=='Positive')]['Gender'].value_counts().plot(kind=\"bar\",color=\"#acdfe9\")"
      ],
      "execution_count": null,
      "outputs": [
        {
          "output_type": "execute_result",
          "data": {
            "text/plain": [
              "<matplotlib.axes._subplots.AxesSubplot at 0x7f77ec18e828>"
            ]
          },
          "metadata": {
            "tags": []
          },
          "execution_count": 26
        },
        {
          "output_type": "display_data",
          "data": {
            "image/png": "[encoded data removed]",
            "text/plain": [
              "<Figure size 432x288 with 1 Axes>"
            ]
          },
          "metadata": {
            "tags": [],
            "needs_background": "light"
          }
        }
      ]
    },
    {
      "cell_type": "code",
      "metadata": {
        "colab": {
          "base_uri": "https://localhost:8080/",
          "height": 386
        },
        "id": "ouS3eKnUWB9U",
        "outputId": "b744b4f6-10b6-40c4-b903-1d5d0a0be52b"
      },
      "source": [
        "sns.displot(data=data, x=\"Age\", hue=\"class\",col=\"Gender\",multiple=\"stack\", kind=\"kde\")"
      ],
      "execution_count": null,
      "outputs": [
        {
          "output_type": "execute_result",
          "data": {
            "text/plain": [
              "<seaborn.axisgrid.FacetGrid at 0x7f77ec7733c8>"
            ]
          },
          "metadata": {
            "tags": []
          },
          "execution_count": 27
        },
        {
          "output_type": "display_data",
          "data": {
            "image/png": "[encoded data removed]",
            "text/plain": [
              "<Figure size 800.875x360 with 2 Axes>"
            ]
          },
          "metadata": {
            "tags": [],
            "needs_background": "light"
          }
        }
      ]
    },
    {
      "cell_type": "markdown",
      "metadata": {
        "id": "vtj2971tlrzE"
      },
      "source": [
        "Incase Of Male:Both Positive and Negative is normally distributed\r\n",
        " \r\n",
        "Incase Of Female:It is not the case of above.Irregualrity in negative case as age advances .Hence Normalization Technique should apply to Age Column."
      ]
    },
    {
      "cell_type": "code",
      "metadata": {
        "colab": {
          "base_uri": "https://localhost:8080/",
          "height": 386
        },
        "id": "1L8qJcHQsAnA",
        "outputId": "2f258734-97f1-4a59-ad6d-a56148c854de"
      },
      "source": [
        "sns.displot(data,x='Age',hue=\"Gender\",col=\"class\",kind=\"ecdf\")"
      ],
      "execution_count": null,
      "outputs": [
        {
          "output_type": "execute_result",
          "data": {
            "text/plain": [
              "<seaborn.axisgrid.FacetGrid at 0x7f77ec03b9e8>"
            ]
          },
          "metadata": {
            "tags": []
          },
          "execution_count": 28
        },
        {
          "output_type": "display_data",
          "data": {
            "image/png": "[encoded data removed]",
            "text/plain": [
              "<Figure size 792.125x360 with 2 Axes>"
            ]
          },
          "metadata": {
            "tags": [],
            "needs_background": "light"
          }
        }
      ]
    },
    {
      "cell_type": "code",
      "metadata": {
        "colab": {
          "base_uri": "https://localhost:8080/",
          "height": 1000
        },
        "id": "wUqOirSfKOwv",
        "outputId": "2d8024e8-6ccb-47ed-afb8-9817872f9056"
      },
      "source": [
        "colu_lis=[]\r\n",
        "for i in data.columns:\r\n",
        "  if i!='Age' and i!='class' and i!='Gender':\r\n",
        "    colu_lis.append(i)\r\n",
        "  else:\r\n",
        "    continue\r\n",
        "\r\n",
        "for i in colu_lis:\r\n",
        "  \r\n",
        "  fig,ax=plt.subplots(figsize=(4,4))\r\n",
        "  sns.histplot(data=data,x=i,hue=\"class\",multiple=\"stack\")\r\n"
      ],
      "execution_count": null,
      "outputs": [
        {
          "output_type": "display_data",
          "data": {
            "image/png": "[encoded data removed]",
            "text/plain": [
              "<Figure size 288x288 with 1 Axes>"
            ]
          },
          "metadata": {
            "tags": [],
            "needs_background": "light"
          }
        },
        {
          "output_type": "display_data",
          "data": {
            "image/png": "[encoded data removed]",
            "text/plain": [
              "<Figure size 288x288 with 1 Axes>"
            ]
          },
          "metadata": {
            "tags": [],
            "needs_background": "light"
          }
        },
        {
          "output_type": "display_data",
          "data": {
            "image/png": "[encoded data removed]",
            "text/plain": [
              "<Figure size 288x288 with 1 Axes>"
            ]
          },
          "metadata": {
            "tags": [],
            "needs_background": "light"
          }
        },
        {
          "output_type": "display_data",
          "data": {
            "image/png": "[encoded data removed]",
            "text/plain": [
              "<Figure size 288x288 with 1 Axes>"
            ]
          },
          "metadata": {
            "tags": [],
            "needs_background": "light"
          }
        },
        {
          "output_type": "display_data",
          "data": {
            "image/png": "[encoded data removed]",
            "text/plain": [
              "<Figure size 288x288 with 1 Axes>"
            ]
          },
          "metadata": {
            "tags": [],
            "needs_background": "light"
          }
        },
        {
          "output_type": "display_data",
          "data": {
            "image/png": "[encoded data removed]",
            "text/plain": [
              "<Figure size 288x288 with 1 Axes>"
            ]
          },
          "metadata": {
            "tags": [],
            "needs_background": "light"
          }
        },
        {
          "output_type": "display_data",
          "data": {
            "image/png": "[encoded data removed]",
            "text/plain": [
              "<Figure size 288x288 with 1 Axes>"
            ]
          },
          "metadata": {
            "tags": [],
            "needs_background": "light"
          }
        },
        {
          "output_type": "display_data",
          "data": {
            "image/png": "[encoded data removed]",
            "text/plain": [
              "<Figure size 288x288 with 1 Axes>"
            ]
          },
          "metadata": {
            "tags": [],
            "needs_background": "light"
          }
        },
        {
          "output_type": "display_data",
          "data": {
            "image/png": "[encoded data removed]",
            "text/plain": [
              "<Figure size 288x288 with 1 Axes>"
            ]
          },
          "metadata": {
            "tags": [],
            "needs_background": "light"
          }
        },
        {
          "output_type": "display_data",
          "data": {
            "image/png": "[encoded data removed]",
            "text/plain": [
              "<Figure size 288x288 with 1 Axes>"
            ]
          },
          "metadata": {
            "tags": [],
            "needs_background": "light"
          }
        },
        {
          "output_type": "display_data",
          "data": {
            "image/png": "[encoded data removed]",
            "text/plain": [
              "<Figure size 288x288 with 1 Axes>"
            ]
          },
          "metadata": {
            "tags": [],
            "needs_background": "light"
          }
        },
        {
          "output_type": "display_data",
          "data": {
            "image/png": "[encoded data removed]",
            "text/plain": [
              "<Figure size 288x288 with 1 Axes>"
            ]
          },
          "metadata": {
            "tags": [],
            "needs_background": "light"
          }
        },
        {
          "output_type": "display_data",
          "data": {
            "image/png": "[encoded data removed]",
            "text/plain": [
              "<Figure size 288x288 with 1 Axes>"
            ]
          },
          "metadata": {
            "tags": [],
            "needs_background": "light"
          }
        },
        {
          "output_type": "display_data",
          "data": {
            "image/png": "[encoded data removed]",
            "text/plain": [
              "<Figure size 288x288 with 1 Axes>"
            ]
          },
          "metadata": {
            "tags": [],
            "needs_background": "light"
          }
        }
      ]
    },
    {
      "cell_type": "markdown",
      "metadata": {
        "id": "kLXQRLQWuUFS"
      },
      "source": [
        "# Encoding Categorical Columns Using Sckit Learn Preprocessing Label Encoder"
      ]
    },
    {
      "cell_type": "code",
      "metadata": {
        "id": "euQtf-mAuPZW"
      },
      "source": [
        "#encoding the categorical data\r\n",
        "from sklearn.preprocessing import LabelEncoder\r\n",
        "col_lis=[]\r\n",
        "for i in data.columns:\r\n",
        "  if i!='Age':\r\n",
        "    col_lis.append(i)\r\n",
        "  else:\r\n",
        "    continue\r\n",
        "    \r\n",
        "le=LabelEncoder()\r\n",
        "for i in data.columns:\r\n",
        "  data[i]=le.fit_transform(data[i])\r\n"
      ],
      "execution_count": null,
      "outputs": []
    },
    {
      "cell_type": "markdown",
      "metadata": {
        "id": "El5T8f0lt8Pu"
      },
      "source": [
        "# Corrrelation between columns"
      ]
    },
    {
      "cell_type": "code",
      "metadata": {
        "colab": {
          "base_uri": "https://localhost:8080/",
          "height": 722
        },
        "id": "sU6wyBUQxk2c",
        "outputId": "911e79d6-2675-4450-84d2-bdca67a31c02"
      },
      "source": [
        "corr=data.corr()\r\n",
        "corr"
      ],
      "execution_count": null,
      "outputs": [
        {
          "output_type": "execute_result",
          "data": {
            "text/html": [
              "<div>\n",
              "<style scoped>\n",
              "    .dataframe tbody tr th:only-of-type {\n",
              "        vertical-align: middle;\n",
              "    }\n",
              "\n",
              "    .dataframe tbody tr th {\n",
              "        vertical-align: top;\n",
              "    }\n",
              "\n",
              "    .dataframe thead th {\n",
              "        text-align: right;\n",
              "    }\n",
              "</style>\n",
              "<table border=\"1\" class=\"dataframe\">\n",
              "  <thead>\n",
              "    <tr style=\"text-align: right;\">\n",
              "      <th></th>\n",
              "      <th>Age</th>\n",
              "      <th>Gender</th>\n",
              "      <th>Polyuria</th>\n",
              "      <th>Polydipsia</th>\n",
              "      <th>sudden weight loss</th>\n",
              "      <th>weakness</th>\n",
              "      <th>Polyphagia</th>\n",
              "      <th>Genital thrush</th>\n",
              "      <th>visual blurring</th>\n",
              "      <th>Itching</th>\n",
              "      <th>Irritability</th>\n",
              "      <th>delayed healing</th>\n",
              "      <th>partial paresis</th>\n",
              "      <th>muscle stiffness</th>\n",
              "      <th>Alopecia</th>\n",
              "      <th>Obesity</th>\n",
              "      <th>class</th>\n",
              "    </tr>\n",
              "  </thead>\n",
              "  <tbody>\n",
              "    <tr>\n",
              "      <th>Age</th>\n",
              "      <td>1.000000</td>\n",
              "      <td>0.067835</td>\n",
              "      <td>0.209066</td>\n",
              "      <td>0.130718</td>\n",
              "      <td>0.056937</td>\n",
              "      <td>0.233688</td>\n",
              "      <td>0.325301</td>\n",
              "      <td>0.080612</td>\n",
              "      <td>0.405024</td>\n",
              "      <td>0.293839</td>\n",
              "      <td>0.210919</td>\n",
              "      <td>0.265017</td>\n",
              "      <td>0.236820</td>\n",
              "      <td>0.304223</td>\n",
              "      <td>0.326015</td>\n",
              "      <td>0.149931</td>\n",
              "      <td>0.106419</td>\n",
              "    </tr>\n",
              "    <tr>\n",
              "      <th>Gender</th>\n",
              "      <td>0.067835</td>\n",
              "      <td>1.000000</td>\n",
              "      <td>-0.268894</td>\n",
              "      <td>-0.312262</td>\n",
              "      <td>-0.281840</td>\n",
              "      <td>-0.124490</td>\n",
              "      <td>-0.219968</td>\n",
              "      <td>0.208961</td>\n",
              "      <td>-0.208092</td>\n",
              "      <td>-0.052496</td>\n",
              "      <td>-0.013735</td>\n",
              "      <td>-0.101978</td>\n",
              "      <td>-0.332288</td>\n",
              "      <td>-0.090542</td>\n",
              "      <td>0.327871</td>\n",
              "      <td>-0.005396</td>\n",
              "      <td>-0.449233</td>\n",
              "    </tr>\n",
              "    <tr>\n",
              "      <th>Polyuria</th>\n",
              "      <td>0.209066</td>\n",
              "      <td>-0.268894</td>\n",
              "      <td>1.000000</td>\n",
              "      <td>0.598609</td>\n",
              "      <td>0.447207</td>\n",
              "      <td>0.263000</td>\n",
              "      <td>0.373873</td>\n",
              "      <td>0.087273</td>\n",
              "      <td>0.235095</td>\n",
              "      <td>0.088289</td>\n",
              "      <td>0.237740</td>\n",
              "      <td>0.149873</td>\n",
              "      <td>0.441664</td>\n",
              "      <td>0.152938</td>\n",
              "      <td>-0.144192</td>\n",
              "      <td>0.126567</td>\n",
              "      <td>0.665922</td>\n",
              "    </tr>\n",
              "    <tr>\n",
              "      <th>Polydipsia</th>\n",
              "      <td>0.130718</td>\n",
              "      <td>-0.312262</td>\n",
              "      <td>0.598609</td>\n",
              "      <td>1.000000</td>\n",
              "      <td>0.405965</td>\n",
              "      <td>0.332453</td>\n",
              "      <td>0.316839</td>\n",
              "      <td>0.028081</td>\n",
              "      <td>0.331250</td>\n",
              "      <td>0.128716</td>\n",
              "      <td>0.203446</td>\n",
              "      <td>0.115691</td>\n",
              "      <td>0.442249</td>\n",
              "      <td>0.180723</td>\n",
              "      <td>-0.310964</td>\n",
              "      <td>0.098691</td>\n",
              "      <td>0.648734</td>\n",
              "    </tr>\n",
              "    <tr>\n",
              "      <th>sudden weight loss</th>\n",
              "      <td>0.056937</td>\n",
              "      <td>-0.281840</td>\n",
              "      <td>0.447207</td>\n",
              "      <td>0.405965</td>\n",
              "      <td>1.000000</td>\n",
              "      <td>0.282884</td>\n",
              "      <td>0.243511</td>\n",
              "      <td>0.089858</td>\n",
              "      <td>0.068754</td>\n",
              "      <td>-0.004516</td>\n",
              "      <td>0.140340</td>\n",
              "      <td>0.088140</td>\n",
              "      <td>0.264014</td>\n",
              "      <td>0.109756</td>\n",
              "      <td>-0.202727</td>\n",
              "      <td>0.169294</td>\n",
              "      <td>0.436568</td>\n",
              "    </tr>\n",
              "    <tr>\n",
              "      <th>weakness</th>\n",
              "      <td>0.233688</td>\n",
              "      <td>-0.124490</td>\n",
              "      <td>0.263000</td>\n",
              "      <td>0.332453</td>\n",
              "      <td>0.282884</td>\n",
              "      <td>1.000000</td>\n",
              "      <td>0.180266</td>\n",
              "      <td>0.027780</td>\n",
              "      <td>0.301043</td>\n",
              "      <td>0.309440</td>\n",
              "      <td>0.146698</td>\n",
              "      <td>0.335507</td>\n",
              "      <td>0.272982</td>\n",
              "      <td>0.263164</td>\n",
              "      <td>0.090490</td>\n",
              "      <td>0.045665</td>\n",
              "      <td>0.243275</td>\n",
              "    </tr>\n",
              "    <tr>\n",
              "      <th>Polyphagia</th>\n",
              "      <td>0.325301</td>\n",
              "      <td>-0.219968</td>\n",
              "      <td>0.373873</td>\n",
              "      <td>0.316839</td>\n",
              "      <td>0.243511</td>\n",
              "      <td>0.180266</td>\n",
              "      <td>1.000000</td>\n",
              "      <td>-0.063712</td>\n",
              "      <td>0.293545</td>\n",
              "      <td>0.144390</td>\n",
              "      <td>0.239466</td>\n",
              "      <td>0.263980</td>\n",
              "      <td>0.373569</td>\n",
              "      <td>0.320031</td>\n",
              "      <td>-0.053498</td>\n",
              "      <td>0.029785</td>\n",
              "      <td>0.342504</td>\n",
              "    </tr>\n",
              "    <tr>\n",
              "      <th>Genital thrush</th>\n",
              "      <td>0.080612</td>\n",
              "      <td>0.208961</td>\n",
              "      <td>0.087273</td>\n",
              "      <td>0.028081</td>\n",
              "      <td>0.089858</td>\n",
              "      <td>0.027780</td>\n",
              "      <td>-0.063712</td>\n",
              "      <td>1.000000</td>\n",
              "      <td>-0.148408</td>\n",
              "      <td>0.125336</td>\n",
              "      <td>0.160551</td>\n",
              "      <td>0.136111</td>\n",
              "      <td>-0.195612</td>\n",
              "      <td>-0.100188</td>\n",
              "      <td>0.204847</td>\n",
              "      <td>0.053828</td>\n",
              "      <td>0.110288</td>\n",
              "    </tr>\n",
              "    <tr>\n",
              "      <th>visual blurring</th>\n",
              "      <td>0.405024</td>\n",
              "      <td>-0.208092</td>\n",
              "      <td>0.235095</td>\n",
              "      <td>0.331250</td>\n",
              "      <td>0.068754</td>\n",
              "      <td>0.301043</td>\n",
              "      <td>0.293545</td>\n",
              "      <td>-0.148408</td>\n",
              "      <td>1.000000</td>\n",
              "      <td>0.291191</td>\n",
              "      <td>0.077095</td>\n",
              "      <td>0.177767</td>\n",
              "      <td>0.364156</td>\n",
              "      <td>0.412369</td>\n",
              "      <td>0.014604</td>\n",
              "      <td>0.109005</td>\n",
              "      <td>0.251300</td>\n",
              "    </tr>\n",
              "    <tr>\n",
              "      <th>Itching</th>\n",
              "      <td>0.293839</td>\n",
              "      <td>-0.052496</td>\n",
              "      <td>0.088289</td>\n",
              "      <td>0.128716</td>\n",
              "      <td>-0.004516</td>\n",
              "      <td>0.309440</td>\n",
              "      <td>0.144390</td>\n",
              "      <td>0.125336</td>\n",
              "      <td>0.291191</td>\n",
              "      <td>1.000000</td>\n",
              "      <td>0.114006</td>\n",
              "      <td>0.453316</td>\n",
              "      <td>0.116669</td>\n",
              "      <td>0.215575</td>\n",
              "      <td>0.266506</td>\n",
              "      <td>0.001894</td>\n",
              "      <td>-0.013384</td>\n",
              "    </tr>\n",
              "    <tr>\n",
              "      <th>Irritability</th>\n",
              "      <td>0.210919</td>\n",
              "      <td>-0.013735</td>\n",
              "      <td>0.237740</td>\n",
              "      <td>0.203446</td>\n",
              "      <td>0.140340</td>\n",
              "      <td>0.146698</td>\n",
              "      <td>0.239466</td>\n",
              "      <td>0.160551</td>\n",
              "      <td>0.077095</td>\n",
              "      <td>0.114006</td>\n",
              "      <td>1.000000</td>\n",
              "      <td>0.126877</td>\n",
              "      <td>0.151571</td>\n",
              "      <td>0.201637</td>\n",
              "      <td>0.043708</td>\n",
              "      <td>0.127801</td>\n",
              "      <td>0.299467</td>\n",
              "    </tr>\n",
              "    <tr>\n",
              "      <th>delayed healing</th>\n",
              "      <td>0.265017</td>\n",
              "      <td>-0.101978</td>\n",
              "      <td>0.149873</td>\n",
              "      <td>0.115691</td>\n",
              "      <td>0.088140</td>\n",
              "      <td>0.335507</td>\n",
              "      <td>0.263980</td>\n",
              "      <td>0.136111</td>\n",
              "      <td>0.177767</td>\n",
              "      <td>0.453316</td>\n",
              "      <td>0.126877</td>\n",
              "      <td>1.000000</td>\n",
              "      <td>0.187382</td>\n",
              "      <td>0.250078</td>\n",
              "      <td>0.290179</td>\n",
              "      <td>-0.066339</td>\n",
              "      <td>0.046980</td>\n",
              "    </tr>\n",
              "    <tr>\n",
              "      <th>partial paresis</th>\n",
              "      <td>0.236820</td>\n",
              "      <td>-0.332288</td>\n",
              "      <td>0.441664</td>\n",
              "      <td>0.442249</td>\n",
              "      <td>0.264014</td>\n",
              "      <td>0.272982</td>\n",
              "      <td>0.373569</td>\n",
              "      <td>-0.195612</td>\n",
              "      <td>0.364156</td>\n",
              "      <td>0.116669</td>\n",
              "      <td>0.151571</td>\n",
              "      <td>0.187382</td>\n",
              "      <td>1.000000</td>\n",
              "      <td>0.232634</td>\n",
              "      <td>-0.221576</td>\n",
              "      <td>-0.009401</td>\n",
              "      <td>0.432288</td>\n",
              "    </tr>\n",
              "    <tr>\n",
              "      <th>muscle stiffness</th>\n",
              "      <td>0.304223</td>\n",
              "      <td>-0.090542</td>\n",
              "      <td>0.152938</td>\n",
              "      <td>0.180723</td>\n",
              "      <td>0.109756</td>\n",
              "      <td>0.263164</td>\n",
              "      <td>0.320031</td>\n",
              "      <td>-0.100188</td>\n",
              "      <td>0.412369</td>\n",
              "      <td>0.215575</td>\n",
              "      <td>0.201637</td>\n",
              "      <td>0.250078</td>\n",
              "      <td>0.232634</td>\n",
              "      <td>1.000000</td>\n",
              "      <td>0.040758</td>\n",
              "      <td>0.158910</td>\n",
              "      <td>0.122474</td>\n",
              "    </tr>\n",
              "    <tr>\n",
              "      <th>Alopecia</th>\n",
              "      <td>0.326015</td>\n",
              "      <td>0.327871</td>\n",
              "      <td>-0.144192</td>\n",
              "      <td>-0.310964</td>\n",
              "      <td>-0.202727</td>\n",
              "      <td>0.090490</td>\n",
              "      <td>-0.053498</td>\n",
              "      <td>0.204847</td>\n",
              "      <td>0.014604</td>\n",
              "      <td>0.266506</td>\n",
              "      <td>0.043708</td>\n",
              "      <td>0.290179</td>\n",
              "      <td>-0.221576</td>\n",
              "      <td>0.040758</td>\n",
              "      <td>1.000000</td>\n",
              "      <td>0.029229</td>\n",
              "      <td>-0.267512</td>\n",
              "    </tr>\n",
              "    <tr>\n",
              "      <th>Obesity</th>\n",
              "      <td>0.149931</td>\n",
              "      <td>-0.005396</td>\n",
              "      <td>0.126567</td>\n",
              "      <td>0.098691</td>\n",
              "      <td>0.169294</td>\n",
              "      <td>0.045665</td>\n",
              "      <td>0.029785</td>\n",
              "      <td>0.053828</td>\n",
              "      <td>0.109005</td>\n",
              "      <td>0.001894</td>\n",
              "      <td>0.127801</td>\n",
              "      <td>-0.066339</td>\n",
              "      <td>-0.009401</td>\n",
              "      <td>0.158910</td>\n",
              "      <td>0.029229</td>\n",
              "      <td>1.000000</td>\n",
              "      <td>0.072173</td>\n",
              "    </tr>\n",
              "    <tr>\n",
              "      <th>class</th>\n",
              "      <td>0.106419</td>\n",
              "      <td>-0.449233</td>\n",
              "      <td>0.665922</td>\n",
              "      <td>0.648734</td>\n",
              "      <td>0.436568</td>\n",
              "      <td>0.243275</td>\n",
              "      <td>0.342504</td>\n",
              "      <td>0.110288</td>\n",
              "      <td>0.251300</td>\n",
              "      <td>-0.013384</td>\n",
              "      <td>0.299467</td>\n",
              "      <td>0.046980</td>\n",
              "      <td>0.432288</td>\n",
              "      <td>0.122474</td>\n",
              "      <td>-0.267512</td>\n",
              "      <td>0.072173</td>\n",
              "      <td>1.000000</td>\n",
              "    </tr>\n",
              "  </tbody>\n",
              "</table>\n",
              "</div>"
            ],
            "text/plain": [
              "                         Age    Gender  Polyuria  ...  Alopecia   Obesity     class\n",
              "Age                 1.000000  0.067835  0.209066  ...  0.326015  0.149931  0.106419\n",
              "Gender              0.067835  1.000000 -0.268894  ...  0.327871 -0.005396 -0.449233\n",
              "Polyuria            0.209066 -0.268894  1.000000  ... -0.144192  0.126567  0.665922\n",
              "Polydipsia          0.130718 -0.312262  0.598609  ... -0.310964  0.098691  0.648734\n",
              "sudden weight loss  0.056937 -0.281840  0.447207  ... -0.202727  0.169294  0.436568\n",
              "weakness            0.233688 -0.124490  0.263000  ...  0.090490  0.045665  0.243275\n",
              "Polyphagia          0.325301 -0.219968  0.373873  ... -0.053498  0.029785  0.342504\n",
              "Genital thrush      0.080612  0.208961  0.087273  ...  0.204847  0.053828  0.110288\n",
              "visual blurring     0.405024 -0.208092  0.235095  ...  0.014604  0.109005  0.251300\n",
              "Itching             0.293839 -0.052496  0.088289  ...  0.266506  0.001894 -0.013384\n",
              "Irritability        0.210919 -0.013735  0.237740  ...  0.043708  0.127801  0.299467\n",
              "delayed healing     0.265017 -0.101978  0.149873  ...  0.290179 -0.066339  0.046980\n",
              "partial paresis     0.236820 -0.332288  0.441664  ... -0.221576 -0.009401  0.432288\n",
              "muscle stiffness    0.304223 -0.090542  0.152938  ...  0.040758  0.158910  0.122474\n",
              "Alopecia            0.326015  0.327871 -0.144192  ...  1.000000  0.029229 -0.267512\n",
              "Obesity             0.149931 -0.005396  0.126567  ...  0.029229  1.000000  0.072173\n",
              "class               0.106419 -0.449233  0.665922  ... -0.267512  0.072173  1.000000\n",
              "\n",
              "[17 rows x 17 columns]"
            ]
          },
          "metadata": {
            "tags": []
          },
          "execution_count": 31
        }
      ]
    },
    {
      "cell_type": "code",
      "metadata": {
        "colab": {
          "base_uri": "https://localhost:8080/",
          "height": 693
        },
        "id": "wyXZwq1Vt6Bw",
        "outputId": "ec3da6bf-297b-41fc-ea85-befc5f8db41e"
      },
      "source": [
        "fig,ax = plt.subplots(figsize=(20,10))\r\n",
        "sns.heatmap(data.corr(),cmap=\"PiYG_r\",annot=True)"
      ],
      "execution_count": null,
      "outputs": [
        {
          "output_type": "execute_result",
          "data": {
            "text/plain": [
              "<matplotlib.axes._subplots.AxesSubplot at 0x7f5681876ac8>"
            ]
          },
          "metadata": {
            "tags": []
          },
          "execution_count": 62
        },
        {
          "output_type": "display_data",
          "data": {
            "image/png": "[encoded data removed]",
            "text/plain": [
              "<Figure size 1440x720 with 2 Axes>"
            ]
          },
          "metadata": {
            "tags": [],
            "needs_background": "light"
          }
        }
      ]
    },
    {
      "cell_type": "code",
      "metadata": {
        "id": "sieJ4lHhwt5h"
      },
      "source": [
        "#assign Class Values to Y_value variable and drop it from dataset\r\n",
        "Y_value=data['class'].values\r\n",
        "data.drop('class',axis=1,inplace=True)"
      ],
      "execution_count": null,
      "outputs": []
    },
    {
      "cell_type": "markdown",
      "metadata": {
        "id": "4N7LukhkyWXu"
      },
      "source": [
        "# Normalize Data Using Standard Scaler"
      ]
    },
    {
      "cell_type": "code",
      "metadata": {
        "colab": {
          "base_uri": "https://localhost:8080/",
          "height": 455
        },
        "id": "fN7HLqC4yVzO",
        "outputId": "ab305cb0-7d66-4b63-b01b-7f42a1ee6c35"
      },
      "source": [
        "from sklearn.preprocessing import StandardScaler\r\n",
        "scaler = StandardScaler()\r\n",
        "col_names=data.columns\r\n",
        "data[col_names] = scaler.fit_transform(data.values)\r\n",
        "data"
      ],
      "execution_count": null,
      "outputs": [
        {
          "output_type": "execute_result",
          "data": {
            "text/html": [
              "<div>\n",
              "<style scoped>\n",
              "    .dataframe tbody tr th:only-of-type {\n",
              "        vertical-align: middle;\n",
              "    }\n",
              "\n",
              "    .dataframe tbody tr th {\n",
              "        vertical-align: top;\n",
              "    }\n",
              "\n",
              "    .dataframe thead th {\n",
              "        text-align: right;\n",
              "    }\n",
              "</style>\n",
              "<table border=\"1\" class=\"dataframe\">\n",
              "  <thead>\n",
              "    <tr style=\"text-align: right;\">\n",
              "      <th></th>\n",
              "      <th>Age</th>\n",
              "      <th>Gender</th>\n",
              "      <th>Polyuria</th>\n",
              "      <th>Polydipsia</th>\n",
              "      <th>sudden weight loss</th>\n",
              "      <th>weakness</th>\n",
              "      <th>Polyphagia</th>\n",
              "      <th>Genital thrush</th>\n",
              "      <th>visual blurring</th>\n",
              "      <th>Itching</th>\n",
              "      <th>Irritability</th>\n",
              "      <th>delayed healing</th>\n",
              "      <th>partial paresis</th>\n",
              "      <th>muscle stiffness</th>\n",
              "      <th>Alopecia</th>\n",
              "      <th>Obesity</th>\n",
              "    </tr>\n",
              "  </thead>\n",
              "  <tbody>\n",
              "    <tr>\n",
              "      <th>0</th>\n",
              "      <td>-0.673217</td>\n",
              "      <td>0.765092</td>\n",
              "      <td>-0.992337</td>\n",
              "      <td>1.109847</td>\n",
              "      <td>-0.846269</td>\n",
              "      <td>0.839594</td>\n",
              "      <td>-0.915126</td>\n",
              "      <td>-0.535844</td>\n",
              "      <td>-0.901025</td>\n",
              "      <td>1.027295</td>\n",
              "      <td>-0.565506</td>\n",
              "      <td>1.084312</td>\n",
              "      <td>-0.869918</td>\n",
              "      <td>1.290994</td>\n",
              "      <td>1.380227</td>\n",
              "      <td>2.215647</td>\n",
              "    </tr>\n",
              "    <tr>\n",
              "      <th>1</th>\n",
              "      <td>0.859575</td>\n",
              "      <td>0.765092</td>\n",
              "      <td>-0.992337</td>\n",
              "      <td>-0.901025</td>\n",
              "      <td>-0.846269</td>\n",
              "      <td>0.839594</td>\n",
              "      <td>-0.915126</td>\n",
              "      <td>-0.535844</td>\n",
              "      <td>1.109847</td>\n",
              "      <td>-0.973430</td>\n",
              "      <td>-0.565506</td>\n",
              "      <td>-0.922244</td>\n",
              "      <td>1.149534</td>\n",
              "      <td>-0.774597</td>\n",
              "      <td>1.380227</td>\n",
              "      <td>-0.451335</td>\n",
              "    </tr>\n",
              "    <tr>\n",
              "      <th>2</th>\n",
              "      <td>-0.588061</td>\n",
              "      <td>0.765092</td>\n",
              "      <td>1.007722</td>\n",
              "      <td>-0.901025</td>\n",
              "      <td>-0.846269</td>\n",
              "      <td>0.839594</td>\n",
              "      <td>1.092746</td>\n",
              "      <td>-0.535844</td>\n",
              "      <td>-0.901025</td>\n",
              "      <td>1.027295</td>\n",
              "      <td>-0.565506</td>\n",
              "      <td>1.084312</td>\n",
              "      <td>-0.869918</td>\n",
              "      <td>1.290994</td>\n",
              "      <td>1.380227</td>\n",
              "      <td>-0.451335</td>\n",
              "    </tr>\n",
              "    <tr>\n",
              "      <th>3</th>\n",
              "      <td>-0.247441</td>\n",
              "      <td>0.765092</td>\n",
              "      <td>-0.992337</td>\n",
              "      <td>-0.901025</td>\n",
              "      <td>1.181657</td>\n",
              "      <td>0.839594</td>\n",
              "      <td>1.092746</td>\n",
              "      <td>1.866215</td>\n",
              "      <td>-0.901025</td>\n",
              "      <td>1.027295</td>\n",
              "      <td>-0.565506</td>\n",
              "      <td>1.084312</td>\n",
              "      <td>-0.869918</td>\n",
              "      <td>-0.774597</td>\n",
              "      <td>-0.724518</td>\n",
              "      <td>-0.451335</td>\n",
              "    </tr>\n",
              "    <tr>\n",
              "      <th>4</th>\n",
              "      <td>1.029885</td>\n",
              "      <td>0.765092</td>\n",
              "      <td>1.007722</td>\n",
              "      <td>1.109847</td>\n",
              "      <td>1.181657</td>\n",
              "      <td>0.839594</td>\n",
              "      <td>1.092746</td>\n",
              "      <td>-0.535844</td>\n",
              "      <td>1.109847</td>\n",
              "      <td>1.027295</td>\n",
              "      <td>1.768328</td>\n",
              "      <td>1.084312</td>\n",
              "      <td>1.149534</td>\n",
              "      <td>1.290994</td>\n",
              "      <td>1.380227</td>\n",
              "      <td>2.215647</td>\n",
              "    </tr>\n",
              "    <tr>\n",
              "      <th>...</th>\n",
              "      <td>...</td>\n",
              "      <td>...</td>\n",
              "      <td>...</td>\n",
              "      <td>...</td>\n",
              "      <td>...</td>\n",
              "      <td>...</td>\n",
              "      <td>...</td>\n",
              "      <td>...</td>\n",
              "      <td>...</td>\n",
              "      <td>...</td>\n",
              "      <td>...</td>\n",
              "      <td>...</td>\n",
              "      <td>...</td>\n",
              "      <td>...</td>\n",
              "      <td>...</td>\n",
              "      <td>...</td>\n",
              "    </tr>\n",
              "    <tr>\n",
              "      <th>515</th>\n",
              "      <td>-0.758372</td>\n",
              "      <td>-1.307032</td>\n",
              "      <td>1.007722</td>\n",
              "      <td>1.109847</td>\n",
              "      <td>1.181657</td>\n",
              "      <td>-1.191052</td>\n",
              "      <td>1.092746</td>\n",
              "      <td>-0.535844</td>\n",
              "      <td>-0.901025</td>\n",
              "      <td>1.027295</td>\n",
              "      <td>-0.565506</td>\n",
              "      <td>1.084312</td>\n",
              "      <td>1.149534</td>\n",
              "      <td>-0.774597</td>\n",
              "      <td>-0.724518</td>\n",
              "      <td>-0.451335</td>\n",
              "    </tr>\n",
              "    <tr>\n",
              "      <th>516</th>\n",
              "      <td>0.008024</td>\n",
              "      <td>-1.307032</td>\n",
              "      <td>1.007722</td>\n",
              "      <td>1.109847</td>\n",
              "      <td>1.181657</td>\n",
              "      <td>0.839594</td>\n",
              "      <td>1.092746</td>\n",
              "      <td>-0.535844</td>\n",
              "      <td>-0.901025</td>\n",
              "      <td>1.027295</td>\n",
              "      <td>1.768328</td>\n",
              "      <td>1.084312</td>\n",
              "      <td>1.149534</td>\n",
              "      <td>-0.774597</td>\n",
              "      <td>-0.724518</td>\n",
              "      <td>-0.451335</td>\n",
              "    </tr>\n",
              "    <tr>\n",
              "      <th>517</th>\n",
              "      <td>0.859575</td>\n",
              "      <td>-1.307032</td>\n",
              "      <td>1.007722</td>\n",
              "      <td>1.109847</td>\n",
              "      <td>1.181657</td>\n",
              "      <td>0.839594</td>\n",
              "      <td>1.092746</td>\n",
              "      <td>-0.535844</td>\n",
              "      <td>1.109847</td>\n",
              "      <td>-0.973430</td>\n",
              "      <td>-0.565506</td>\n",
              "      <td>-0.922244</td>\n",
              "      <td>1.149534</td>\n",
              "      <td>1.290994</td>\n",
              "      <td>-0.724518</td>\n",
              "      <td>2.215647</td>\n",
              "    </tr>\n",
              "    <tr>\n",
              "      <th>518</th>\n",
              "      <td>-1.354457</td>\n",
              "      <td>-1.307032</td>\n",
              "      <td>-0.992337</td>\n",
              "      <td>-0.901025</td>\n",
              "      <td>-0.846269</td>\n",
              "      <td>0.839594</td>\n",
              "      <td>-0.915126</td>\n",
              "      <td>-0.535844</td>\n",
              "      <td>1.109847</td>\n",
              "      <td>1.027295</td>\n",
              "      <td>-0.565506</td>\n",
              "      <td>1.084312</td>\n",
              "      <td>-0.869918</td>\n",
              "      <td>-0.774597</td>\n",
              "      <td>1.380227</td>\n",
              "      <td>-0.451335</td>\n",
              "    </tr>\n",
              "    <tr>\n",
              "      <th>519</th>\n",
              "      <td>-0.502906</td>\n",
              "      <td>0.765092</td>\n",
              "      <td>-0.992337</td>\n",
              "      <td>-0.901025</td>\n",
              "      <td>-0.846269</td>\n",
              "      <td>-1.191052</td>\n",
              "      <td>-0.915126</td>\n",
              "      <td>-0.535844</td>\n",
              "      <td>-0.901025</td>\n",
              "      <td>-0.973430</td>\n",
              "      <td>-0.565506</td>\n",
              "      <td>-0.922244</td>\n",
              "      <td>-0.869918</td>\n",
              "      <td>-0.774597</td>\n",
              "      <td>-0.724518</td>\n",
              "      <td>-0.451335</td>\n",
              "    </tr>\n",
              "  </tbody>\n",
              "</table>\n",
              "<p>520 rows × 16 columns</p>\n",
              "</div>"
            ],
            "text/plain": [
              "          Age    Gender  Polyuria  ...  muscle stiffness  Alopecia   Obesity\n",
              "0   -0.673217  0.765092 -0.992337  ...          1.290994  1.380227  2.215647\n",
              "1    0.859575  0.765092 -0.992337  ...         -0.774597  1.380227 -0.451335\n",
              "2   -0.588061  0.765092  1.007722  ...          1.290994  1.380227 -0.451335\n",
              "3   -0.247441  0.765092 -0.992337  ...         -0.774597 -0.724518 -0.451335\n",
              "4    1.029885  0.765092  1.007722  ...          1.290994  1.380227  2.215647\n",
              "..        ...       ...       ...  ...               ...       ...       ...\n",
              "515 -0.758372 -1.307032  1.007722  ...         -0.774597 -0.724518 -0.451335\n",
              "516  0.008024 -1.307032  1.007722  ...         -0.774597 -0.724518 -0.451335\n",
              "517  0.859575 -1.307032  1.007722  ...          1.290994 -0.724518  2.215647\n",
              "518 -1.354457 -1.307032 -0.992337  ...         -0.774597  1.380227 -0.451335\n",
              "519 -0.502906  0.765092 -0.992337  ...         -0.774597 -0.724518 -0.451335\n",
              "\n",
              "[520 rows x 16 columns]"
            ]
          },
          "metadata": {
            "tags": []
          },
          "execution_count": 34
        }
      ]
    },
    {
      "cell_type": "code",
      "metadata": {
        "colab": {
          "base_uri": "https://localhost:8080/",
          "height": 405
        },
        "id": "dSgGzgNJyLPy",
        "outputId": "39e039cc-89af-41be-e1a2-f9f4084dadcd"
      },
      "source": [
        "data.describe()"
      ],
      "execution_count": null,
      "outputs": [
        {
          "output_type": "execute_result",
          "data": {
            "text/html": [
              "<div>\n",
              "<style scoped>\n",
              "    .dataframe tbody tr th:only-of-type {\n",
              "        vertical-align: middle;\n",
              "    }\n",
              "\n",
              "    .dataframe tbody tr th {\n",
              "        vertical-align: top;\n",
              "    }\n",
              "\n",
              "    .dataframe thead th {\n",
              "        text-align: right;\n",
              "    }\n",
              "</style>\n",
              "<table border=\"1\" class=\"dataframe\">\n",
              "  <thead>\n",
              "    <tr style=\"text-align: right;\">\n",
              "      <th></th>\n",
              "      <th>Age</th>\n",
              "      <th>Gender</th>\n",
              "      <th>Polyuria</th>\n",
              "      <th>Polydipsia</th>\n",
              "      <th>sudden weight loss</th>\n",
              "      <th>weakness</th>\n",
              "      <th>Polyphagia</th>\n",
              "      <th>Genital thrush</th>\n",
              "      <th>visual blurring</th>\n",
              "      <th>Itching</th>\n",
              "      <th>Irritability</th>\n",
              "      <th>delayed healing</th>\n",
              "      <th>partial paresis</th>\n",
              "      <th>muscle stiffness</th>\n",
              "      <th>Alopecia</th>\n",
              "      <th>Obesity</th>\n",
              "    </tr>\n",
              "  </thead>\n",
              "  <tbody>\n",
              "    <tr>\n",
              "      <th>count</th>\n",
              "      <td>5.200000e+02</td>\n",
              "      <td>5.200000e+02</td>\n",
              "      <td>5.200000e+02</td>\n",
              "      <td>5.200000e+02</td>\n",
              "      <td>5.200000e+02</td>\n",
              "      <td>5.200000e+02</td>\n",
              "      <td>5.200000e+02</td>\n",
              "      <td>5.200000e+02</td>\n",
              "      <td>5.200000e+02</td>\n",
              "      <td>5.200000e+02</td>\n",
              "      <td>5.200000e+02</td>\n",
              "      <td>5.200000e+02</td>\n",
              "      <td>5.200000e+02</td>\n",
              "      <td>5.200000e+02</td>\n",
              "      <td>5.200000e+02</td>\n",
              "      <td>5.200000e+02</td>\n",
              "    </tr>\n",
              "    <tr>\n",
              "      <th>mean</th>\n",
              "      <td>-5.166807e-17</td>\n",
              "      <td>-7.045646e-17</td>\n",
              "      <td>1.099975e-15</td>\n",
              "      <td>-1.190928e-15</td>\n",
              "      <td>-3.975452e-16</td>\n",
              "      <td>5.734729e-16</td>\n",
              "      <td>-7.015755e-16</td>\n",
              "      <td>-1.985591e-16</td>\n",
              "      <td>-1.921540e-18</td>\n",
              "      <td>6.533235e-17</td>\n",
              "      <td>3.454502e-16</td>\n",
              "      <td>-3.036033e-16</td>\n",
              "      <td>1.298534e-15</td>\n",
              "      <td>8.070467e-17</td>\n",
              "      <td>2.070993e-16</td>\n",
              "      <td>-1.509476e-16</td>\n",
              "    </tr>\n",
              "    <tr>\n",
              "      <th>std</th>\n",
              "      <td>1.000963e+00</td>\n",
              "      <td>1.000963e+00</td>\n",
              "      <td>1.000963e+00</td>\n",
              "      <td>1.000963e+00</td>\n",
              "      <td>1.000963e+00</td>\n",
              "      <td>1.000963e+00</td>\n",
              "      <td>1.000963e+00</td>\n",
              "      <td>1.000963e+00</td>\n",
              "      <td>1.000963e+00</td>\n",
              "      <td>1.000963e+00</td>\n",
              "      <td>1.000963e+00</td>\n",
              "      <td>1.000963e+00</td>\n",
              "      <td>1.000963e+00</td>\n",
              "      <td>1.000963e+00</td>\n",
              "      <td>1.000963e+00</td>\n",
              "      <td>1.000963e+00</td>\n",
              "    </tr>\n",
              "    <tr>\n",
              "      <th>min</th>\n",
              "      <td>-2.035698e+00</td>\n",
              "      <td>-1.307032e+00</td>\n",
              "      <td>-9.923371e-01</td>\n",
              "      <td>-9.010254e-01</td>\n",
              "      <td>-8.462692e-01</td>\n",
              "      <td>-1.191052e+00</td>\n",
              "      <td>-9.151261e-01</td>\n",
              "      <td>-5.358439e-01</td>\n",
              "      <td>-9.010254e-01</td>\n",
              "      <td>-9.734298e-01</td>\n",
              "      <td>-5.655059e-01</td>\n",
              "      <td>-9.222439e-01</td>\n",
              "      <td>-8.699177e-01</td>\n",
              "      <td>-7.745967e-01</td>\n",
              "      <td>-7.245182e-01</td>\n",
              "      <td>-4.513355e-01</td>\n",
              "    </tr>\n",
              "    <tr>\n",
              "      <th>25%</th>\n",
              "      <td>-7.583716e-01</td>\n",
              "      <td>-1.307032e+00</td>\n",
              "      <td>-9.923371e-01</td>\n",
              "      <td>-9.010254e-01</td>\n",
              "      <td>-8.462692e-01</td>\n",
              "      <td>-1.191052e+00</td>\n",
              "      <td>-9.151261e-01</td>\n",
              "      <td>-5.358439e-01</td>\n",
              "      <td>-9.010254e-01</td>\n",
              "      <td>-9.734298e-01</td>\n",
              "      <td>-5.655059e-01</td>\n",
              "      <td>-9.222439e-01</td>\n",
              "      <td>-8.699177e-01</td>\n",
              "      <td>-7.745967e-01</td>\n",
              "      <td>-7.245182e-01</td>\n",
              "      <td>-4.513355e-01</td>\n",
              "    </tr>\n",
              "    <tr>\n",
              "      <th>50%</th>\n",
              "      <td>-3.455332e-02</td>\n",
              "      <td>7.650921e-01</td>\n",
              "      <td>-9.923371e-01</td>\n",
              "      <td>-9.010254e-01</td>\n",
              "      <td>-8.462692e-01</td>\n",
              "      <td>8.395940e-01</td>\n",
              "      <td>-9.151261e-01</td>\n",
              "      <td>-5.358439e-01</td>\n",
              "      <td>-9.010254e-01</td>\n",
              "      <td>-9.734298e-01</td>\n",
              "      <td>-5.655059e-01</td>\n",
              "      <td>-9.222439e-01</td>\n",
              "      <td>-8.699177e-01</td>\n",
              "      <td>-7.745967e-01</td>\n",
              "      <td>-7.245182e-01</td>\n",
              "      <td>-4.513355e-01</td>\n",
              "    </tr>\n",
              "    <tr>\n",
              "      <th>75%</th>\n",
              "      <td>7.744201e-01</td>\n",
              "      <td>7.650921e-01</td>\n",
              "      <td>1.007722e+00</td>\n",
              "      <td>1.109847e+00</td>\n",
              "      <td>1.181657e+00</td>\n",
              "      <td>8.395940e-01</td>\n",
              "      <td>1.092746e+00</td>\n",
              "      <td>-5.358439e-01</td>\n",
              "      <td>1.109847e+00</td>\n",
              "      <td>1.027295e+00</td>\n",
              "      <td>-5.655059e-01</td>\n",
              "      <td>1.084312e+00</td>\n",
              "      <td>1.149534e+00</td>\n",
              "      <td>1.290994e+00</td>\n",
              "      <td>1.380227e+00</td>\n",
              "      <td>-4.513355e-01</td>\n",
              "    </tr>\n",
              "    <tr>\n",
              "      <th>max</th>\n",
              "      <td>2.222057e+00</td>\n",
              "      <td>7.650921e-01</td>\n",
              "      <td>1.007722e+00</td>\n",
              "      <td>1.109847e+00</td>\n",
              "      <td>1.181657e+00</td>\n",
              "      <td>8.395940e-01</td>\n",
              "      <td>1.092746e+00</td>\n",
              "      <td>1.866215e+00</td>\n",
              "      <td>1.109847e+00</td>\n",
              "      <td>1.027295e+00</td>\n",
              "      <td>1.768328e+00</td>\n",
              "      <td>1.084312e+00</td>\n",
              "      <td>1.149534e+00</td>\n",
              "      <td>1.290994e+00</td>\n",
              "      <td>1.380227e+00</td>\n",
              "      <td>2.215647e+00</td>\n",
              "    </tr>\n",
              "  </tbody>\n",
              "</table>\n",
              "</div>"
            ],
            "text/plain": [
              "                Age        Gender  ...      Alopecia       Obesity\n",
              "count  5.200000e+02  5.200000e+02  ...  5.200000e+02  5.200000e+02\n",
              "mean  -5.166807e-17 -7.045646e-17  ...  2.070993e-16 -1.509476e-16\n",
              "std    1.000963e+00  1.000963e+00  ...  1.000963e+00  1.000963e+00\n",
              "min   -2.035698e+00 -1.307032e+00  ... -7.245182e-01 -4.513355e-01\n",
              "25%   -7.583716e-01 -1.307032e+00  ... -7.245182e-01 -4.513355e-01\n",
              "50%   -3.455332e-02  7.650921e-01  ... -7.245182e-01 -4.513355e-01\n",
              "75%    7.744201e-01  7.650921e-01  ...  1.380227e+00 -4.513355e-01\n",
              "max    2.222057e+00  7.650921e-01  ...  1.380227e+00  2.215647e+00\n",
              "\n",
              "[8 rows x 16 columns]"
            ]
          },
          "metadata": {
            "tags": []
          },
          "execution_count": 35
        }
      ]
    },
    {
      "cell_type": "code",
      "metadata": {
        "id": "9MO1YsW1yuY2"
      },
      "source": [
        "# convert dataset into matrix and assign it to X_value variable \r\n",
        "X_value=np.matrix(data)"
      ],
      "execution_count": null,
      "outputs": []
    },
    {
      "cell_type": "markdown",
      "metadata": {
        "id": "167ToIsCy4sl"
      },
      "source": [
        "# Split dataset into test and train dataset using sklearn model selection"
      ]
    },
    {
      "cell_type": "code",
      "metadata": {
        "id": "vr7NRmdHyzgy"
      },
      "source": [
        "from sklearn.model_selection import train_test_split\r\n",
        "X_train,X_test,Y_train,Y_test = train_test_split(X_value,Y_value,train_size = 0.85,random_state=39)"
      ],
      "execution_count": null,
      "outputs": []
    },
    {
      "cell_type": "code",
      "metadata": {
        "colab": {
          "base_uri": "https://localhost:8080/"
        },
        "id": "ZJgKbZNyOvJj",
        "outputId": "f2b6140c-4c6c-4b29-a458-4394ab42cf92"
      },
      "source": [
        "X_train.shape,X_test.shape,Y_train.shape,Y_test.shape"
      ],
      "execution_count": null,
      "outputs": [
        {
          "output_type": "execute_result",
          "data": {
            "text/plain": [
              "((442, 16), (78, 16), (442,), (78,))"
            ]
          },
          "metadata": {
            "tags": []
          },
          "execution_count": 38
        }
      ]
    },
    {
      "cell_type": "markdown",
      "metadata": {
        "id": "Tr1LGYXnD1GQ"
      },
      "source": [
        "# **Artificial Neural Network For Training and Preparing Model**"
      ]
    },
    {
      "cell_type": "code",
      "metadata": {
        "id": "yq_th0kNNqvv"
      },
      "source": [
        "from tensorflow import keras\r\n",
        "from tensorflow.keras.models import Sequential\r\n",
        "from tensorflow.keras.layers import Dense,Dropout"
      ],
      "execution_count": null,
      "outputs": []
    },
    {
      "cell_type": "code",
      "metadata": {
        "id": "_SEykoeS9YPv"
      },
      "source": [
        "Y_train=keras.utils.to_categorical(Y_train,2)\r\n",
        "Y_test=keras.utils.to_categorical(Y_test,2)"
      ],
      "execution_count": null,
      "outputs": []
    },
    {
      "cell_type": "code",
      "metadata": {
        "id": "aeh_PUAfO63r"
      },
      "source": [
        "model = Sequential()"
      ],
      "execution_count": null,
      "outputs": []
    },
    {
      "cell_type": "code",
      "metadata": {
        "id": "d-0oT02SPEHA"
      },
      "source": [
        "model.add(Dense(units=128,activation='relu',input_shape=(16,)))\r\n",
        "model.add(Dropout(0.2))\r\n",
        "model.add(Dense(units=64,activation='relu'))\r\n",
        "model.add(Dropout(0.2))\r\n",
        "model.add(Dense(units=16,activation='relu'))\r\n",
        "model.add(Dropout(0.2))\r\n",
        "model.add(Dense(units=4,activation='relu'))\r\n",
        "model.add(Dropout(0.2))\r\n",
        "model.add(Dense(units=2,activation='softmax'))"
      ],
      "execution_count": null,
      "outputs": []
    },
    {
      "cell_type": "code",
      "metadata": {
        "id": "rRg-ftrSP9As"
      },
      "source": [
        "model.compile(optimizer=\"Adam\",loss=\"categorical_crossentropy\",metrics=['accuracy'])"
      ],
      "execution_count": null,
      "outputs": []
    },
    {
      "cell_type": "code",
      "metadata": {
        "colab": {
          "base_uri": "https://localhost:8080/"
        },
        "id": "VGDAX2KxQLNK",
        "outputId": "6d1199e1-71ee-46e8-d1e5-064c8a8e72bd"
      },
      "source": [
        "my_model=model.fit(X_train,Y_train,batch_size=32,validation_data=(X_test,Y_test),epochs=100)"
      ],
      "execution_count": null,
      "outputs": [
        {
          "output_type": "stream",
          "text": [
            "Epoch 1/100\n",
            "14/14 [==============================] - 1s 15ms/step - loss: 0.8642 - accuracy: 0.4299 - val_loss: 0.6332 - val_accuracy: 0.7949\n",
            "Epoch 2/100\n",
            "14/14 [==============================] - 0s 5ms/step - loss: 0.6260 - accuracy: 0.6576 - val_loss: 0.5273 - val_accuracy: 0.8846\n",
            "Epoch 3/100\n",
            "14/14 [==============================] - 0s 5ms/step - loss: 0.5522 - accuracy: 0.6924 - val_loss: 0.3796 - val_accuracy: 0.8974\n",
            "Epoch 4/100\n",
            "14/14 [==============================] - 0s 5ms/step - loss: 0.4575 - accuracy: 0.7565 - val_loss: 0.2826 - val_accuracy: 0.9103\n",
            "Epoch 5/100\n",
            "14/14 [==============================] - 0s 5ms/step - loss: 0.3809 - accuracy: 0.8075 - val_loss: 0.2221 - val_accuracy: 0.9359\n",
            "Epoch 6/100\n",
            "14/14 [==============================] - 0s 5ms/step - loss: 0.3383 - accuracy: 0.8134 - val_loss: 0.1769 - val_accuracy: 0.9231\n",
            "Epoch 7/100\n",
            "14/14 [==============================] - 0s 5ms/step - loss: 0.2656 - accuracy: 0.8612 - val_loss: 0.1547 - val_accuracy: 0.9359\n",
            "Epoch 8/100\n",
            "14/14 [==============================] - 0s 5ms/step - loss: 0.2840 - accuracy: 0.8436 - val_loss: 0.1407 - val_accuracy: 0.9231\n",
            "Epoch 9/100\n",
            "14/14 [==============================] - 0s 5ms/step - loss: 0.2594 - accuracy: 0.8848 - val_loss: 0.1256 - val_accuracy: 0.9231\n",
            "Epoch 10/100\n",
            "14/14 [==============================] - 0s 5ms/step - loss: 0.2508 - accuracy: 0.8762 - val_loss: 0.1233 - val_accuracy: 0.9359\n",
            "Epoch 11/100\n",
            "14/14 [==============================] - 0s 6ms/step - loss: 0.2532 - accuracy: 0.8820 - val_loss: 0.1147 - val_accuracy: 0.9487\n",
            "Epoch 12/100\n",
            "14/14 [==============================] - 0s 6ms/step - loss: 0.2230 - accuracy: 0.8783 - val_loss: 0.1060 - val_accuracy: 0.9359\n",
            "Epoch 13/100\n",
            "14/14 [==============================] - 0s 6ms/step - loss: 0.2058 - accuracy: 0.9330 - val_loss: 0.0818 - val_accuracy: 0.9487\n",
            "Epoch 14/100\n",
            "14/14 [==============================] - 0s 5ms/step - loss: 0.2168 - accuracy: 0.9394 - val_loss: 0.0686 - val_accuracy: 0.9744\n",
            "Epoch 15/100\n",
            "14/14 [==============================] - 0s 5ms/step - loss: 0.1577 - accuracy: 0.9685 - val_loss: 0.0642 - val_accuracy: 0.9615\n",
            "Epoch 16/100\n",
            "14/14 [==============================] - 0s 5ms/step - loss: 0.1665 - accuracy: 0.9471 - val_loss: 0.0595 - val_accuracy: 0.9744\n",
            "Epoch 17/100\n",
            "14/14 [==============================] - 0s 18ms/step - loss: 0.1915 - accuracy: 0.9301 - val_loss: 0.0527 - val_accuracy: 0.9872\n",
            "Epoch 18/100\n",
            "14/14 [==============================] - 0s 5ms/step - loss: 0.1570 - accuracy: 0.9517 - val_loss: 0.0620 - val_accuracy: 0.9615\n",
            "Epoch 19/100\n",
            "14/14 [==============================] - 0s 6ms/step - loss: 0.1189 - accuracy: 0.9809 - val_loss: 0.0568 - val_accuracy: 0.9744\n",
            "Epoch 20/100\n",
            "14/14 [==============================] - 0s 5ms/step - loss: 0.1461 - accuracy: 0.9541 - val_loss: 0.0374 - val_accuracy: 0.9872\n",
            "Epoch 21/100\n",
            "14/14 [==============================] - 0s 5ms/step - loss: 0.1406 - accuracy: 0.9636 - val_loss: 0.0374 - val_accuracy: 0.9872\n",
            "Epoch 22/100\n",
            "14/14 [==============================] - 0s 5ms/step - loss: 0.1602 - accuracy: 0.9385 - val_loss: 0.0433 - val_accuracy: 0.9872\n",
            "Epoch 23/100\n",
            "14/14 [==============================] - 0s 5ms/step - loss: 0.1502 - accuracy: 0.9541 - val_loss: 0.0441 - val_accuracy: 0.9744\n",
            "Epoch 24/100\n",
            "14/14 [==============================] - 0s 5ms/step - loss: 0.1276 - accuracy: 0.9670 - val_loss: 0.0386 - val_accuracy: 0.9872\n",
            "Epoch 25/100\n",
            "14/14 [==============================] - 0s 5ms/step - loss: 0.1074 - accuracy: 0.9869 - val_loss: 0.0335 - val_accuracy: 0.9872\n",
            "Epoch 26/100\n",
            "14/14 [==============================] - 0s 5ms/step - loss: 0.1475 - accuracy: 0.9636 - val_loss: 0.0368 - val_accuracy: 0.9744\n",
            "Epoch 27/100\n",
            "14/14 [==============================] - 0s 5ms/step - loss: 0.1330 - accuracy: 0.9645 - val_loss: 0.0314 - val_accuracy: 0.9872\n",
            "Epoch 28/100\n",
            "14/14 [==============================] - 0s 5ms/step - loss: 0.1041 - accuracy: 0.9803 - val_loss: 0.0313 - val_accuracy: 0.9872\n",
            "Epoch 29/100\n",
            "14/14 [==============================] - 0s 5ms/step - loss: 0.1259 - accuracy: 0.9566 - val_loss: 0.0394 - val_accuracy: 0.9744\n",
            "Epoch 30/100\n",
            "14/14 [==============================] - 0s 5ms/step - loss: 0.1004 - accuracy: 0.9789 - val_loss: 0.0557 - val_accuracy: 0.9744\n",
            "Epoch 31/100\n",
            "14/14 [==============================] - 0s 5ms/step - loss: 0.1093 - accuracy: 0.9679 - val_loss: 0.0382 - val_accuracy: 0.9872\n",
            "Epoch 32/100\n",
            "14/14 [==============================] - 0s 5ms/step - loss: 0.1091 - accuracy: 0.9727 - val_loss: 0.0326 - val_accuracy: 0.9872\n",
            "Epoch 33/100\n",
            "14/14 [==============================] - 0s 5ms/step - loss: 0.1007 - accuracy: 0.9857 - val_loss: 0.0372 - val_accuracy: 0.9872\n",
            "Epoch 34/100\n",
            "14/14 [==============================] - 0s 5ms/step - loss: 0.1164 - accuracy: 0.9689 - val_loss: 0.0514 - val_accuracy: 0.9744\n",
            "Epoch 35/100\n",
            "14/14 [==============================] - 0s 5ms/step - loss: 0.0951 - accuracy: 0.9694 - val_loss: 0.0477 - val_accuracy: 0.9744\n",
            "Epoch 36/100\n",
            "14/14 [==============================] - 0s 5ms/step - loss: 0.0849 - accuracy: 0.9774 - val_loss: 0.0310 - val_accuracy: 0.9872\n",
            "Epoch 37/100\n",
            "14/14 [==============================] - 0s 5ms/step - loss: 0.1008 - accuracy: 0.9743 - val_loss: 0.0273 - val_accuracy: 0.9872\n",
            "Epoch 38/100\n",
            "14/14 [==============================] - 0s 5ms/step - loss: 0.1016 - accuracy: 0.9800 - val_loss: 0.0337 - val_accuracy: 0.9872\n",
            "Epoch 39/100\n",
            "14/14 [==============================] - 0s 5ms/step - loss: 0.1095 - accuracy: 0.9745 - val_loss: 0.0287 - val_accuracy: 0.9872\n",
            "Epoch 40/100\n",
            "14/14 [==============================] - 0s 5ms/step - loss: 0.0990 - accuracy: 0.9825 - val_loss: 0.0603 - val_accuracy: 0.9744\n",
            "Epoch 41/100\n",
            "14/14 [==============================] - 0s 5ms/step - loss: 0.0994 - accuracy: 0.9824 - val_loss: 0.0648 - val_accuracy: 0.9744\n",
            "Epoch 42/100\n",
            "14/14 [==============================] - 0s 5ms/step - loss: 0.1115 - accuracy: 0.9629 - val_loss: 0.0494 - val_accuracy: 0.9744\n",
            "Epoch 43/100\n",
            "14/14 [==============================] - 0s 5ms/step - loss: 0.1089 - accuracy: 0.9642 - val_loss: 0.0427 - val_accuracy: 0.9744\n",
            "Epoch 44/100\n",
            "14/14 [==============================] - 0s 5ms/step - loss: 0.1091 - accuracy: 0.9845 - val_loss: 0.0275 - val_accuracy: 0.9872\n",
            "Epoch 45/100\n",
            "14/14 [==============================] - 0s 5ms/step - loss: 0.1009 - accuracy: 0.9727 - val_loss: 0.0309 - val_accuracy: 0.9872\n",
            "Epoch 46/100\n",
            "14/14 [==============================] - 0s 5ms/step - loss: 0.0756 - accuracy: 0.9936 - val_loss: 0.0408 - val_accuracy: 0.9872\n",
            "Epoch 47/100\n",
            "14/14 [==============================] - 0s 5ms/step - loss: 0.0746 - accuracy: 0.9902 - val_loss: 0.0470 - val_accuracy: 0.9744\n",
            "Epoch 48/100\n",
            "14/14 [==============================] - 0s 5ms/step - loss: 0.0599 - accuracy: 0.9925 - val_loss: 0.0353 - val_accuracy: 0.9872\n",
            "Epoch 49/100\n",
            "14/14 [==============================] - 0s 5ms/step - loss: 0.0761 - accuracy: 0.9910 - val_loss: 0.0312 - val_accuracy: 0.9872\n",
            "Epoch 50/100\n",
            "14/14 [==============================] - 0s 5ms/step - loss: 0.0787 - accuracy: 0.9884 - val_loss: 0.0389 - val_accuracy: 0.9744\n",
            "Epoch 51/100\n",
            "14/14 [==============================] - 0s 5ms/step - loss: 0.0599 - accuracy: 0.9961 - val_loss: 0.0469 - val_accuracy: 0.9744\n",
            "Epoch 52/100\n",
            "14/14 [==============================] - 0s 5ms/step - loss: 0.0701 - accuracy: 0.9838 - val_loss: 0.0435 - val_accuracy: 0.9744\n",
            "Epoch 53/100\n",
            "14/14 [==============================] - 0s 5ms/step - loss: 0.0697 - accuracy: 0.9904 - val_loss: 0.0364 - val_accuracy: 0.9744\n",
            "Epoch 54/100\n",
            "14/14 [==============================] - 0s 5ms/step - loss: 0.0628 - accuracy: 0.9925 - val_loss: 0.0354 - val_accuracy: 0.9744\n",
            "Epoch 55/100\n",
            "14/14 [==============================] - 0s 5ms/step - loss: 0.0537 - accuracy: 0.9941 - val_loss: 0.0291 - val_accuracy: 0.9872\n",
            "Epoch 56/100\n",
            "14/14 [==============================] - 0s 5ms/step - loss: 0.0610 - accuracy: 0.9868 - val_loss: 0.0266 - val_accuracy: 0.9872\n",
            "Epoch 57/100\n",
            "14/14 [==============================] - 0s 5ms/step - loss: 0.0698 - accuracy: 0.9841 - val_loss: 0.0273 - val_accuracy: 0.9872\n",
            "Epoch 58/100\n",
            "14/14 [==============================] - 0s 16ms/step - loss: 0.0538 - accuracy: 0.9931 - val_loss: 0.0280 - val_accuracy: 0.9872\n",
            "Epoch 59/100\n",
            "14/14 [==============================] - 0s 5ms/step - loss: 0.0585 - accuracy: 0.9917 - val_loss: 0.0250 - val_accuracy: 0.9872\n",
            "Epoch 60/100\n",
            "14/14 [==============================] - 0s 6ms/step - loss: 0.0562 - accuracy: 0.9938 - val_loss: 0.0257 - val_accuracy: 0.9872\n",
            "Epoch 61/100\n",
            "14/14 [==============================] - 0s 6ms/step - loss: 0.0683 - accuracy: 0.9823 - val_loss: 0.0247 - val_accuracy: 0.9872\n",
            "Epoch 62/100\n",
            "14/14 [==============================] - 0s 5ms/step - loss: 0.0639 - accuracy: 0.9880 - val_loss: 0.0248 - val_accuracy: 0.9872\n",
            "Epoch 63/100\n",
            "14/14 [==============================] - 0s 6ms/step - loss: 0.0584 - accuracy: 0.9920 - val_loss: 0.0248 - val_accuracy: 0.9872\n",
            "Epoch 64/100\n",
            "14/14 [==============================] - 0s 5ms/step - loss: 0.0690 - accuracy: 0.9961 - val_loss: 0.0259 - val_accuracy: 0.9872\n",
            "Epoch 65/100\n",
            "14/14 [==============================] - 0s 5ms/step - loss: 0.0511 - accuracy: 0.9958 - val_loss: 0.0269 - val_accuracy: 0.9872\n",
            "Epoch 66/100\n",
            "14/14 [==============================] - 0s 5ms/step - loss: 0.0649 - accuracy: 0.9783 - val_loss: 0.0255 - val_accuracy: 0.9872\n",
            "Epoch 67/100\n",
            "14/14 [==============================] - 0s 5ms/step - loss: 0.0456 - accuracy: 0.9949 - val_loss: 0.0256 - val_accuracy: 0.9872\n",
            "Epoch 68/100\n",
            "14/14 [==============================] - 0s 6ms/step - loss: 0.0585 - accuracy: 0.9957 - val_loss: 0.0256 - val_accuracy: 0.9872\n",
            "Epoch 69/100\n",
            "14/14 [==============================] - 0s 6ms/step - loss: 0.0773 - accuracy: 0.9888 - val_loss: 0.0246 - val_accuracy: 0.9872\n",
            "Epoch 70/100\n",
            "14/14 [==============================] - 0s 5ms/step - loss: 0.0965 - accuracy: 0.9840 - val_loss: 0.0272 - val_accuracy: 0.9872\n",
            "Epoch 71/100\n",
            "14/14 [==============================] - 0s 6ms/step - loss: 0.0810 - accuracy: 0.9733 - val_loss: 0.0246 - val_accuracy: 0.9872\n",
            "Epoch 72/100\n",
            "14/14 [==============================] - 0s 5ms/step - loss: 0.0684 - accuracy: 0.9893 - val_loss: 0.0532 - val_accuracy: 0.9744\n",
            "Epoch 73/100\n",
            "14/14 [==============================] - 0s 5ms/step - loss: 0.0631 - accuracy: 0.9907 - val_loss: 0.0667 - val_accuracy: 0.9744\n",
            "Epoch 74/100\n",
            "14/14 [==============================] - 0s 5ms/step - loss: 0.0936 - accuracy: 0.9816 - val_loss: 0.0256 - val_accuracy: 0.9872\n",
            "Epoch 75/100\n",
            "14/14 [==============================] - 0s 5ms/step - loss: 0.0603 - accuracy: 0.9915 - val_loss: 0.0247 - val_accuracy: 0.9872\n",
            "Epoch 76/100\n",
            "14/14 [==============================] - 0s 5ms/step - loss: 0.0627 - accuracy: 0.9863 - val_loss: 0.0252 - val_accuracy: 0.9872\n",
            "Epoch 77/100\n",
            "14/14 [==============================] - 0s 5ms/step - loss: 0.0500 - accuracy: 0.9893 - val_loss: 0.0246 - val_accuracy: 0.9872\n",
            "Epoch 78/100\n",
            "14/14 [==============================] - 0s 5ms/step - loss: 0.0729 - accuracy: 0.9875 - val_loss: 0.0242 - val_accuracy: 0.9872\n",
            "Epoch 79/100\n",
            "14/14 [==============================] - 0s 5ms/step - loss: 0.0242 - accuracy: 0.9985 - val_loss: 0.0241 - val_accuracy: 0.9872\n",
            "Epoch 80/100\n",
            "14/14 [==============================] - 0s 5ms/step - loss: 0.0525 - accuracy: 0.9885 - val_loss: 0.0261 - val_accuracy: 0.9872\n",
            "Epoch 81/100\n",
            "14/14 [==============================] - 0s 5ms/step - loss: 0.0532 - accuracy: 0.9921 - val_loss: 0.0248 - val_accuracy: 0.9872\n",
            "Epoch 82/100\n",
            "14/14 [==============================] - 0s 5ms/step - loss: 0.0575 - accuracy: 0.9839 - val_loss: 0.0318 - val_accuracy: 0.9872\n",
            "Epoch 83/100\n",
            "14/14 [==============================] - 0s 5ms/step - loss: 0.0577 - accuracy: 0.9791 - val_loss: 0.0678 - val_accuracy: 0.9744\n",
            "Epoch 84/100\n",
            "14/14 [==============================] - 0s 5ms/step - loss: 0.0531 - accuracy: 0.9922 - val_loss: 0.0646 - val_accuracy: 0.9744\n",
            "Epoch 85/100\n",
            "14/14 [==============================] - 0s 6ms/step - loss: 0.0561 - accuracy: 0.9915 - val_loss: 0.0663 - val_accuracy: 0.9744\n",
            "Epoch 86/100\n",
            "14/14 [==============================] - 0s 5ms/step - loss: 0.0465 - accuracy: 0.9881 - val_loss: 0.0305 - val_accuracy: 0.9872\n",
            "Epoch 87/100\n",
            "14/14 [==============================] - 0s 5ms/step - loss: 0.0877 - accuracy: 0.9883 - val_loss: 0.0245 - val_accuracy: 0.9872\n",
            "Epoch 88/100\n",
            "14/14 [==============================] - 0s 5ms/step - loss: 0.0439 - accuracy: 0.9877 - val_loss: 0.0241 - val_accuracy: 0.9872\n",
            "Epoch 89/100\n",
            "14/14 [==============================] - 0s 5ms/step - loss: 0.0497 - accuracy: 0.9967 - val_loss: 0.0244 - val_accuracy: 0.9872\n",
            "Epoch 90/100\n",
            "14/14 [==============================] - 0s 6ms/step - loss: 0.0495 - accuracy: 0.9884 - val_loss: 0.0247 - val_accuracy: 0.9872\n",
            "Epoch 91/100\n",
            "14/14 [==============================] - 0s 5ms/step - loss: 0.0530 - accuracy: 0.9831 - val_loss: 0.0247 - val_accuracy: 0.9872\n",
            "Epoch 92/100\n",
            "14/14 [==============================] - 0s 5ms/step - loss: 0.0581 - accuracy: 0.9811 - val_loss: 0.0246 - val_accuracy: 0.9872\n",
            "Epoch 93/100\n",
            "14/14 [==============================] - 0s 6ms/step - loss: 0.0341 - accuracy: 0.9967 - val_loss: 0.0246 - val_accuracy: 0.9872\n",
            "Epoch 94/100\n",
            "14/14 [==============================] - 0s 5ms/step - loss: 0.0481 - accuracy: 0.9874 - val_loss: 0.0247 - val_accuracy: 0.9872\n",
            "Epoch 95/100\n",
            "14/14 [==============================] - 0s 17ms/step - loss: 0.0280 - accuracy: 0.9974 - val_loss: 0.0247 - val_accuracy: 0.9872\n",
            "Epoch 96/100\n",
            "14/14 [==============================] - 0s 5ms/step - loss: 0.0551 - accuracy: 0.9788 - val_loss: 0.0255 - val_accuracy: 0.9872\n",
            "Epoch 97/100\n",
            "14/14 [==============================] - 0s 5ms/step - loss: 0.0480 - accuracy: 0.9877 - val_loss: 0.0253 - val_accuracy: 0.9872\n",
            "Epoch 98/100\n",
            "14/14 [==============================] - 0s 6ms/step - loss: 0.0420 - accuracy: 0.9911 - val_loss: 0.0245 - val_accuracy: 0.9872\n",
            "Epoch 99/100\n",
            "14/14 [==============================] - 0s 5ms/step - loss: 0.0476 - accuracy: 0.9879 - val_loss: 0.0243 - val_accuracy: 0.9872\n",
            "Epoch 100/100\n",
            "14/14 [==============================] - 0s 5ms/step - loss: 0.0408 - accuracy: 0.9915 - val_loss: 0.0243 - val_accuracy: 0.9872\n"
          ],
          "name": "stdout"
        }
      ]
    },
    {
      "cell_type": "code",
      "metadata": {
        "colab": {
          "base_uri": "https://localhost:8080/"
        },
        "id": "IqsAHgTXSkcE",
        "outputId": "540bc3e8-c7c3-49bf-a6cb-00816616aa91"
      },
      "source": [
        "test_mode=model.evaluate(X_test,Y_test,batch_size=32)"
      ],
      "execution_count": null,
      "outputs": [
        {
          "output_type": "stream",
          "text": [
            "3/3 [==============================] - 0s 4ms/step - loss: 0.0243 - accuracy: 0.9872\n"
          ],
          "name": "stdout"
        }
      ]
    },
    {
      "cell_type": "code",
      "metadata": {
        "id": "l0ho4eVB-kOC"
      },
      "source": [
        "model.save('new__model.hdf5')"
      ],
      "execution_count": null,
      "outputs": []
    },
    {
      "cell_type": "code",
      "metadata": {
        "colab": {
          "base_uri": "https://localhost:8080/"
        },
        "id": "C9luDG4QSxX2",
        "outputId": "85d5d0c0-aa84-4776-92fa-df85cc6dd3cd"
      },
      "source": [
        "my_model.history.keys()"
      ],
      "execution_count": null,
      "outputs": [
        {
          "output_type": "execute_result",
          "data": {
            "text/plain": [
              "dict_keys(['loss', 'accuracy', 'val_loss', 'val_accuracy'])"
            ]
          },
          "metadata": {
            "tags": []
          },
          "execution_count": 79
        }
      ]
    },
    {
      "cell_type": "code",
      "metadata": {
        "id": "dYP58GXw5Fli"
      },
      "source": [
        "import plotly.graph_objects as go"
      ],
      "execution_count": null,
      "outputs": []
    },
    {
      "cell_type": "code",
      "metadata": {
        "id": "3M3k7_F67QFu",
        "colab": {
          "base_uri": "https://localhost:8080/",
          "height": 542
        },
        "outputId": "720a79f6-74fe-4d6d-9dde-38436bbded5f"
      },
      "source": [
        "fig = go.Figure()\r\n",
        "fig.add_trace(go.Scatter(y=my_model.history['loss'],mode='lines',name='Training'))\r\n",
        "fig.add_trace(go.Scatter(y=my_model.history['val_loss'],mode='lines',name='Validation'))\r\n",
        "fig.update_layout(title='Loss:Categorical Cross Entropy',xaxis_title=\"Epochs\",\r\n",
        "    yaxis_title=\"Loss\",)\r\n",
        "fig.show()"
      ],
      "execution_count": null,
      "outputs": [
        {
          "output_type": "display_data",
          "data": {
            "text/html": [
              "<html>\n",
              "<head><meta charset=\"utf-8\" /></head>\n",
              "<body>\n",
              "    <div>\n",
              "            <script src=\"https://cdnjs.cloudflare.com/ajax/libs/mathjax/2.7.5/MathJax.js?config=TeX-AMS-MML_SVG\"></script><script type=\"text/javascript\">if (window.MathJax) {MathJax.Hub.Config({SVG: {font: \"STIX-Web\"}});}</script>\n",
              "                <script type=\"text/javascript\">window.PlotlyConfig = {MathJaxConfig: 'local'};</script>\n",
              "        <script src=\"https://cdn.plot.ly/plotly-latest.min.js\"></script>    \n",
              "            <div id=\"f57bef41-1c2c-4570-8afe-5825836524c3\" class=\"plotly-graph-div\" style=\"height:525px; width:100%;\"></div>\n",
              "            <script type=\"text/javascript\">\n",
              "                \n",
              "                    window.PLOTLYENV=window.PLOTLYENV || {};\n",
              "                    \n",
              "                if (document.getElementById(\"f57bef41-1c2c-4570-8afe-5825836524c3\")) {\n",
              "                    Plotly.newPlot(\n",
              "                        'f57bef41-1c2c-4570-8afe-5825836524c3',\n",
              "                        [{\"mode\": \"lines\", \"name\": \"Training\", \"type\": \"scatter\", \"y\": [0.792077898979187, 0.6193559169769287, 0.5346585512161255, 0.4395183324813843, 0.3570347726345062, 0.3211311101913452, 0.2923176884651184, 0.26306506991386414, 0.2576681077480316, 0.22817745804786682, 0.23005974292755127, 0.21041376888751984, 0.21748653054237366, 0.22715407609939575, 0.16593368351459503, 0.1790495067834854, 0.15996702015399933, 0.15555769205093384, 0.13261568546295166, 0.13519805669784546, 0.13331905007362366, 0.14018283784389496, 0.15386883914470673, 0.13609063625335693, 0.11882896721363068, 0.13087819516658783, 0.11988736689090729, 0.11281394958496094, 0.11856138706207275, 0.10764168947935104, 0.10645566135644913, 0.10192972421646118, 0.09823505580425262, 0.10158330202102661, 0.10503721982240677, 0.08592137694358826, 0.12173597514629364, 0.0947156623005867, 0.1024589017033577, 0.09487806260585785, 0.09403499960899353, 0.09975121170282364, 0.09516312181949615, 0.08535908162593842, 0.08556067943572998, 0.08173783123493195, 0.07985617965459824, 0.06879573315382004, 0.07511062175035477, 0.0712505578994751, 0.06501910090446472, 0.06646453589200974, 0.0808199867606163, 0.06441329419612885, 0.06671616435050964, 0.06512247771024704, 0.074934221804142, 0.0589330680668354, 0.05668222904205322, 0.058852966874837875, 0.06794870644807816, 0.065900057554245, 0.06366829574108124, 0.06449241191148758, 0.05780438706278801, 0.061203911900520325, 0.06169632449746132, 0.05577867105603218, 0.08473848551511765, 0.0854824110865593, 0.07158991694450378, 0.06298970431089401, 0.07171951234340668, 0.08619584143161774, 0.056339606642723083, 0.06426109373569489, 0.05216031149029732, 0.0694054588675499, 0.03679225593805313, 0.05085045099258423, 0.05919758602976799, 0.053881943225860596, 0.05272454395890236, 0.05368097499012947, 0.05341731011867523, 0.03932415693998337, 0.05788574740290642, 0.038189228624105453, 0.0495234914124012, 0.04709840938448906, 0.04157315939664841, 0.052580974996089935, 0.040825024247169495, 0.04287095367908478, 0.03107571229338646, 0.05888069421052933, 0.03888612240552902, 0.043557308614254, 0.0424739345908165, 0.04449746012687683]}, {\"mode\": \"lines\", \"name\": \"Validation\", \"type\": \"scatter\", \"y\": [0.6332159042358398, 0.5273213386535645, 0.3795620799064636, 0.2826327979564667, 0.22214095294475555, 0.1769109070301056, 0.15467791259288788, 0.14067693054676056, 0.12558314204216003, 0.1232752576470375, 0.1146850734949112, 0.1060495600104332, 0.08177483081817627, 0.06862345337867737, 0.06417442858219147, 0.0595482736825943, 0.05273831635713577, 0.06204972043633461, 0.056762296706438065, 0.03741085156798363, 0.03743744641542435, 0.04332222789525986, 0.044068507850170135, 0.03864246979355812, 0.03349076956510544, 0.036809831857681274, 0.031430985778570175, 0.031271666288375854, 0.03938071429729462, 0.055656835436820984, 0.03816112503409386, 0.032645635306835175, 0.03719576820731163, 0.05141456797719002, 0.047732580453157425, 0.031004920601844788, 0.02729145996272564, 0.03372078388929367, 0.028720516711473465, 0.06030662730336189, 0.06476803123950958, 0.0493776872754097, 0.04268346726894379, 0.02753930166363716, 0.03090270608663559, 0.04081849381327629, 0.046983130276203156, 0.035293661057949066, 0.031157689169049263, 0.038928791880607605, 0.04692107066512108, 0.04352576285600662, 0.03636903315782547, 0.03542369604110718, 0.029132500290870667, 0.026633944362401962, 0.027275152504444122, 0.028031377121806145, 0.025025203824043274, 0.025700798258185387, 0.024704640731215477, 0.024770794436335564, 0.024808062240481377, 0.025890301913022995, 0.02694820798933506, 0.025509361177682877, 0.025557002052664757, 0.025621669366955757, 0.024628896266222, 0.02716633677482605, 0.024582399055361748, 0.05317976698279381, 0.06674261391162872, 0.02556888572871685, 0.02468489110469818, 0.025211330503225327, 0.024583343416452408, 0.024177465587854385, 0.024092771112918854, 0.026137858629226685, 0.02480114996433258, 0.03178276866674423, 0.06777702271938324, 0.06462541222572327, 0.06625011563301086, 0.030478505417704582, 0.024513661861419678, 0.024143802002072334, 0.02442438155412674, 0.02468019910156727, 0.02465549111366272, 0.024571899324655533, 0.02461683377623558, 0.024668553844094276, 0.02471996285021305, 0.02546362578868866, 0.025320976972579956, 0.0245495792478323, 0.024325896054506302, 0.024276793003082275]}],\n",
              "                        {\"template\": {\"data\": {\"bar\": [{\"error_x\": {\"color\": \"#2a3f5f\"}, \"error_y\": {\"color\": \"#2a3f5f\"}, \"marker\": {\"line\": {\"color\": \"#E5ECF6\", \"width\": 0.5}}, \"type\": \"bar\"}], \"barpolar\": [{\"marker\": {\"line\": {\"color\": \"#E5ECF6\", \"width\": 0.5}}, \"type\": \"barpolar\"}], \"carpet\": [{\"aaxis\": {\"endlinecolor\": \"#2a3f5f\", \"gridcolor\": \"white\", \"linecolor\": \"white\", \"minorgridcolor\": \"white\", \"startlinecolor\": \"#2a3f5f\"}, \"baxis\": {\"endlinecolor\": \"#2a3f5f\", \"gridcolor\": \"white\", \"linecolor\": \"white\", \"minorgridcolor\": \"white\", \"startlinecolor\": \"#2a3f5f\"}, \"type\": \"carpet\"}], \"choropleth\": [{\"colorbar\": {\"outlinewidth\": 0, \"ticks\": \"\"}, \"type\": \"choropleth\"}], \"contour\": [{\"colorbar\": {\"outlinewidth\": 0, \"ticks\": \"\"}, \"colorscale\": [[0.0, \"#0d0887\"], [0.1111111111111111, \"#46039f\"], [0.2222222222222222, \"#7201a8\"], [0.3333333333333333, \"#9c179e\"], [0.4444444444444444, \"#bd3786\"], [0.5555555555555556, \"#d8576b\"], [0.6666666666666666, \"#ed7953\"], [0.7777777777777778, \"#fb9f3a\"], [0.8888888888888888, \"#fdca26\"], [1.0, \"#f0f921\"]], \"type\": \"contour\"}], \"contourcarpet\": [{\"colorbar\": {\"outlinewidth\": 0, \"ticks\": \"\"}, \"type\": \"contourcarpet\"}], \"heatmap\": [{\"colorbar\": {\"outlinewidth\": 0, \"ticks\": \"\"}, \"colorscale\": [[0.0, \"#0d0887\"], [0.1111111111111111, \"#46039f\"], [0.2222222222222222, \"#7201a8\"], [0.3333333333333333, \"#9c179e\"], [0.4444444444444444, \"#bd3786\"], [0.5555555555555556, \"#d8576b\"], [0.6666666666666666, \"#ed7953\"], [0.7777777777777778, \"#fb9f3a\"], [0.8888888888888888, \"#fdca26\"], [1.0, \"#f0f921\"]], \"type\": \"heatmap\"}], \"heatmapgl\": [{\"colorbar\": {\"outlinewidth\": 0, \"ticks\": \"\"}, \"colorscale\": [[0.0, \"#0d0887\"], [0.1111111111111111, \"#46039f\"], [0.2222222222222222, \"#7201a8\"], [0.3333333333333333, \"#9c179e\"], [0.4444444444444444, \"#bd3786\"], [0.5555555555555556, \"#d8576b\"], [0.6666666666666666, \"#ed7953\"], [0.7777777777777778, \"#fb9f3a\"], [0.8888888888888888, \"#fdca26\"], [1.0, \"#f0f921\"]], \"type\": \"heatmapgl\"}], \"histogram\": [{\"marker\": {\"colorbar\": {\"outlinewidth\": 0, \"ticks\": \"\"}}, \"type\": \"histogram\"}], \"histogram2d\": [{\"colorbar\": {\"outlinewidth\": 0, \"ticks\": \"\"}, \"colorscale\": [[0.0, \"#0d0887\"], [0.1111111111111111, \"#46039f\"], [0.2222222222222222, \"#7201a8\"], [0.3333333333333333, \"#9c179e\"], [0.4444444444444444, \"#bd3786\"], [0.5555555555555556, \"#d8576b\"], [0.6666666666666666, \"#ed7953\"], [0.7777777777777778, \"#fb9f3a\"], [0.8888888888888888, \"#fdca26\"], [1.0, \"#f0f921\"]], \"type\": \"histogram2d\"}], \"histogram2dcontour\": [{\"colorbar\": {\"outlinewidth\": 0, \"ticks\": \"\"}, \"colorscale\": [[0.0, \"#0d0887\"], [0.1111111111111111, \"#46039f\"], [0.2222222222222222, \"#7201a8\"], [0.3333333333333333, \"#9c179e\"], [0.4444444444444444, \"#bd3786\"], [0.5555555555555556, \"#d8576b\"], [0.6666666666666666, \"#ed7953\"], [0.7777777777777778, \"#fb9f3a\"], [0.8888888888888888, \"#fdca26\"], [1.0, \"#f0f921\"]], \"type\": \"histogram2dcontour\"}], \"mesh3d\": [{\"colorbar\": {\"outlinewidth\": 0, \"ticks\": \"\"}, \"type\": \"mesh3d\"}], \"parcoords\": [{\"line\": {\"colorbar\": {\"outlinewidth\": 0, \"ticks\": \"\"}}, \"type\": \"parcoords\"}], \"pie\": [{\"automargin\": true, \"type\": \"pie\"}], \"scatter\": [{\"marker\": {\"colorbar\": {\"outlinewidth\": 0, \"ticks\": \"\"}}, \"type\": \"scatter\"}], \"scatter3d\": [{\"line\": {\"colorbar\": {\"outlinewidth\": 0, \"ticks\": \"\"}}, \"marker\": {\"colorbar\": {\"outlinewidth\": 0, \"ticks\": \"\"}}, \"type\": \"scatter3d\"}], \"scattercarpet\": [{\"marker\": {\"colorbar\": {\"outlinewidth\": 0, \"ticks\": \"\"}}, \"type\": \"scattercarpet\"}], \"scattergeo\": [{\"marker\": {\"colorbar\": {\"outlinewidth\": 0, \"ticks\": \"\"}}, \"type\": \"scattergeo\"}], \"scattergl\": [{\"marker\": {\"colorbar\": {\"outlinewidth\": 0, \"ticks\": \"\"}}, \"type\": \"scattergl\"}], \"scattermapbox\": [{\"marker\": {\"colorbar\": {\"outlinewidth\": 0, \"ticks\": \"\"}}, \"type\": \"scattermapbox\"}], \"scatterpolar\": [{\"marker\": {\"colorbar\": {\"outlinewidth\": 0, \"ticks\": \"\"}}, \"type\": \"scatterpolar\"}], \"scatterpolargl\": [{\"marker\": {\"colorbar\": {\"outlinewidth\": 0, \"ticks\": \"\"}}, \"type\": \"scatterpolargl\"}], \"scatterternary\": [{\"marker\": {\"colorbar\": {\"outlinewidth\": 0, \"ticks\": \"\"}}, \"type\": \"scatterternary\"}], \"surface\": [{\"colorbar\": {\"outlinewidth\": 0, \"ticks\": \"\"}, \"colorscale\": [[0.0, \"#0d0887\"], [0.1111111111111111, \"#46039f\"], [0.2222222222222222, \"#7201a8\"], [0.3333333333333333, \"#9c179e\"], [0.4444444444444444, \"#bd3786\"], [0.5555555555555556, \"#d8576b\"], [0.6666666666666666, \"#ed7953\"], [0.7777777777777778, \"#fb9f3a\"], [0.8888888888888888, \"#fdca26\"], [1.0, \"#f0f921\"]], \"type\": \"surface\"}], \"table\": [{\"cells\": {\"fill\": {\"color\": \"#EBF0F8\"}, \"line\": {\"color\": \"white\"}}, \"header\": {\"fill\": {\"color\": \"#C8D4E3\"}, \"line\": {\"color\": \"white\"}}, \"type\": \"table\"}]}, \"layout\": {\"annotationdefaults\": {\"arrowcolor\": \"#2a3f5f\", \"arrowhead\": 0, \"arrowwidth\": 1}, \"coloraxis\": {\"colorbar\": {\"outlinewidth\": 0, \"ticks\": \"\"}}, \"colorscale\": {\"diverging\": [[0, \"#8e0152\"], [0.1, \"#c51b7d\"], [0.2, \"#de77ae\"], [0.3, \"#f1b6da\"], [0.4, \"#fde0ef\"], [0.5, \"#f7f7f7\"], [0.6, \"#e6f5d0\"], [0.7, \"#b8e186\"], [0.8, \"#7fbc41\"], [0.9, \"#4d9221\"], [1, \"#276419\"]], \"sequential\": [[0.0, \"#0d0887\"], [0.1111111111111111, \"#46039f\"], [0.2222222222222222, \"#7201a8\"], [0.3333333333333333, \"#9c179e\"], [0.4444444444444444, \"#bd3786\"], [0.5555555555555556, \"#d8576b\"], [0.6666666666666666, \"#ed7953\"], [0.7777777777777778, \"#fb9f3a\"], [0.8888888888888888, \"#fdca26\"], [1.0, \"#f0f921\"]], \"sequentialminus\": [[0.0, \"#0d0887\"], [0.1111111111111111, \"#46039f\"], [0.2222222222222222, \"#7201a8\"], [0.3333333333333333, \"#9c179e\"], [0.4444444444444444, \"#bd3786\"], [0.5555555555555556, \"#d8576b\"], [0.6666666666666666, \"#ed7953\"], [0.7777777777777778, \"#fb9f3a\"], [0.8888888888888888, \"#fdca26\"], [1.0, \"#f0f921\"]]}, \"colorway\": [\"#636efa\", \"#EF553B\", \"#00cc96\", \"#ab63fa\", \"#FFA15A\", \"#19d3f3\", \"#FF6692\", \"#B6E880\", \"#FF97FF\", \"#FECB52\"], \"font\": {\"color\": \"#2a3f5f\"}, \"geo\": {\"bgcolor\": \"white\", \"lakecolor\": \"white\", \"landcolor\": \"#E5ECF6\", \"showlakes\": true, \"showland\": true, \"subunitcolor\": \"white\"}, \"hoverlabel\": {\"align\": \"left\"}, \"hovermode\": \"closest\", \"mapbox\": {\"style\": \"light\"}, \"paper_bgcolor\": \"white\", \"plot_bgcolor\": \"#E5ECF6\", \"polar\": {\"angularaxis\": {\"gridcolor\": \"white\", \"linecolor\": \"white\", \"ticks\": \"\"}, \"bgcolor\": \"#E5ECF6\", \"radialaxis\": {\"gridcolor\": \"white\", \"linecolor\": \"white\", \"ticks\": \"\"}}, \"scene\": {\"xaxis\": {\"backgroundcolor\": \"#E5ECF6\", \"gridcolor\": \"white\", \"gridwidth\": 2, \"linecolor\": \"white\", \"showbackground\": true, \"ticks\": \"\", \"zerolinecolor\": \"white\"}, \"yaxis\": {\"backgroundcolor\": \"#E5ECF6\", \"gridcolor\": \"white\", \"gridwidth\": 2, \"linecolor\": \"white\", \"showbackground\": true, \"ticks\": \"\", \"zerolinecolor\": \"white\"}, \"zaxis\": {\"backgroundcolor\": \"#E5ECF6\", \"gridcolor\": \"white\", \"gridwidth\": 2, \"linecolor\": \"white\", \"showbackground\": true, \"ticks\": \"\", \"zerolinecolor\": \"white\"}}, \"shapedefaults\": {\"line\": {\"color\": \"#2a3f5f\"}}, \"ternary\": {\"aaxis\": {\"gridcolor\": \"white\", \"linecolor\": \"white\", \"ticks\": \"\"}, \"baxis\": {\"gridcolor\": \"white\", \"linecolor\": \"white\", \"ticks\": \"\"}, \"bgcolor\": \"#E5ECF6\", \"caxis\": {\"gridcolor\": \"white\", \"linecolor\": \"white\", \"ticks\": \"\"}}, \"title\": {\"x\": 0.05}, \"xaxis\": {\"automargin\": true, \"gridcolor\": \"white\", \"linecolor\": \"white\", \"ticks\": \"\", \"title\": {\"standoff\": 15}, \"zerolinecolor\": \"white\", \"zerolinewidth\": 2}, \"yaxis\": {\"automargin\": true, \"gridcolor\": \"white\", \"linecolor\": \"white\", \"ticks\": \"\", \"title\": {\"standoff\": 15}, \"zerolinecolor\": \"white\", \"zerolinewidth\": 2}}}, \"title\": {\"text\": \"Loss:Categorical Cross Entropy\"}, \"xaxis\": {\"title\": {\"text\": \"Epochs\"}}, \"yaxis\": {\"title\": {\"text\": \"Loss\"}}},\n",
              "                        {\"responsive\": true}\n",
              "                    ).then(function(){\n",
              "                            \n",
              "var gd = document.getElementById('f57bef41-1c2c-4570-8afe-5825836524c3');\n",
              "var x = new MutationObserver(function (mutations, observer) {{\n",
              "        var display = window.getComputedStyle(gd).display;\n",
              "        if (!display || display === 'none') {{\n",
              "            console.log([gd, 'removed!']);\n",
              "            Plotly.purge(gd);\n",
              "            observer.disconnect();\n",
              "        }}\n",
              "}});\n",
              "\n",
              "// Listen for the removal of the full notebook cells\n",
              "var notebookContainer = gd.closest('#notebook-container');\n",
              "if (notebookContainer) {{\n",
              "    x.observe(notebookContainer, {childList: true});\n",
              "}}\n",
              "\n",
              "// Listen for the clearing of the current output cell\n",
              "var outputEl = gd.closest('.output');\n",
              "if (outputEl) {{\n",
              "    x.observe(outputEl, {childList: true});\n",
              "}}\n",
              "\n",
              "                        })\n",
              "                };\n",
              "                \n",
              "            </script>\n",
              "        </div>\n",
              "</body>\n",
              "</html>"
            ]
          },
          "metadata": {
            "tags": []
          }
        }
      ]
    },
    {
      "cell_type": "markdown",
      "metadata": {
        "id": "d43CEoyK5s1C"
      },
      "source": [
        "Training Accuracy and Loss with each epoch/iterations "
      ]
    },
    {
      "cell_type": "code",
      "metadata": {
        "id": "Wo27nnHLHY9X",
        "colab": {
          "base_uri": "https://localhost:8080/",
          "height": 439
        },
        "outputId": "1f9baf91-6dbb-41c1-d78e-0a9248bd5178"
      },
      "source": [
        "fig,(ax1,ax2)=plt.subplots(1,2,figsize=(20,7),facecolor=\"#FEEEE6\")\r\n",
        "\r\n",
        "ax1.plot(range(1,101),my_model.history['accuracy'],'b')\r\n",
        "ax1.set_xlabel(\"Iteration\")\r\n",
        "ax1.set_ylabel(\"Accuracy\")\r\n",
        "ax2.plot(range(1,101),my_model.history['loss'],'r')\r\n",
        "ax2.set_xlabel(\"Iteration\")\r\n",
        "ax2.set_ylabel(\"Loss\")\r\n"
      ],
      "execution_count": null,
      "outputs": [
        {
          "output_type": "execute_result",
          "data": {
            "text/plain": [
              "Text(0, 0.5, 'Loss')"
            ]
          },
          "metadata": {
            "tags": []
          },
          "execution_count": 84
        },
        {
          "output_type": "display_data",
          "data": {
            "image/png": "[encoded data removed]",
            "text/plain": [
              "<Figure size 1440x504 with 2 Axes>"
            ]
          },
          "metadata": {
            "tags": []
          }
        }
      ]
    },
    {
      "cell_type": "markdown",
      "metadata": {
        "id": "89y6KLOE5bBr"
      },
      "source": [
        "Validation or Test Accuracy and Loss with each epoch/iterations"
      ]
    },
    {
      "cell_type": "code",
      "metadata": {
        "colab": {
          "base_uri": "https://localhost:8080/",
          "height": 435
        },
        "id": "NzpEitzi_HTn",
        "outputId": "d3e8a621-55f5-4f51-d727-2eb814530e59"
      },
      "source": [
        "fig,(ax1,ax2)=plt.subplots(1,2,figsize=(20,7),facecolor=\"#F0ECEC\")\r\n",
        "\r\n",
        "ax1.plot(range(1,101),my_model.history['val_accuracy'],'b')\r\n",
        "ax1.set_xlabel(\"Iteration\")\r\n",
        "ax1.set_ylabel(\"Accuracy\")\r\n",
        "ax2.plot(range(1,101),my_model.history['val_loss'],'r')\r\n",
        "ax2.set_xlabel(\"Iteration\")\r\n",
        "ax2.set_ylabel(\"Loss\")\r\n"
      ],
      "execution_count": null,
      "outputs": [
        {
          "output_type": "execute_result",
          "data": {
            "text/plain": [
              "Text(0, 0.5, 'Loss')"
            ]
          },
          "metadata": {
            "tags": []
          },
          "execution_count": 85
        },
        {
          "output_type": "display_data",
          "data": {
            "image/png": "[encoded data removed]",
            "text/plain": [
              "<Figure size 1440x504 with 2 Axes>"
            ]
          },
          "metadata": {
            "tags": []
          }
        }
      ]
    },
    {
      "cell_type": "markdown",
      "metadata": {
        "id": "qgrihhdk66zX"
      },
      "source": [
        "# Confusion matrix for our prediction "
      ]
    },
    {
      "cell_type": "code",
      "metadata": {
        "id": "5wp4f2K2Xjx0"
      },
      "source": [
        "Y_pred1=model.predict(X_train)\r\n",
        "Y_pred2=model.predict(X_test)"
      ],
      "execution_count": null,
      "outputs": []
    },
    {
      "cell_type": "code",
      "metadata": {
        "id": "XgDjrxYEG8jC",
        "colab": {
          "base_uri": "https://localhost:8080/"
        },
        "outputId": "fd852e62-0b2a-444a-fbf3-0835a93a4e21"
      },
      "source": [
        "from sklearn import metrics\r\n",
        "from sklearn.metrics import confusion_matrix,recall_score,precision_score,roc_auc_score,f1_score\r\n",
        "matrix = confusion_matrix(Y_train.argmax(axis=1),Y_pred1.argmax(axis=1))\r\n",
        "print(\"train set confusion matrix\")\r\n",
        "print(matrix)\r\n",
        "print('True positive = ', matrix[0][0])\r\n",
        "print('False positive = ', matrix[0][1])\r\n",
        "print('False negative = ', matrix[1][0])\r\n",
        "print('True negative = ', matrix[1][1])\r\n",
        "\r\n",
        "matrix1 = confusion_matrix(Y_test.argmax(axis=1),Y_pred2.argmax(axis=1))\r\n",
        "print(\"test set confusion matrix\")\r\n",
        "print(matrix1)\r\n",
        "print('True positive = ', matrix1[0][0])\r\n",
        "print('False positive = ', matrix1[0][1])\r\n",
        "print('False negative = ', matrix1[1][0])\r\n",
        "print('True negative = ', matrix1[1][1])\r\n"
      ],
      "execution_count": null,
      "outputs": [
        {
          "output_type": "stream",
          "text": [
            "train set confusion matrix\n",
            "[[167   2]\n",
            " [  0 273]]\n",
            "True positive =  167\n",
            "False positive =  2\n",
            "False negative =  0\n",
            "True negative =  273\n",
            "test set confusion matrix\n",
            "[[30  1]\n",
            " [ 0 47]]\n",
            "True positive =  30\n",
            "False positive =  1\n",
            "False negative =  0\n",
            "True negative =  47\n"
          ],
          "name": "stdout"
        }
      ]
    },
    {
      "cell_type": "markdown",
      "metadata": {
        "id": "PvGosfR47FJx"
      },
      "source": [
        "# F1 score,Recall score ,Specificity,Precision performance of the model"
      ]
    },
    {
      "cell_type": "code",
      "metadata": {
        "colab": {
          "base_uri": "https://localhost:8080/"
        },
        "id": "x_MdzybMYRaj",
        "outputId": "d477c7f8-f0bc-409b-9f27-fc8f5ea97d2e"
      },
      "source": [
        "from sklearn import metrics\r\n",
        "from sklearn.metrics import confusion_matrix,recall_score,precision_score,roc_auc_score,f1_score\r\n",
        "\r\n",
        "#printing errors of test data\r\n",
        "print('test Recall Score:', recall_score(Y_train.argmax(axis=1),Y_pred1.argmax(axis=1)))\r\n",
        "print('test Recall Score:', recall_score(Y_test.argmax(axis=1),Y_pred2.argmax(axis=1)))\r\n",
        "\r\n",
        "print('train Precission score',precision_score(Y_train.argmax(axis=1),Y_pred1.argmax(axis=1)))\r\n",
        "print('test Precission score',precision_score(Y_test.argmax(axis=1),Y_pred2.argmax(axis=1)))\r\n",
        "\r\n",
        "print('train f1 score',f1_score(Y_train.argmax(axis=1),Y_pred1.argmax(axis=1)))\r\n",
        "print('test f1 score',f1_score(Y_test.argmax(axis=1),Y_pred2.argmax(axis=1)))\r\n",
        "\r\n",
        "print('train specificity score',matrix[0][0]/(matrix[0][0]+matrix[0][1]))\r\n",
        "print('test specificity score',matrix1[0][0]/(matrix1[0][0]+matrix1[0][1]))"
      ],
      "execution_count": null,
      "outputs": [
        {
          "output_type": "stream",
          "text": [
            "test Recall Score: 1.0\n",
            "test Recall Score: 1.0\n",
            "train Precission score 0.9927272727272727\n",
            "test Precission score 0.9791666666666666\n",
            "train f1 score 0.9963503649635036\n",
            "test f1 score 0.9894736842105264\n",
            "train specificity score 0.9881656804733728\n",
            "test specificity score 0.967741935483871\n"
          ],
          "name": "stdout"
        }
      ]
    },
    {
      "cell_type": "markdown",
      "metadata": {
        "id": "Z0s6bqFq7fhq"
      },
      "source": [
        "# Different Algorithm models performance analysis "
      ]
    },
    {
      "cell_type": "code",
      "metadata": {
        "id": "O309Y4n_dQVe"
      },
      "source": [
        "import plotly.graph_objects as go"
      ],
      "execution_count": null,
      "outputs": []
    },
    {
      "cell_type": "code",
      "metadata": {
        "colab": {
          "base_uri": "https://localhost:8080/",
          "height": 467
        },
        "id": "smh5F1sBkfjT",
        "outputId": "af0fec89-39f3-46f1-e23a-9c9b5d284b4b"
      },
      "source": [
        "y_tr=[ 0.9276\t  ,0.9095\t     ,0.9208\t  ,0.9208\t   ,0.9547,\t0.9915\t,0.9699]\r\n",
        "y_tst=[0.9358\t , 0.8974\t     ,0.9358\t  ,0.9102\t  , 0.9487\t,0.9872\t,1.0]\r\n",
        "x= ['LR','NB','KNN','DT','RF','ANN','ANN+Embeddings']\r\n",
        "fig = go.Figure()\r\n",
        "fig.add_trace(go.Bar(x=x, y=y_tr,name='Train'))\r\n",
        "fig.add_trace(go.Bar(x=x, y=y_tst,name='Test'))\r\n",
        "fig.update_layout(autosize=False,\r\n",
        "    width=700,\r\n",
        "    height=450,title='Variation Of Accuracy With Different Models',xaxis_title=\"Models\",\r\n",
        "    yaxis_title=\"Accuracy\",)\r\n",
        "fig.update_yaxes(nticks=20)\r\n",
        "fig.update_xaxes(nticks=40)\r\n",
        "fig.update_traces(textposition='outside')\r\n",
        "fig.update_yaxes(range=[0.8, 1])\r\n",
        "fig.show()"
      ],
      "execution_count": null,
      "outputs": [
        {
          "output_type": "display_data",
          "data": {
            "text/html": [
              "<html>\n",
              "<head><meta charset=\"utf-8\" /></head>\n",
              "<body>\n",
              "    <div>\n",
              "            <script src=\"https://cdnjs.cloudflare.com/ajax/libs/mathjax/2.7.5/MathJax.js?config=TeX-AMS-MML_SVG\"></script><script type=\"text/javascript\">if (window.MathJax) {MathJax.Hub.Config({SVG: {font: \"STIX-Web\"}});}</script>\n",
              "                <script type=\"text/javascript\">window.PlotlyConfig = {MathJaxConfig: 'local'};</script>\n",
              "        <script src=\"https://cdn.plot.ly/plotly-latest.min.js\"></script>    \n",
              "            <div id=\"784a9d15-2d87-4468-9dcc-d5863a99749d\" class=\"plotly-graph-div\" style=\"height:450px; width:700px;\"></div>\n",
              "            <script type=\"text/javascript\">\n",
              "                \n",
              "                    window.PLOTLYENV=window.PLOTLYENV || {};\n",
              "                    \n",
              "                if (document.getElementById(\"784a9d15-2d87-4468-9dcc-d5863a99749d\")) {\n",
              "                    Plotly.newPlot(\n",
              "                        '784a9d15-2d87-4468-9dcc-d5863a99749d',\n",
              "                        [{\"name\": \"Train\", \"textposition\": \"outside\", \"type\": \"bar\", \"x\": [\"LR\", \"NB\", \"KNN\", \"DT\", \"RF\", \"ANN\", \"ANN+Embeddings\"], \"y\": [0.9276, 0.9095, 0.9208, 0.9208, 0.9547, 0.9915, 0.9699]}, {\"name\": \"Test\", \"textposition\": \"outside\", \"type\": \"bar\", \"x\": [\"LR\", \"NB\", \"KNN\", \"DT\", \"RF\", \"ANN\", \"ANN+Embeddings\"], \"y\": [0.9358, 0.8974, 0.9358, 0.9102, 0.9487, 0.9872, 1.0]}],\n",
              "                        {\"autosize\": false, \"height\": 450, \"template\": {\"data\": {\"bar\": [{\"error_x\": {\"color\": \"#2a3f5f\"}, \"error_y\": {\"color\": \"#2a3f5f\"}, \"marker\": {\"line\": {\"color\": \"#E5ECF6\", \"width\": 0.5}}, \"type\": \"bar\"}], \"barpolar\": [{\"marker\": {\"line\": {\"color\": \"#E5ECF6\", \"width\": 0.5}}, \"type\": \"barpolar\"}], \"carpet\": [{\"aaxis\": {\"endlinecolor\": \"#2a3f5f\", \"gridcolor\": \"white\", \"linecolor\": \"white\", \"minorgridcolor\": \"white\", \"startlinecolor\": \"#2a3f5f\"}, \"baxis\": {\"endlinecolor\": \"#2a3f5f\", \"gridcolor\": \"white\", \"linecolor\": \"white\", \"minorgridcolor\": \"white\", \"startlinecolor\": \"#2a3f5f\"}, \"type\": \"carpet\"}], \"choropleth\": [{\"colorbar\": {\"outlinewidth\": 0, \"ticks\": \"\"}, \"type\": \"choropleth\"}], \"contour\": [{\"colorbar\": {\"outlinewidth\": 0, \"ticks\": \"\"}, \"colorscale\": [[0.0, \"#0d0887\"], [0.1111111111111111, \"#46039f\"], [0.2222222222222222, \"#7201a8\"], [0.3333333333333333, \"#9c179e\"], [0.4444444444444444, \"#bd3786\"], [0.5555555555555556, \"#d8576b\"], [0.6666666666666666, \"#ed7953\"], [0.7777777777777778, \"#fb9f3a\"], [0.8888888888888888, \"#fdca26\"], [1.0, \"#f0f921\"]], \"type\": \"contour\"}], \"contourcarpet\": [{\"colorbar\": {\"outlinewidth\": 0, \"ticks\": \"\"}, \"type\": \"contourcarpet\"}], \"heatmap\": [{\"colorbar\": {\"outlinewidth\": 0, \"ticks\": \"\"}, \"colorscale\": [[0.0, \"#0d0887\"], [0.1111111111111111, \"#46039f\"], [0.2222222222222222, \"#7201a8\"], [0.3333333333333333, \"#9c179e\"], [0.4444444444444444, \"#bd3786\"], [0.5555555555555556, \"#d8576b\"], [0.6666666666666666, \"#ed7953\"], [0.7777777777777778, \"#fb9f3a\"], [0.8888888888888888, \"#fdca26\"], [1.0, \"#f0f921\"]], \"type\": \"heatmap\"}], \"heatmapgl\": [{\"colorbar\": {\"outlinewidth\": 0, \"ticks\": \"\"}, \"colorscale\": [[0.0, \"#0d0887\"], [0.1111111111111111, \"#46039f\"], [0.2222222222222222, \"#7201a8\"], [0.3333333333333333, \"#9c179e\"], [0.4444444444444444, \"#bd3786\"], [0.5555555555555556, \"#d8576b\"], [0.6666666666666666, \"#ed7953\"], [0.7777777777777778, \"#fb9f3a\"], [0.8888888888888888, \"#fdca26\"], [1.0, \"#f0f921\"]], \"type\": \"heatmapgl\"}], \"histogram\": [{\"marker\": {\"colorbar\": {\"outlinewidth\": 0, \"ticks\": \"\"}}, \"type\": \"histogram\"}], \"histogram2d\": [{\"colorbar\": {\"outlinewidth\": 0, \"ticks\": \"\"}, \"colorscale\": [[0.0, \"#0d0887\"], [0.1111111111111111, \"#46039f\"], [0.2222222222222222, \"#7201a8\"], [0.3333333333333333, \"#9c179e\"], [0.4444444444444444, \"#bd3786\"], [0.5555555555555556, \"#d8576b\"], [0.6666666666666666, \"#ed7953\"], [0.7777777777777778, \"#fb9f3a\"], [0.8888888888888888, \"#fdca26\"], [1.0, \"#f0f921\"]], \"type\": \"histogram2d\"}], \"histogram2dcontour\": [{\"colorbar\": {\"outlinewidth\": 0, \"ticks\": \"\"}, \"colorscale\": [[0.0, \"#0d0887\"], [0.1111111111111111, \"#46039f\"], [0.2222222222222222, \"#7201a8\"], [0.3333333333333333, \"#9c179e\"], [0.4444444444444444, \"#bd3786\"], [0.5555555555555556, \"#d8576b\"], [0.6666666666666666, \"#ed7953\"], [0.7777777777777778, \"#fb9f3a\"], [0.8888888888888888, \"#fdca26\"], [1.0, \"#f0f921\"]], \"type\": \"histogram2dcontour\"}], \"mesh3d\": [{\"colorbar\": {\"outlinewidth\": 0, \"ticks\": \"\"}, \"type\": \"mesh3d\"}], \"parcoords\": [{\"line\": {\"colorbar\": {\"outlinewidth\": 0, \"ticks\": \"\"}}, \"type\": \"parcoords\"}], \"pie\": [{\"automargin\": true, \"type\": \"pie\"}], \"scatter\": [{\"marker\": {\"colorbar\": {\"outlinewidth\": 0, \"ticks\": \"\"}}, \"type\": \"scatter\"}], \"scatter3d\": [{\"line\": {\"colorbar\": {\"outlinewidth\": 0, \"ticks\": \"\"}}, \"marker\": {\"colorbar\": {\"outlinewidth\": 0, \"ticks\": \"\"}}, \"type\": \"scatter3d\"}], \"scattercarpet\": [{\"marker\": {\"colorbar\": {\"outlinewidth\": 0, \"ticks\": \"\"}}, \"type\": \"scattercarpet\"}], \"scattergeo\": [{\"marker\": {\"colorbar\": {\"outlinewidth\": 0, \"ticks\": \"\"}}, \"type\": \"scattergeo\"}], \"scattergl\": [{\"marker\": {\"colorbar\": {\"outlinewidth\": 0, \"ticks\": \"\"}}, \"type\": \"scattergl\"}], \"scattermapbox\": [{\"marker\": {\"colorbar\": {\"outlinewidth\": 0, \"ticks\": \"\"}}, \"type\": \"scattermapbox\"}], \"scatterpolar\": [{\"marker\": {\"colorbar\": {\"outlinewidth\": 0, \"ticks\": \"\"}}, \"type\": \"scatterpolar\"}], \"scatterpolargl\": [{\"marker\": {\"colorbar\": {\"outlinewidth\": 0, \"ticks\": \"\"}}, \"type\": \"scatterpolargl\"}], \"scatterternary\": [{\"marker\": {\"colorbar\": {\"outlinewidth\": 0, \"ticks\": \"\"}}, \"type\": \"scatterternary\"}], \"surface\": [{\"colorbar\": {\"outlinewidth\": 0, \"ticks\": \"\"}, \"colorscale\": [[0.0, \"#0d0887\"], [0.1111111111111111, \"#46039f\"], [0.2222222222222222, \"#7201a8\"], [0.3333333333333333, \"#9c179e\"], [0.4444444444444444, \"#bd3786\"], [0.5555555555555556, \"#d8576b\"], [0.6666666666666666, \"#ed7953\"], [0.7777777777777778, \"#fb9f3a\"], [0.8888888888888888, \"#fdca26\"], [1.0, \"#f0f921\"]], \"type\": \"surface\"}], \"table\": [{\"cells\": {\"fill\": {\"color\": \"#EBF0F8\"}, \"line\": {\"color\": \"white\"}}, \"header\": {\"fill\": {\"color\": \"#C8D4E3\"}, \"line\": {\"color\": \"white\"}}, \"type\": \"table\"}]}, \"layout\": {\"annotationdefaults\": {\"arrowcolor\": \"#2a3f5f\", \"arrowhead\": 0, \"arrowwidth\": 1}, \"coloraxis\": {\"colorbar\": {\"outlinewidth\": 0, \"ticks\": \"\"}}, \"colorscale\": {\"diverging\": [[0, \"#8e0152\"], [0.1, \"#c51b7d\"], [0.2, \"#de77ae\"], [0.3, \"#f1b6da\"], [0.4, \"#fde0ef\"], [0.5, \"#f7f7f7\"], [0.6, \"#e6f5d0\"], [0.7, \"#b8e186\"], [0.8, \"#7fbc41\"], [0.9, \"#4d9221\"], [1, \"#276419\"]], \"sequential\": [[0.0, \"#0d0887\"], [0.1111111111111111, \"#46039f\"], [0.2222222222222222, \"#7201a8\"], [0.3333333333333333, \"#9c179e\"], [0.4444444444444444, \"#bd3786\"], [0.5555555555555556, \"#d8576b\"], [0.6666666666666666, \"#ed7953\"], [0.7777777777777778, \"#fb9f3a\"], [0.8888888888888888, \"#fdca26\"], [1.0, \"#f0f921\"]], \"sequentialminus\": [[0.0, \"#0d0887\"], [0.1111111111111111, \"#46039f\"], [0.2222222222222222, \"#7201a8\"], [0.3333333333333333, \"#9c179e\"], [0.4444444444444444, \"#bd3786\"], [0.5555555555555556, \"#d8576b\"], [0.6666666666666666, \"#ed7953\"], [0.7777777777777778, \"#fb9f3a\"], [0.8888888888888888, \"#fdca26\"], [1.0, \"#f0f921\"]]}, \"colorway\": [\"#636efa\", \"#EF553B\", \"#00cc96\", \"#ab63fa\", \"#FFA15A\", \"#19d3f3\", \"#FF6692\", \"#B6E880\", \"#FF97FF\", \"#FECB52\"], \"font\": {\"color\": \"#2a3f5f\"}, \"geo\": {\"bgcolor\": \"white\", \"lakecolor\": \"white\", \"landcolor\": \"#E5ECF6\", \"showlakes\": true, \"showland\": true, \"subunitcolor\": \"white\"}, \"hoverlabel\": {\"align\": \"left\"}, \"hovermode\": \"closest\", \"mapbox\": {\"style\": \"light\"}, \"paper_bgcolor\": \"white\", \"plot_bgcolor\": \"#E5ECF6\", \"polar\": {\"angularaxis\": {\"gridcolor\": \"white\", \"linecolor\": \"white\", \"ticks\": \"\"}, \"bgcolor\": \"#E5ECF6\", \"radialaxis\": {\"gridcolor\": \"white\", \"linecolor\": \"white\", \"ticks\": \"\"}}, \"scene\": {\"xaxis\": {\"backgroundcolor\": \"#E5ECF6\", \"gridcolor\": \"white\", \"gridwidth\": 2, \"linecolor\": \"white\", \"showbackground\": true, \"ticks\": \"\", \"zerolinecolor\": \"white\"}, \"yaxis\": {\"backgroundcolor\": \"#E5ECF6\", \"gridcolor\": \"white\", \"gridwidth\": 2, \"linecolor\": \"white\", \"showbackground\": true, \"ticks\": \"\", \"zerolinecolor\": \"white\"}, \"zaxis\": {\"backgroundcolor\": \"#E5ECF6\", \"gridcolor\": \"white\", \"gridwidth\": 2, \"linecolor\": \"white\", \"showbackground\": true, \"ticks\": \"\", \"zerolinecolor\": \"white\"}}, \"shapedefaults\": {\"line\": {\"color\": \"#2a3f5f\"}}, \"ternary\": {\"aaxis\": {\"gridcolor\": \"white\", \"linecolor\": \"white\", \"ticks\": \"\"}, \"baxis\": {\"gridcolor\": \"white\", \"linecolor\": \"white\", \"ticks\": \"\"}, \"bgcolor\": \"#E5ECF6\", \"caxis\": {\"gridcolor\": \"white\", \"linecolor\": \"white\", \"ticks\": \"\"}}, \"title\": {\"x\": 0.05}, \"xaxis\": {\"automargin\": true, \"gridcolor\": \"white\", \"linecolor\": \"white\", \"ticks\": \"\", \"title\": {\"standoff\": 15}, \"zerolinecolor\": \"white\", \"zerolinewidth\": 2}, \"yaxis\": {\"automargin\": true, \"gridcolor\": \"white\", \"linecolor\": \"white\", \"ticks\": \"\", \"title\": {\"standoff\": 15}, \"zerolinecolor\": \"white\", \"zerolinewidth\": 2}}}, \"title\": {\"text\": \"Variation Of Accuracy With Different Models\"}, \"width\": 700, \"xaxis\": {\"nticks\": 40, \"title\": {\"text\": \"Models\"}}, \"yaxis\": {\"nticks\": 20, \"range\": [0.8, 1], \"title\": {\"text\": \"Accuracy\"}}},\n",
              "                        {\"responsive\": true}\n",
              "                    ).then(function(){\n",
              "                            \n",
              "var gd = document.getElementById('784a9d15-2d87-4468-9dcc-d5863a99749d');\n",
              "var x = new MutationObserver(function (mutations, observer) {{\n",
              "        var display = window.getComputedStyle(gd).display;\n",
              "        if (!display || display === 'none') {{\n",
              "            console.log([gd, 'removed!']);\n",
              "            Plotly.purge(gd);\n",
              "            observer.disconnect();\n",
              "        }}\n",
              "}});\n",
              "\n",
              "// Listen for the removal of the full notebook cells\n",
              "var notebookContainer = gd.closest('#notebook-container');\n",
              "if (notebookContainer) {{\n",
              "    x.observe(notebookContainer, {childList: true});\n",
              "}}\n",
              "\n",
              "// Listen for the clearing of the current output cell\n",
              "var outputEl = gd.closest('.output');\n",
              "if (outputEl) {{\n",
              "    x.observe(outputEl, {childList: true});\n",
              "}}\n",
              "\n",
              "                        })\n",
              "                };\n",
              "                \n",
              "            </script>\n",
              "        </div>\n",
              "</body>\n",
              "</html>"
            ]
          },
          "metadata": {
            "tags": []
          }
        }
      ]
    },
    {
      "cell_type": "code",
      "metadata": {
        "colab": {
          "base_uri": "https://localhost:8080/",
          "height": 467
        },
        "id": "7J7S4-VmZ9Vw",
        "outputId": "fdc624e9-e9ec-4aa7-8d95-3cf6555f1fd6"
      },
      "source": [
        "y_tr=[ 0.9411\t  ,0.9270\t     ,0.9323\t  ,0.9353\t   ,0.9629,\t0.9963\t,0.9749]\r\n",
        "y_tst=[0.9462\t  ,0.9148\t     ,0.9450,\t  0.9247\t  , 0.9565\t,0.9894\t ,1.0]\r\n",
        "x= ['LR','NB','KNN','DT','RF','ANN','ANN+Embeddings']\r\n",
        "\r\n",
        "fig = go.Figure()\r\n",
        "fig.add_trace(go.Bar(x=x, y=y_tr,name='Train'))\r\n",
        "fig.add_trace(go.Bar(x=x, y=y_tst,name='Test'))\r\n",
        "fig.update_layout(autosize=False,\r\n",
        "    width=700,\r\n",
        "    height=450,title='Variation Of F1 Score With Different Models',xaxis_title=\"Models\",\r\n",
        "    yaxis_title=\"F1 Score\",)\r\n",
        "fig.update_yaxes(nticks=20)\r\n",
        "fig.update_xaxes(nticks=40)\r\n",
        "fig.update_traces(textposition='outside')\r\n",
        "fig.update_yaxes(range=[0.8, 1])\r\n",
        "fig.show()"
      ],
      "execution_count": null,
      "outputs": [
        {
          "output_type": "display_data",
          "data": {
            "text/html": [
              "<html>\n",
              "<head><meta charset=\"utf-8\" /></head>\n",
              "<body>\n",
              "    <div>\n",
              "            <script src=\"https://cdnjs.cloudflare.com/ajax/libs/mathjax/2.7.5/MathJax.js?config=TeX-AMS-MML_SVG\"></script><script type=\"text/javascript\">if (window.MathJax) {MathJax.Hub.Config({SVG: {font: \"STIX-Web\"}});}</script>\n",
              "                <script type=\"text/javascript\">window.PlotlyConfig = {MathJaxConfig: 'local'};</script>\n",
              "        <script src=\"https://cdn.plot.ly/plotly-latest.min.js\"></script>    \n",
              "            <div id=\"6eae00cb-b262-4718-b4ee-894d06c1fb98\" class=\"plotly-graph-div\" style=\"height:450px; width:700px;\"></div>\n",
              "            <script type=\"text/javascript\">\n",
              "                \n",
              "                    window.PLOTLYENV=window.PLOTLYENV || {};\n",
              "                    \n",
              "                if (document.getElementById(\"6eae00cb-b262-4718-b4ee-894d06c1fb98\")) {\n",
              "                    Plotly.newPlot(\n",
              "                        '6eae00cb-b262-4718-b4ee-894d06c1fb98',\n",
              "                        [{\"name\": \"Train\", \"textposition\": \"outside\", \"type\": \"bar\", \"x\": [\"LR\", \"NB\", \"KNN\", \"DT\", \"RF\", \"ANN\", \"ANN+Embeddings\"], \"y\": [0.9411, 0.927, 0.9323, 0.9353, 0.9629, 0.9963, 0.9749]}, {\"name\": \"Test\", \"textposition\": \"outside\", \"type\": \"bar\", \"x\": [\"LR\", \"NB\", \"KNN\", \"DT\", \"RF\", \"ANN\", \"ANN+Embeddings\"], \"y\": [0.9462, 0.9148, 0.945, 0.9247, 0.9565, 0.9894, 1.0]}],\n",
              "                        {\"autosize\": false, \"height\": 450, \"template\": {\"data\": {\"bar\": [{\"error_x\": {\"color\": \"#2a3f5f\"}, \"error_y\": {\"color\": \"#2a3f5f\"}, \"marker\": {\"line\": {\"color\": \"#E5ECF6\", \"width\": 0.5}}, \"type\": \"bar\"}], \"barpolar\": [{\"marker\": {\"line\": {\"color\": \"#E5ECF6\", \"width\": 0.5}}, \"type\": \"barpolar\"}], \"carpet\": [{\"aaxis\": {\"endlinecolor\": \"#2a3f5f\", \"gridcolor\": \"white\", \"linecolor\": \"white\", \"minorgridcolor\": \"white\", \"startlinecolor\": \"#2a3f5f\"}, \"baxis\": {\"endlinecolor\": \"#2a3f5f\", \"gridcolor\": \"white\", \"linecolor\": \"white\", \"minorgridcolor\": \"white\", \"startlinecolor\": \"#2a3f5f\"}, \"type\": \"carpet\"}], \"choropleth\": [{\"colorbar\": {\"outlinewidth\": 0, \"ticks\": \"\"}, \"type\": \"choropleth\"}], \"contour\": [{\"colorbar\": {\"outlinewidth\": 0, \"ticks\": \"\"}, \"colorscale\": [[0.0, \"#0d0887\"], [0.1111111111111111, \"#46039f\"], [0.2222222222222222, \"#7201a8\"], [0.3333333333333333, \"#9c179e\"], [0.4444444444444444, \"#bd3786\"], [0.5555555555555556, \"#d8576b\"], [0.6666666666666666, \"#ed7953\"], [0.7777777777777778, \"#fb9f3a\"], [0.8888888888888888, \"#fdca26\"], [1.0, \"#f0f921\"]], \"type\": \"contour\"}], \"contourcarpet\": [{\"colorbar\": {\"outlinewidth\": 0, \"ticks\": \"\"}, \"type\": \"contourcarpet\"}], \"heatmap\": [{\"colorbar\": {\"outlinewidth\": 0, \"ticks\": \"\"}, \"colorscale\": [[0.0, \"#0d0887\"], [0.1111111111111111, \"#46039f\"], [0.2222222222222222, \"#7201a8\"], [0.3333333333333333, \"#9c179e\"], [0.4444444444444444, \"#bd3786\"], [0.5555555555555556, \"#d8576b\"], [0.6666666666666666, \"#ed7953\"], [0.7777777777777778, \"#fb9f3a\"], [0.8888888888888888, \"#fdca26\"], [1.0, \"#f0f921\"]], \"type\": \"heatmap\"}], \"heatmapgl\": [{\"colorbar\": {\"outlinewidth\": 0, \"ticks\": \"\"}, \"colorscale\": [[0.0, \"#0d0887\"], [0.1111111111111111, \"#46039f\"], [0.2222222222222222, \"#7201a8\"], [0.3333333333333333, \"#9c179e\"], [0.4444444444444444, \"#bd3786\"], [0.5555555555555556, \"#d8576b\"], [0.6666666666666666, \"#ed7953\"], [0.7777777777777778, \"#fb9f3a\"], [0.8888888888888888, \"#fdca26\"], [1.0, \"#f0f921\"]], \"type\": \"heatmapgl\"}], \"histogram\": [{\"marker\": {\"colorbar\": {\"outlinewidth\": 0, \"ticks\": \"\"}}, \"type\": \"histogram\"}], \"histogram2d\": [{\"colorbar\": {\"outlinewidth\": 0, \"ticks\": \"\"}, \"colorscale\": [[0.0, \"#0d0887\"], [0.1111111111111111, \"#46039f\"], [0.2222222222222222, \"#7201a8\"], [0.3333333333333333, \"#9c179e\"], [0.4444444444444444, \"#bd3786\"], [0.5555555555555556, \"#d8576b\"], [0.6666666666666666, \"#ed7953\"], [0.7777777777777778, \"#fb9f3a\"], [0.8888888888888888, \"#fdca26\"], [1.0, \"#f0f921\"]], \"type\": \"histogram2d\"}], \"histogram2dcontour\": [{\"colorbar\": {\"outlinewidth\": 0, \"ticks\": \"\"}, \"colorscale\": [[0.0, \"#0d0887\"], [0.1111111111111111, \"#46039f\"], [0.2222222222222222, \"#7201a8\"], [0.3333333333333333, \"#9c179e\"], [0.4444444444444444, \"#bd3786\"], [0.5555555555555556, \"#d8576b\"], [0.6666666666666666, \"#ed7953\"], [0.7777777777777778, \"#fb9f3a\"], [0.8888888888888888, \"#fdca26\"], [1.0, \"#f0f921\"]], \"type\": \"histogram2dcontour\"}], \"mesh3d\": [{\"colorbar\": {\"outlinewidth\": 0, \"ticks\": \"\"}, \"type\": \"mesh3d\"}], \"parcoords\": [{\"line\": {\"colorbar\": {\"outlinewidth\": 0, \"ticks\": \"\"}}, \"type\": \"parcoords\"}], \"pie\": [{\"automargin\": true, \"type\": \"pie\"}], \"scatter\": [{\"marker\": {\"colorbar\": {\"outlinewidth\": 0, \"ticks\": \"\"}}, \"type\": \"scatter\"}], \"scatter3d\": [{\"line\": {\"colorbar\": {\"outlinewidth\": 0, \"ticks\": \"\"}}, \"marker\": {\"colorbar\": {\"outlinewidth\": 0, \"ticks\": \"\"}}, \"type\": \"scatter3d\"}], \"scattercarpet\": [{\"marker\": {\"colorbar\": {\"outlinewidth\": 0, \"ticks\": \"\"}}, \"type\": \"scattercarpet\"}], \"scattergeo\": [{\"marker\": {\"colorbar\": {\"outlinewidth\": 0, \"ticks\": \"\"}}, \"type\": \"scattergeo\"}], \"scattergl\": [{\"marker\": {\"colorbar\": {\"outlinewidth\": 0, \"ticks\": \"\"}}, \"type\": \"scattergl\"}], \"scattermapbox\": [{\"marker\": {\"colorbar\": {\"outlinewidth\": 0, \"ticks\": \"\"}}, \"type\": \"scattermapbox\"}], \"scatterpolar\": [{\"marker\": {\"colorbar\": {\"outlinewidth\": 0, \"ticks\": \"\"}}, \"type\": \"scatterpolar\"}], \"scatterpolargl\": [{\"marker\": {\"colorbar\": {\"outlinewidth\": 0, \"ticks\": \"\"}}, \"type\": \"scatterpolargl\"}], \"scatterternary\": [{\"marker\": {\"colorbar\": {\"outlinewidth\": 0, \"ticks\": \"\"}}, \"type\": \"scatterternary\"}], \"surface\": [{\"colorbar\": {\"outlinewidth\": 0, \"ticks\": \"\"}, \"colorscale\": [[0.0, \"#0d0887\"], [0.1111111111111111, \"#46039f\"], [0.2222222222222222, \"#7201a8\"], [0.3333333333333333, \"#9c179e\"], [0.4444444444444444, \"#bd3786\"], [0.5555555555555556, \"#d8576b\"], [0.6666666666666666, \"#ed7953\"], [0.7777777777777778, \"#fb9f3a\"], [0.8888888888888888, \"#fdca26\"], [1.0, \"#f0f921\"]], \"type\": \"surface\"}], \"table\": [{\"cells\": {\"fill\": {\"color\": \"#EBF0F8\"}, \"line\": {\"color\": \"white\"}}, \"header\": {\"fill\": {\"color\": \"#C8D4E3\"}, \"line\": {\"color\": \"white\"}}, \"type\": \"table\"}]}, \"layout\": {\"annotationdefaults\": {\"arrowcolor\": \"#2a3f5f\", \"arrowhead\": 0, \"arrowwidth\": 1}, \"coloraxis\": {\"colorbar\": {\"outlinewidth\": 0, \"ticks\": \"\"}}, \"colorscale\": {\"diverging\": [[0, \"#8e0152\"], [0.1, \"#c51b7d\"], [0.2, \"#de77ae\"], [0.3, \"#f1b6da\"], [0.4, \"#fde0ef\"], [0.5, \"#f7f7f7\"], [0.6, \"#e6f5d0\"], [0.7, \"#b8e186\"], [0.8, \"#7fbc41\"], [0.9, \"#4d9221\"], [1, \"#276419\"]], \"sequential\": [[0.0, \"#0d0887\"], [0.1111111111111111, \"#46039f\"], [0.2222222222222222, \"#7201a8\"], [0.3333333333333333, \"#9c179e\"], [0.4444444444444444, \"#bd3786\"], [0.5555555555555556, \"#d8576b\"], [0.6666666666666666, \"#ed7953\"], [0.7777777777777778, \"#fb9f3a\"], [0.8888888888888888, \"#fdca26\"], [1.0, \"#f0f921\"]], \"sequentialminus\": [[0.0, \"#0d0887\"], [0.1111111111111111, \"#46039f\"], [0.2222222222222222, \"#7201a8\"], [0.3333333333333333, \"#9c179e\"], [0.4444444444444444, \"#bd3786\"], [0.5555555555555556, \"#d8576b\"], [0.6666666666666666, \"#ed7953\"], [0.7777777777777778, \"#fb9f3a\"], [0.8888888888888888, \"#fdca26\"], [1.0, \"#f0f921\"]]}, \"colorway\": [\"#636efa\", \"#EF553B\", \"#00cc96\", \"#ab63fa\", \"#FFA15A\", \"#19d3f3\", \"#FF6692\", \"#B6E880\", \"#FF97FF\", \"#FECB52\"], \"font\": {\"color\": \"#2a3f5f\"}, \"geo\": {\"bgcolor\": \"white\", \"lakecolor\": \"white\", \"landcolor\": \"#E5ECF6\", \"showlakes\": true, \"showland\": true, \"subunitcolor\": \"white\"}, \"hoverlabel\": {\"align\": \"left\"}, \"hovermode\": \"closest\", \"mapbox\": {\"style\": \"light\"}, \"paper_bgcolor\": \"white\", \"plot_bgcolor\": \"#E5ECF6\", \"polar\": {\"angularaxis\": {\"gridcolor\": \"white\", \"linecolor\": \"white\", \"ticks\": \"\"}, \"bgcolor\": \"#E5ECF6\", \"radialaxis\": {\"gridcolor\": \"white\", \"linecolor\": \"white\", \"ticks\": \"\"}}, \"scene\": {\"xaxis\": {\"backgroundcolor\": \"#E5ECF6\", \"gridcolor\": \"white\", \"gridwidth\": 2, \"linecolor\": \"white\", \"showbackground\": true, \"ticks\": \"\", \"zerolinecolor\": \"white\"}, \"yaxis\": {\"backgroundcolor\": \"#E5ECF6\", \"gridcolor\": \"white\", \"gridwidth\": 2, \"linecolor\": \"white\", \"showbackground\": true, \"ticks\": \"\", \"zerolinecolor\": \"white\"}, \"zaxis\": {\"backgroundcolor\": \"#E5ECF6\", \"gridcolor\": \"white\", \"gridwidth\": 2, \"linecolor\": \"white\", \"showbackground\": true, \"ticks\": \"\", \"zerolinecolor\": \"white\"}}, \"shapedefaults\": {\"line\": {\"color\": \"#2a3f5f\"}}, \"ternary\": {\"aaxis\": {\"gridcolor\": \"white\", \"linecolor\": \"white\", \"ticks\": \"\"}, \"baxis\": {\"gridcolor\": \"white\", \"linecolor\": \"white\", \"ticks\": \"\"}, \"bgcolor\": \"#E5ECF6\", \"caxis\": {\"gridcolor\": \"white\", \"linecolor\": \"white\", \"ticks\": \"\"}}, \"title\": {\"x\": 0.05}, \"xaxis\": {\"automargin\": true, \"gridcolor\": \"white\", \"linecolor\": \"white\", \"ticks\": \"\", \"title\": {\"standoff\": 15}, \"zerolinecolor\": \"white\", \"zerolinewidth\": 2}, \"yaxis\": {\"automargin\": true, \"gridcolor\": \"white\", \"linecolor\": \"white\", \"ticks\": \"\", \"title\": {\"standoff\": 15}, \"zerolinecolor\": \"white\", \"zerolinewidth\": 2}}}, \"title\": {\"text\": \"Variation Of F1 Score With Different Models\"}, \"width\": 700, \"xaxis\": {\"nticks\": 40, \"title\": {\"text\": \"Models\"}}, \"yaxis\": {\"nticks\": 20, \"range\": [0.8, 1], \"title\": {\"text\": \"F1 Score\"}}},\n",
              "                        {\"responsive\": true}\n",
              "                    ).then(function(){\n",
              "                            \n",
              "var gd = document.getElementById('6eae00cb-b262-4718-b4ee-894d06c1fb98');\n",
              "var x = new MutationObserver(function (mutations, observer) {{\n",
              "        var display = window.getComputedStyle(gd).display;\n",
              "        if (!display || display === 'none') {{\n",
              "            console.log([gd, 'removed!']);\n",
              "            Plotly.purge(gd);\n",
              "            observer.disconnect();\n",
              "        }}\n",
              "}});\n",
              "\n",
              "// Listen for the removal of the full notebook cells\n",
              "var notebookContainer = gd.closest('#notebook-container');\n",
              "if (notebookContainer) {{\n",
              "    x.observe(notebookContainer, {childList: true});\n",
              "}}\n",
              "\n",
              "// Listen for the clearing of the current output cell\n",
              "var outputEl = gd.closest('.output');\n",
              "if (outputEl) {{\n",
              "    x.observe(outputEl, {childList: true});\n",
              "}}\n",
              "\n",
              "                        })\n",
              "                };\n",
              "                \n",
              "            </script>\n",
              "        </div>\n",
              "</body>\n",
              "</html>"
            ]
          },
          "metadata": {
            "tags": []
          }
        }
      ]
    },
    {
      "cell_type": "code",
      "metadata": {
        "colab": {
          "base_uri": "https://localhost:8080/",
          "height": 467
        },
        "id": "vtVUUSOhk6qE",
        "outputId": "130e1696-cd74-44cb-b4c2-0cd71567c7f3"
      },
      "source": [
        "y_tr=[ 0.9446\t  ,0.9236\t     ,0.9877\t  ,0.9440\t   ,0.9737\t,0.9927\t,0.9628]\r\n",
        "y_tst=[\t 0.9565\t , 0.9148\t    , 0.9772\t , 0.9347\t   ,0.9777\t,0.9791\t,1.0]\r\n",
        "x= ['LR','NB','KNN','DT','RF','ANN','ANN+Embeddings']\r\n",
        "\r\n",
        "fig = go.Figure()\r\n",
        "fig.add_trace(go.Bar(x=x, y=y_tr,name='Train'))\r\n",
        "fig.add_trace(go.Bar(x=x, y=y_tst,name='Test'))\r\n",
        "fig.update_layout(autosize=False,\r\n",
        "    width=700,\r\n",
        "    height=450,title='Variation Of Precision With Different Models',xaxis_title=\"Models\",\r\n",
        "    yaxis_title=\"Precision\")\r\n",
        "fig.update_yaxes(nticks=20)\r\n",
        "fig.update_xaxes(nticks=40)\r\n",
        "fig.update_traces(textposition='outside')\r\n",
        "fig.update_yaxes(range=[0.8, 1])\r\n",
        "fig.show()"
      ],
      "execution_count": null,
      "outputs": [
        {
          "output_type": "display_data",
          "data": {
            "text/html": [
              "<html>\n",
              "<head><meta charset=\"utf-8\" /></head>\n",
              "<body>\n",
              "    <div>\n",
              "            <script src=\"https://cdnjs.cloudflare.com/ajax/libs/mathjax/2.7.5/MathJax.js?config=TeX-AMS-MML_SVG\"></script><script type=\"text/javascript\">if (window.MathJax) {MathJax.Hub.Config({SVG: {font: \"STIX-Web\"}});}</script>\n",
              "                <script type=\"text/javascript\">window.PlotlyConfig = {MathJaxConfig: 'local'};</script>\n",
              "        <script src=\"https://cdn.plot.ly/plotly-latest.min.js\"></script>    \n",
              "            <div id=\"74db71eb-3f3e-4bfb-9f0f-ad6dbe0e6d5b\" class=\"plotly-graph-div\" style=\"height:450px; width:700px;\"></div>\n",
              "            <script type=\"text/javascript\">\n",
              "                \n",
              "                    window.PLOTLYENV=window.PLOTLYENV || {};\n",
              "                    \n",
              "                if (document.getElementById(\"74db71eb-3f3e-4bfb-9f0f-ad6dbe0e6d5b\")) {\n",
              "                    Plotly.newPlot(\n",
              "                        '74db71eb-3f3e-4bfb-9f0f-ad6dbe0e6d5b',\n",
              "                        [{\"name\": \"Train\", \"textposition\": \"outside\", \"type\": \"bar\", \"x\": [\"LR\", \"NB\", \"KNN\", \"DT\", \"RF\", \"ANN\", \"ANN+Embeddings\"], \"y\": [0.9446, 0.9236, 0.9877, 0.944, 0.9737, 0.9927, 0.9628]}, {\"name\": \"Test\", \"textposition\": \"outside\", \"type\": \"bar\", \"x\": [\"LR\", \"NB\", \"KNN\", \"DT\", \"RF\", \"ANN\", \"ANN+Embeddings\"], \"y\": [0.9565, 0.9148, 0.9772, 0.9347, 0.9777, 0.9791, 1.0]}],\n",
              "                        {\"autosize\": false, \"height\": 450, \"template\": {\"data\": {\"bar\": [{\"error_x\": {\"color\": \"#2a3f5f\"}, \"error_y\": {\"color\": \"#2a3f5f\"}, \"marker\": {\"line\": {\"color\": \"#E5ECF6\", \"width\": 0.5}}, \"type\": \"bar\"}], \"barpolar\": [{\"marker\": {\"line\": {\"color\": \"#E5ECF6\", \"width\": 0.5}}, \"type\": \"barpolar\"}], \"carpet\": [{\"aaxis\": {\"endlinecolor\": \"#2a3f5f\", \"gridcolor\": \"white\", \"linecolor\": \"white\", \"minorgridcolor\": \"white\", \"startlinecolor\": \"#2a3f5f\"}, \"baxis\": {\"endlinecolor\": \"#2a3f5f\", \"gridcolor\": \"white\", \"linecolor\": \"white\", \"minorgridcolor\": \"white\", \"startlinecolor\": \"#2a3f5f\"}, \"type\": \"carpet\"}], \"choropleth\": [{\"colorbar\": {\"outlinewidth\": 0, \"ticks\": \"\"}, \"type\": \"choropleth\"}], \"contour\": [{\"colorbar\": {\"outlinewidth\": 0, \"ticks\": \"\"}, \"colorscale\": [[0.0, \"#0d0887\"], [0.1111111111111111, \"#46039f\"], [0.2222222222222222, \"#7201a8\"], [0.3333333333333333, \"#9c179e\"], [0.4444444444444444, \"#bd3786\"], [0.5555555555555556, \"#d8576b\"], [0.6666666666666666, \"#ed7953\"], [0.7777777777777778, \"#fb9f3a\"], [0.8888888888888888, \"#fdca26\"], [1.0, \"#f0f921\"]], \"type\": \"contour\"}], \"contourcarpet\": [{\"colorbar\": {\"outlinewidth\": 0, \"ticks\": \"\"}, \"type\": \"contourcarpet\"}], \"heatmap\": [{\"colorbar\": {\"outlinewidth\": 0, \"ticks\": \"\"}, \"colorscale\": [[0.0, \"#0d0887\"], [0.1111111111111111, \"#46039f\"], [0.2222222222222222, \"#7201a8\"], [0.3333333333333333, \"#9c179e\"], [0.4444444444444444, \"#bd3786\"], [0.5555555555555556, \"#d8576b\"], [0.6666666666666666, \"#ed7953\"], [0.7777777777777778, \"#fb9f3a\"], [0.8888888888888888, \"#fdca26\"], [1.0, \"#f0f921\"]], \"type\": \"heatmap\"}], \"heatmapgl\": [{\"colorbar\": {\"outlinewidth\": 0, \"ticks\": \"\"}, \"colorscale\": [[0.0, \"#0d0887\"], [0.1111111111111111, \"#46039f\"], [0.2222222222222222, \"#7201a8\"], [0.3333333333333333, \"#9c179e\"], [0.4444444444444444, \"#bd3786\"], [0.5555555555555556, \"#d8576b\"], [0.6666666666666666, \"#ed7953\"], [0.7777777777777778, \"#fb9f3a\"], [0.8888888888888888, \"#fdca26\"], [1.0, \"#f0f921\"]], \"type\": \"heatmapgl\"}], \"histogram\": [{\"marker\": {\"colorbar\": {\"outlinewidth\": 0, \"ticks\": \"\"}}, \"type\": \"histogram\"}], \"histogram2d\": [{\"colorbar\": {\"outlinewidth\": 0, \"ticks\": \"\"}, \"colorscale\": [[0.0, \"#0d0887\"], [0.1111111111111111, \"#46039f\"], [0.2222222222222222, \"#7201a8\"], [0.3333333333333333, \"#9c179e\"], [0.4444444444444444, \"#bd3786\"], [0.5555555555555556, \"#d8576b\"], [0.6666666666666666, \"#ed7953\"], [0.7777777777777778, \"#fb9f3a\"], [0.8888888888888888, \"#fdca26\"], [1.0, \"#f0f921\"]], \"type\": \"histogram2d\"}], \"histogram2dcontour\": [{\"colorbar\": {\"outlinewidth\": 0, \"ticks\": \"\"}, \"colorscale\": [[0.0, \"#0d0887\"], [0.1111111111111111, \"#46039f\"], [0.2222222222222222, \"#7201a8\"], [0.3333333333333333, \"#9c179e\"], [0.4444444444444444, \"#bd3786\"], [0.5555555555555556, \"#d8576b\"], [0.6666666666666666, \"#ed7953\"], [0.7777777777777778, \"#fb9f3a\"], [0.8888888888888888, \"#fdca26\"], [1.0, \"#f0f921\"]], \"type\": \"histogram2dcontour\"}], \"mesh3d\": [{\"colorbar\": {\"outlinewidth\": 0, \"ticks\": \"\"}, \"type\": \"mesh3d\"}], \"parcoords\": [{\"line\": {\"colorbar\": {\"outlinewidth\": 0, \"ticks\": \"\"}}, \"type\": \"parcoords\"}], \"pie\": [{\"automargin\": true, \"type\": \"pie\"}], \"scatter\": [{\"marker\": {\"colorbar\": {\"outlinewidth\": 0, \"ticks\": \"\"}}, \"type\": \"scatter\"}], \"scatter3d\": [{\"line\": {\"colorbar\": {\"outlinewidth\": 0, \"ticks\": \"\"}}, \"marker\": {\"colorbar\": {\"outlinewidth\": 0, \"ticks\": \"\"}}, \"type\": \"scatter3d\"}], \"scattercarpet\": [{\"marker\": {\"colorbar\": {\"outlinewidth\": 0, \"ticks\": \"\"}}, \"type\": \"scattercarpet\"}], \"scattergeo\": [{\"marker\": {\"colorbar\": {\"outlinewidth\": 0, \"ticks\": \"\"}}, \"type\": \"scattergeo\"}], \"scattergl\": [{\"marker\": {\"colorbar\": {\"outlinewidth\": 0, \"ticks\": \"\"}}, \"type\": \"scattergl\"}], \"scattermapbox\": [{\"marker\": {\"colorbar\": {\"outlinewidth\": 0, \"ticks\": \"\"}}, \"type\": \"scattermapbox\"}], \"scatterpolar\": [{\"marker\": {\"colorbar\": {\"outlinewidth\": 0, \"ticks\": \"\"}}, \"type\": \"scatterpolar\"}], \"scatterpolargl\": [{\"marker\": {\"colorbar\": {\"outlinewidth\": 0, \"ticks\": \"\"}}, \"type\": \"scatterpolargl\"}], \"scatterternary\": [{\"marker\": {\"colorbar\": {\"outlinewidth\": 0, \"ticks\": \"\"}}, \"type\": \"scatterternary\"}], \"surface\": [{\"colorbar\": {\"outlinewidth\": 0, \"ticks\": \"\"}, \"colorscale\": [[0.0, \"#0d0887\"], [0.1111111111111111, \"#46039f\"], [0.2222222222222222, \"#7201a8\"], [0.3333333333333333, \"#9c179e\"], [0.4444444444444444, \"#bd3786\"], [0.5555555555555556, \"#d8576b\"], [0.6666666666666666, \"#ed7953\"], [0.7777777777777778, \"#fb9f3a\"], [0.8888888888888888, \"#fdca26\"], [1.0, \"#f0f921\"]], \"type\": \"surface\"}], \"table\": [{\"cells\": {\"fill\": {\"color\": \"#EBF0F8\"}, \"line\": {\"color\": \"white\"}}, \"header\": {\"fill\": {\"color\": \"#C8D4E3\"}, \"line\": {\"color\": \"white\"}}, \"type\": \"table\"}]}, \"layout\": {\"annotationdefaults\": {\"arrowcolor\": \"#2a3f5f\", \"arrowhead\": 0, \"arrowwidth\": 1}, \"coloraxis\": {\"colorbar\": {\"outlinewidth\": 0, \"ticks\": \"\"}}, \"colorscale\": {\"diverging\": [[0, \"#8e0152\"], [0.1, \"#c51b7d\"], [0.2, \"#de77ae\"], [0.3, \"#f1b6da\"], [0.4, \"#fde0ef\"], [0.5, \"#f7f7f7\"], [0.6, \"#e6f5d0\"], [0.7, \"#b8e186\"], [0.8, \"#7fbc41\"], [0.9, \"#4d9221\"], [1, \"#276419\"]], \"sequential\": [[0.0, \"#0d0887\"], [0.1111111111111111, \"#46039f\"], [0.2222222222222222, \"#7201a8\"], [0.3333333333333333, \"#9c179e\"], [0.4444444444444444, \"#bd3786\"], [0.5555555555555556, \"#d8576b\"], [0.6666666666666666, \"#ed7953\"], [0.7777777777777778, \"#fb9f3a\"], [0.8888888888888888, \"#fdca26\"], [1.0, \"#f0f921\"]], \"sequentialminus\": [[0.0, \"#0d0887\"], [0.1111111111111111, \"#46039f\"], [0.2222222222222222, \"#7201a8\"], [0.3333333333333333, \"#9c179e\"], [0.4444444444444444, \"#bd3786\"], [0.5555555555555556, \"#d8576b\"], [0.6666666666666666, \"#ed7953\"], [0.7777777777777778, \"#fb9f3a\"], [0.8888888888888888, \"#fdca26\"], [1.0, \"#f0f921\"]]}, \"colorway\": [\"#636efa\", \"#EF553B\", \"#00cc96\", \"#ab63fa\", \"#FFA15A\", \"#19d3f3\", \"#FF6692\", \"#B6E880\", \"#FF97FF\", \"#FECB52\"], \"font\": {\"color\": \"#2a3f5f\"}, \"geo\": {\"bgcolor\": \"white\", \"lakecolor\": \"white\", \"landcolor\": \"#E5ECF6\", \"showlakes\": true, \"showland\": true, \"subunitcolor\": \"white\"}, \"hoverlabel\": {\"align\": \"left\"}, \"hovermode\": \"closest\", \"mapbox\": {\"style\": \"light\"}, \"paper_bgcolor\": \"white\", \"plot_bgcolor\": \"#E5ECF6\", \"polar\": {\"angularaxis\": {\"gridcolor\": \"white\", \"linecolor\": \"white\", \"ticks\": \"\"}, \"bgcolor\": \"#E5ECF6\", \"radialaxis\": {\"gridcolor\": \"white\", \"linecolor\": \"white\", \"ticks\": \"\"}}, \"scene\": {\"xaxis\": {\"backgroundcolor\": \"#E5ECF6\", \"gridcolor\": \"white\", \"gridwidth\": 2, \"linecolor\": \"white\", \"showbackground\": true, \"ticks\": \"\", \"zerolinecolor\": \"white\"}, \"yaxis\": {\"backgroundcolor\": \"#E5ECF6\", \"gridcolor\": \"white\", \"gridwidth\": 2, \"linecolor\": \"white\", \"showbackground\": true, \"ticks\": \"\", \"zerolinecolor\": \"white\"}, \"zaxis\": {\"backgroundcolor\": \"#E5ECF6\", \"gridcolor\": \"white\", \"gridwidth\": 2, \"linecolor\": \"white\", \"showbackground\": true, \"ticks\": \"\", \"zerolinecolor\": \"white\"}}, \"shapedefaults\": {\"line\": {\"color\": \"#2a3f5f\"}}, \"ternary\": {\"aaxis\": {\"gridcolor\": \"white\", \"linecolor\": \"white\", \"ticks\": \"\"}, \"baxis\": {\"gridcolor\": \"white\", \"linecolor\": \"white\", \"ticks\": \"\"}, \"bgcolor\": \"#E5ECF6\", \"caxis\": {\"gridcolor\": \"white\", \"linecolor\": \"white\", \"ticks\": \"\"}}, \"title\": {\"x\": 0.05}, \"xaxis\": {\"automargin\": true, \"gridcolor\": \"white\", \"linecolor\": \"white\", \"ticks\": \"\", \"title\": {\"standoff\": 15}, \"zerolinecolor\": \"white\", \"zerolinewidth\": 2}, \"yaxis\": {\"automargin\": true, \"gridcolor\": \"white\", \"linecolor\": \"white\", \"ticks\": \"\", \"title\": {\"standoff\": 15}, \"zerolinecolor\": \"white\", \"zerolinewidth\": 2}}}, \"title\": {\"text\": \"Variation Of Precision With Different Models\"}, \"width\": 700, \"xaxis\": {\"nticks\": 40, \"title\": {\"text\": \"Models\"}}, \"yaxis\": {\"nticks\": 20, \"range\": [0.8, 1], \"title\": {\"text\": \"Precision\"}}},\n",
              "                        {\"responsive\": true}\n",
              "                    ).then(function(){\n",
              "                            \n",
              "var gd = document.getElementById('74db71eb-3f3e-4bfb-9f0f-ad6dbe0e6d5b');\n",
              "var x = new MutationObserver(function (mutations, observer) {{\n",
              "        var display = window.getComputedStyle(gd).display;\n",
              "        if (!display || display === 'none') {{\n",
              "            console.log([gd, 'removed!']);\n",
              "            Plotly.purge(gd);\n",
              "            observer.disconnect();\n",
              "        }}\n",
              "}});\n",
              "\n",
              "// Listen for the removal of the full notebook cells\n",
              "var notebookContainer = gd.closest('#notebook-container');\n",
              "if (notebookContainer) {{\n",
              "    x.observe(notebookContainer, {childList: true});\n",
              "}}\n",
              "\n",
              "// Listen for the clearing of the current output cell\n",
              "var outputEl = gd.closest('.output');\n",
              "if (outputEl) {{\n",
              "    x.observe(outputEl, {childList: true});\n",
              "}}\n",
              "\n",
              "                        })\n",
              "                };\n",
              "                \n",
              "            </script>\n",
              "        </div>\n",
              "</body>\n",
              "</html>"
            ]
          },
          "metadata": {
            "tags": []
          }
        }
      ]
    },
    {
      "cell_type": "code",
      "metadata": {
        "colab": {
          "base_uri": "https://localhost:8080/",
          "height": 467
        },
        "id": "548Vt9Xldt4F",
        "outputId": "ead8fec5-708c-4581-9841-daa8ee8c2ecc"
      },
      "source": [
        "y_tr=[0.9377\t  ,0.9304\t     ,0.8827\t  ,0.9267\t   ,0.9523,\t1.0000\t,0.9882]\r\n",
        "y_tst=[ 0.9361\t  ,0.9148\t     ,0.9148\t,  0.9148\t   ,0.9361\t,1.0000\t,1.0]\r\n",
        "x= ['LR','NB','KNN','DT','RF','ANN','ANN+Embeddings']\r\n",
        "\r\n",
        "fig = go.Figure()\r\n",
        "fig.add_trace(go.Bar(x=x, y=y_tr,name='Train'))\r\n",
        "fig.add_trace(go.Bar(x=x, y=y_tst,name='Test'))\r\n",
        "fig.update_layout(autosize=False,\r\n",
        "    width=700,\r\n",
        "    height=450,title='Variation Of Recall With Different Models',xaxis_title=\"Models\",\r\n",
        "    yaxis_title=\"Recall\",)\r\n",
        "fig.update_yaxes(nticks=20)\r\n",
        "fig.update_xaxes(nticks=40)\r\n",
        "fig.update_traces(textposition='outside')\r\n",
        "fig.update_yaxes(range=[0.8, 1])\r\n",
        "fig.show()"
      ],
      "execution_count": null,
      "outputs": [
        {
          "output_type": "display_data",
          "data": {
            "text/html": [
              "<html>\n",
              "<head><meta charset=\"utf-8\" /></head>\n",
              "<body>\n",
              "    <div>\n",
              "            <script src=\"https://cdnjs.cloudflare.com/ajax/libs/mathjax/2.7.5/MathJax.js?config=TeX-AMS-MML_SVG\"></script><script type=\"text/javascript\">if (window.MathJax) {MathJax.Hub.Config({SVG: {font: \"STIX-Web\"}});}</script>\n",
              "                <script type=\"text/javascript\">window.PlotlyConfig = {MathJaxConfig: 'local'};</script>\n",
              "        <script src=\"https://cdn.plot.ly/plotly-latest.min.js\"></script>    \n",
              "            <div id=\"2d2e473d-6cb4-422b-9015-aae0185404ab\" class=\"plotly-graph-div\" style=\"height:450px; width:700px;\"></div>\n",
              "            <script type=\"text/javascript\">\n",
              "                \n",
              "                    window.PLOTLYENV=window.PLOTLYENV || {};\n",
              "                    \n",
              "                if (document.getElementById(\"2d2e473d-6cb4-422b-9015-aae0185404ab\")) {\n",
              "                    Plotly.newPlot(\n",
              "                        '2d2e473d-6cb4-422b-9015-aae0185404ab',\n",
              "                        [{\"name\": \"Train\", \"textposition\": \"outside\", \"type\": \"bar\", \"x\": [\"LR\", \"NB\", \"KNN\", \"DT\", \"RF\", \"ANN\", \"ANN+Embeddings\"], \"y\": [0.9377, 0.9304, 0.8827, 0.9267, 0.9523, 1.0, 0.9882]}, {\"name\": \"Test\", \"textposition\": \"outside\", \"type\": \"bar\", \"x\": [\"LR\", \"NB\", \"KNN\", \"DT\", \"RF\", \"ANN\", \"ANN+Embeddings\"], \"y\": [0.9361, 0.9148, 0.9148, 0.9148, 0.9361, 1.0, 1.0]}],\n",
              "                        {\"autosize\": false, \"height\": 450, \"template\": {\"data\": {\"bar\": [{\"error_x\": {\"color\": \"#2a3f5f\"}, \"error_y\": {\"color\": \"#2a3f5f\"}, \"marker\": {\"line\": {\"color\": \"#E5ECF6\", \"width\": 0.5}}, \"type\": \"bar\"}], \"barpolar\": [{\"marker\": {\"line\": {\"color\": \"#E5ECF6\", \"width\": 0.5}}, \"type\": \"barpolar\"}], \"carpet\": [{\"aaxis\": {\"endlinecolor\": \"#2a3f5f\", \"gridcolor\": \"white\", \"linecolor\": \"white\", \"minorgridcolor\": \"white\", \"startlinecolor\": \"#2a3f5f\"}, \"baxis\": {\"endlinecolor\": \"#2a3f5f\", \"gridcolor\": \"white\", \"linecolor\": \"white\", \"minorgridcolor\": \"white\", \"startlinecolor\": \"#2a3f5f\"}, \"type\": \"carpet\"}], \"choropleth\": [{\"colorbar\": {\"outlinewidth\": 0, \"ticks\": \"\"}, \"type\": \"choropleth\"}], \"contour\": [{\"colorbar\": {\"outlinewidth\": 0, \"ticks\": \"\"}, \"colorscale\": [[0.0, \"#0d0887\"], [0.1111111111111111, \"#46039f\"], [0.2222222222222222, \"#7201a8\"], [0.3333333333333333, \"#9c179e\"], [0.4444444444444444, \"#bd3786\"], [0.5555555555555556, \"#d8576b\"], [0.6666666666666666, \"#ed7953\"], [0.7777777777777778, \"#fb9f3a\"], [0.8888888888888888, \"#fdca26\"], [1.0, \"#f0f921\"]], \"type\": \"contour\"}], \"contourcarpet\": [{\"colorbar\": {\"outlinewidth\": 0, \"ticks\": \"\"}, \"type\": \"contourcarpet\"}], \"heatmap\": [{\"colorbar\": {\"outlinewidth\": 0, \"ticks\": \"\"}, \"colorscale\": [[0.0, \"#0d0887\"], [0.1111111111111111, \"#46039f\"], [0.2222222222222222, \"#7201a8\"], [0.3333333333333333, \"#9c179e\"], [0.4444444444444444, \"#bd3786\"], [0.5555555555555556, \"#d8576b\"], [0.6666666666666666, \"#ed7953\"], [0.7777777777777778, \"#fb9f3a\"], [0.8888888888888888, \"#fdca26\"], [1.0, \"#f0f921\"]], \"type\": \"heatmap\"}], \"heatmapgl\": [{\"colorbar\": {\"outlinewidth\": 0, \"ticks\": \"\"}, \"colorscale\": [[0.0, \"#0d0887\"], [0.1111111111111111, \"#46039f\"], [0.2222222222222222, \"#7201a8\"], [0.3333333333333333, \"#9c179e\"], [0.4444444444444444, \"#bd3786\"], [0.5555555555555556, \"#d8576b\"], [0.6666666666666666, \"#ed7953\"], [0.7777777777777778, \"#fb9f3a\"], [0.8888888888888888, \"#fdca26\"], [1.0, \"#f0f921\"]], \"type\": \"heatmapgl\"}], \"histogram\": [{\"marker\": {\"colorbar\": {\"outlinewidth\": 0, \"ticks\": \"\"}}, \"type\": \"histogram\"}], \"histogram2d\": [{\"colorbar\": {\"outlinewidth\": 0, \"ticks\": \"\"}, \"colorscale\": [[0.0, \"#0d0887\"], [0.1111111111111111, \"#46039f\"], [0.2222222222222222, \"#7201a8\"], [0.3333333333333333, \"#9c179e\"], [0.4444444444444444, \"#bd3786\"], [0.5555555555555556, \"#d8576b\"], [0.6666666666666666, \"#ed7953\"], [0.7777777777777778, \"#fb9f3a\"], [0.8888888888888888, \"#fdca26\"], [1.0, \"#f0f921\"]], \"type\": \"histogram2d\"}], \"histogram2dcontour\": [{\"colorbar\": {\"outlinewidth\": 0, \"ticks\": \"\"}, \"colorscale\": [[0.0, \"#0d0887\"], [0.1111111111111111, \"#46039f\"], [0.2222222222222222, \"#7201a8\"], [0.3333333333333333, \"#9c179e\"], [0.4444444444444444, \"#bd3786\"], [0.5555555555555556, \"#d8576b\"], [0.6666666666666666, \"#ed7953\"], [0.7777777777777778, \"#fb9f3a\"], [0.8888888888888888, \"#fdca26\"], [1.0, \"#f0f921\"]], \"type\": \"histogram2dcontour\"}], \"mesh3d\": [{\"colorbar\": {\"outlinewidth\": 0, \"ticks\": \"\"}, \"type\": \"mesh3d\"}], \"parcoords\": [{\"line\": {\"colorbar\": {\"outlinewidth\": 0, \"ticks\": \"\"}}, \"type\": \"parcoords\"}], \"pie\": [{\"automargin\": true, \"type\": \"pie\"}], \"scatter\": [{\"marker\": {\"colorbar\": {\"outlinewidth\": 0, \"ticks\": \"\"}}, \"type\": \"scatter\"}], \"scatter3d\": [{\"line\": {\"colorbar\": {\"outlinewidth\": 0, \"ticks\": \"\"}}, \"marker\": {\"colorbar\": {\"outlinewidth\": 0, \"ticks\": \"\"}}, \"type\": \"scatter3d\"}], \"scattercarpet\": [{\"marker\": {\"colorbar\": {\"outlinewidth\": 0, \"ticks\": \"\"}}, \"type\": \"scattercarpet\"}], \"scattergeo\": [{\"marker\": {\"colorbar\": {\"outlinewidth\": 0, \"ticks\": \"\"}}, \"type\": \"scattergeo\"}], \"scattergl\": [{\"marker\": {\"colorbar\": {\"outlinewidth\": 0, \"ticks\": \"\"}}, \"type\": \"scattergl\"}], \"scattermapbox\": [{\"marker\": {\"colorbar\": {\"outlinewidth\": 0, \"ticks\": \"\"}}, \"type\": \"scattermapbox\"}], \"scatterpolar\": [{\"marker\": {\"colorbar\": {\"outlinewidth\": 0, \"ticks\": \"\"}}, \"type\": \"scatterpolar\"}], \"scatterpolargl\": [{\"marker\": {\"colorbar\": {\"outlinewidth\": 0, \"ticks\": \"\"}}, \"type\": \"scatterpolargl\"}], \"scatterternary\": [{\"marker\": {\"colorbar\": {\"outlinewidth\": 0, \"ticks\": \"\"}}, \"type\": \"scatterternary\"}], \"surface\": [{\"colorbar\": {\"outlinewidth\": 0, \"ticks\": \"\"}, \"colorscale\": [[0.0, \"#0d0887\"], [0.1111111111111111, \"#46039f\"], [0.2222222222222222, \"#7201a8\"], [0.3333333333333333, \"#9c179e\"], [0.4444444444444444, \"#bd3786\"], [0.5555555555555556, \"#d8576b\"], [0.6666666666666666, \"#ed7953\"], [0.7777777777777778, \"#fb9f3a\"], [0.8888888888888888, \"#fdca26\"], [1.0, \"#f0f921\"]], \"type\": \"surface\"}], \"table\": [{\"cells\": {\"fill\": {\"color\": \"#EBF0F8\"}, \"line\": {\"color\": \"white\"}}, \"header\": {\"fill\": {\"color\": \"#C8D4E3\"}, \"line\": {\"color\": \"white\"}}, \"type\": \"table\"}]}, \"layout\": {\"annotationdefaults\": {\"arrowcolor\": \"#2a3f5f\", \"arrowhead\": 0, \"arrowwidth\": 1}, \"coloraxis\": {\"colorbar\": {\"outlinewidth\": 0, \"ticks\": \"\"}}, \"colorscale\": {\"diverging\": [[0, \"#8e0152\"], [0.1, \"#c51b7d\"], [0.2, \"#de77ae\"], [0.3, \"#f1b6da\"], [0.4, \"#fde0ef\"], [0.5, \"#f7f7f7\"], [0.6, \"#e6f5d0\"], [0.7, \"#b8e186\"], [0.8, \"#7fbc41\"], [0.9, \"#4d9221\"], [1, \"#276419\"]], \"sequential\": [[0.0, \"#0d0887\"], [0.1111111111111111, \"#46039f\"], [0.2222222222222222, \"#7201a8\"], [0.3333333333333333, \"#9c179e\"], [0.4444444444444444, \"#bd3786\"], [0.5555555555555556, \"#d8576b\"], [0.6666666666666666, \"#ed7953\"], [0.7777777777777778, \"#fb9f3a\"], [0.8888888888888888, \"#fdca26\"], [1.0, \"#f0f921\"]], \"sequentialminus\": [[0.0, \"#0d0887\"], [0.1111111111111111, \"#46039f\"], [0.2222222222222222, \"#7201a8\"], [0.3333333333333333, \"#9c179e\"], [0.4444444444444444, \"#bd3786\"], [0.5555555555555556, \"#d8576b\"], [0.6666666666666666, \"#ed7953\"], [0.7777777777777778, \"#fb9f3a\"], [0.8888888888888888, \"#fdca26\"], [1.0, \"#f0f921\"]]}, \"colorway\": [\"#636efa\", \"#EF553B\", \"#00cc96\", \"#ab63fa\", \"#FFA15A\", \"#19d3f3\", \"#FF6692\", \"#B6E880\", \"#FF97FF\", \"#FECB52\"], \"font\": {\"color\": \"#2a3f5f\"}, \"geo\": {\"bgcolor\": \"white\", \"lakecolor\": \"white\", \"landcolor\": \"#E5ECF6\", \"showlakes\": true, \"showland\": true, \"subunitcolor\": \"white\"}, \"hoverlabel\": {\"align\": \"left\"}, \"hovermode\": \"closest\", \"mapbox\": {\"style\": \"light\"}, \"paper_bgcolor\": \"white\", \"plot_bgcolor\": \"#E5ECF6\", \"polar\": {\"angularaxis\": {\"gridcolor\": \"white\", \"linecolor\": \"white\", \"ticks\": \"\"}, \"bgcolor\": \"#E5ECF6\", \"radialaxis\": {\"gridcolor\": \"white\", \"linecolor\": \"white\", \"ticks\": \"\"}}, \"scene\": {\"xaxis\": {\"backgroundcolor\": \"#E5ECF6\", \"gridcolor\": \"white\", \"gridwidth\": 2, \"linecolor\": \"white\", \"showbackground\": true, \"ticks\": \"\", \"zerolinecolor\": \"white\"}, \"yaxis\": {\"backgroundcolor\": \"#E5ECF6\", \"gridcolor\": \"white\", \"gridwidth\": 2, \"linecolor\": \"white\", \"showbackground\": true, \"ticks\": \"\", \"zerolinecolor\": \"white\"}, \"zaxis\": {\"backgroundcolor\": \"#E5ECF6\", \"gridcolor\": \"white\", \"gridwidth\": 2, \"linecolor\": \"white\", \"showbackground\": true, \"ticks\": \"\", \"zerolinecolor\": \"white\"}}, \"shapedefaults\": {\"line\": {\"color\": \"#2a3f5f\"}}, \"ternary\": {\"aaxis\": {\"gridcolor\": \"white\", \"linecolor\": \"white\", \"ticks\": \"\"}, \"baxis\": {\"gridcolor\": \"white\", \"linecolor\": \"white\", \"ticks\": \"\"}, \"bgcolor\": \"#E5ECF6\", \"caxis\": {\"gridcolor\": \"white\", \"linecolor\": \"white\", \"ticks\": \"\"}}, \"title\": {\"x\": 0.05}, \"xaxis\": {\"automargin\": true, \"gridcolor\": \"white\", \"linecolor\": \"white\", \"ticks\": \"\", \"title\": {\"standoff\": 15}, \"zerolinecolor\": \"white\", \"zerolinewidth\": 2}, \"yaxis\": {\"automargin\": true, \"gridcolor\": \"white\", \"linecolor\": \"white\", \"ticks\": \"\", \"title\": {\"standoff\": 15}, \"zerolinecolor\": \"white\", \"zerolinewidth\": 2}}}, \"title\": {\"text\": \"Variation Of Recall With Different Models\"}, \"width\": 700, \"xaxis\": {\"nticks\": 40, \"title\": {\"text\": \"Models\"}}, \"yaxis\": {\"nticks\": 20, \"range\": [0.8, 1], \"title\": {\"text\": \"Recall\"}}},\n",
              "                        {\"responsive\": true}\n",
              "                    ).then(function(){\n",
              "                            \n",
              "var gd = document.getElementById('2d2e473d-6cb4-422b-9015-aae0185404ab');\n",
              "var x = new MutationObserver(function (mutations, observer) {{\n",
              "        var display = window.getComputedStyle(gd).display;\n",
              "        if (!display || display === 'none') {{\n",
              "            console.log([gd, 'removed!']);\n",
              "            Plotly.purge(gd);\n",
              "            observer.disconnect();\n",
              "        }}\n",
              "}});\n",
              "\n",
              "// Listen for the removal of the full notebook cells\n",
              "var notebookContainer = gd.closest('#notebook-container');\n",
              "if (notebookContainer) {{\n",
              "    x.observe(notebookContainer, {childList: true});\n",
              "}}\n",
              "\n",
              "// Listen for the clearing of the current output cell\n",
              "var outputEl = gd.closest('.output');\n",
              "if (outputEl) {{\n",
              "    x.observe(outputEl, {childList: true});\n",
              "}}\n",
              "\n",
              "                        })\n",
              "                };\n",
              "                \n",
              "            </script>\n",
              "        </div>\n",
              "</body>\n",
              "</html>"
            ]
          },
          "metadata": {
            "tags": []
          }
        }
      ]
    },
    {
      "cell_type": "code",
      "metadata": {
        "colab": {
          "base_uri": "https://localhost:8080/",
          "height": 467
        },
        "id": "Hf4pbpT-n3ZI",
        "outputId": "59f03385-a619-495e-88ac-b05d1f6ed5b1"
      },
      "source": [
        "y_tr=[0.9112\t , 0.8757\t    , 0.9822\t , 0.9112\t   ,0.9585,\t0.9881\t ,0.9455]\r\n",
        "y_tst=[ 0.9354\t  ,0.8709\t     ,0.9677\t  ,0.9032\t  , 0.9677\t,0.9677\t,1.0]\r\n",
        "x= ['LR','NB','KNN','DT','RF','ANN','ANN+Embeddings']\r\n",
        "\r\n",
        "fig = go.Figure()\r\n",
        "fig.add_trace(go.Bar(x=x, y=y_tr,name='Train'))\r\n",
        "fig.add_trace(go.Bar(x=x, y=y_tst,name='Test'))\r\n",
        "fig.update_layout(autosize=False,\r\n",
        "    width=700,\r\n",
        "    height=450,title='Variation Of Specificity With Different Models',xaxis_title=\"Models\",\r\n",
        "    yaxis_title=\"Specificity\",)\r\n",
        "fig.update_yaxes(nticks=20)\r\n",
        "fig.update_xaxes(nticks=40)\r\n",
        "fig.update_traces(textposition='outside')\r\n",
        "fig.update_yaxes(range=[0.8, 1])\r\n",
        "fig.show()"
      ],
      "execution_count": null,
      "outputs": [
        {
          "output_type": "display_data",
          "data": {
            "text/html": [
              "<html>\n",
              "<head><meta charset=\"utf-8\" /></head>\n",
              "<body>\n",
              "    <div>\n",
              "            <script src=\"https://cdnjs.cloudflare.com/ajax/libs/mathjax/2.7.5/MathJax.js?config=TeX-AMS-MML_SVG\"></script><script type=\"text/javascript\">if (window.MathJax) {MathJax.Hub.Config({SVG: {font: \"STIX-Web\"}});}</script>\n",
              "                <script type=\"text/javascript\">window.PlotlyConfig = {MathJaxConfig: 'local'};</script>\n",
              "        <script src=\"https://cdn.plot.ly/plotly-latest.min.js\"></script>    \n",
              "            <div id=\"f84f6722-db51-43a4-86b1-13c8b2b5717d\" class=\"plotly-graph-div\" style=\"height:450px; width:700px;\"></div>\n",
              "            <script type=\"text/javascript\">\n",
              "                \n",
              "                    window.PLOTLYENV=window.PLOTLYENV || {};\n",
              "                    \n",
              "                if (document.getElementById(\"f84f6722-db51-43a4-86b1-13c8b2b5717d\")) {\n",
              "                    Plotly.newPlot(\n",
              "                        'f84f6722-db51-43a4-86b1-13c8b2b5717d',\n",
              "                        [{\"name\": \"Train\", \"textposition\": \"outside\", \"type\": \"bar\", \"x\": [\"LR\", \"NB\", \"KNN\", \"DT\", \"RF\", \"ANN\", \"ANN+Embeddings\"], \"y\": [0.9112, 0.8757, 0.9822, 0.9112, 0.9585, 0.9881, 0.9455]}, {\"name\": \"Test\", \"textposition\": \"outside\", \"type\": \"bar\", \"x\": [\"LR\", \"NB\", \"KNN\", \"DT\", \"RF\", \"ANN\", \"ANN+Embeddings\"], \"y\": [0.9354, 0.8709, 0.9677, 0.9032, 0.9677, 0.9677, 1.0]}],\n",
              "                        {\"autosize\": false, \"height\": 450, \"template\": {\"data\": {\"bar\": [{\"error_x\": {\"color\": \"#2a3f5f\"}, \"error_y\": {\"color\": \"#2a3f5f\"}, \"marker\": {\"line\": {\"color\": \"#E5ECF6\", \"width\": 0.5}}, \"type\": \"bar\"}], \"barpolar\": [{\"marker\": {\"line\": {\"color\": \"#E5ECF6\", \"width\": 0.5}}, \"type\": \"barpolar\"}], \"carpet\": [{\"aaxis\": {\"endlinecolor\": \"#2a3f5f\", \"gridcolor\": \"white\", \"linecolor\": \"white\", \"minorgridcolor\": \"white\", \"startlinecolor\": \"#2a3f5f\"}, \"baxis\": {\"endlinecolor\": \"#2a3f5f\", \"gridcolor\": \"white\", \"linecolor\": \"white\", \"minorgridcolor\": \"white\", \"startlinecolor\": \"#2a3f5f\"}, \"type\": \"carpet\"}], \"choropleth\": [{\"colorbar\": {\"outlinewidth\": 0, \"ticks\": \"\"}, \"type\": \"choropleth\"}], \"contour\": [{\"colorbar\": {\"outlinewidth\": 0, \"ticks\": \"\"}, \"colorscale\": [[0.0, \"#0d0887\"], [0.1111111111111111, \"#46039f\"], [0.2222222222222222, \"#7201a8\"], [0.3333333333333333, \"#9c179e\"], [0.4444444444444444, \"#bd3786\"], [0.5555555555555556, \"#d8576b\"], [0.6666666666666666, \"#ed7953\"], [0.7777777777777778, \"#fb9f3a\"], [0.8888888888888888, \"#fdca26\"], [1.0, \"#f0f921\"]], \"type\": \"contour\"}], \"contourcarpet\": [{\"colorbar\": {\"outlinewidth\": 0, \"ticks\": \"\"}, \"type\": \"contourcarpet\"}], \"heatmap\": [{\"colorbar\": {\"outlinewidth\": 0, \"ticks\": \"\"}, \"colorscale\": [[0.0, \"#0d0887\"], [0.1111111111111111, \"#46039f\"], [0.2222222222222222, \"#7201a8\"], [0.3333333333333333, \"#9c179e\"], [0.4444444444444444, \"#bd3786\"], [0.5555555555555556, \"#d8576b\"], [0.6666666666666666, \"#ed7953\"], [0.7777777777777778, \"#fb9f3a\"], [0.8888888888888888, \"#fdca26\"], [1.0, \"#f0f921\"]], \"type\": \"heatmap\"}], \"heatmapgl\": [{\"colorbar\": {\"outlinewidth\": 0, \"ticks\": \"\"}, \"colorscale\": [[0.0, \"#0d0887\"], [0.1111111111111111, \"#46039f\"], [0.2222222222222222, \"#7201a8\"], [0.3333333333333333, \"#9c179e\"], [0.4444444444444444, \"#bd3786\"], [0.5555555555555556, \"#d8576b\"], [0.6666666666666666, \"#ed7953\"], [0.7777777777777778, \"#fb9f3a\"], [0.8888888888888888, \"#fdca26\"], [1.0, \"#f0f921\"]], \"type\": \"heatmapgl\"}], \"histogram\": [{\"marker\": {\"colorbar\": {\"outlinewidth\": 0, \"ticks\": \"\"}}, \"type\": \"histogram\"}], \"histogram2d\": [{\"colorbar\": {\"outlinewidth\": 0, \"ticks\": \"\"}, \"colorscale\": [[0.0, \"#0d0887\"], [0.1111111111111111, \"#46039f\"], [0.2222222222222222, \"#7201a8\"], [0.3333333333333333, \"#9c179e\"], [0.4444444444444444, \"#bd3786\"], [0.5555555555555556, \"#d8576b\"], [0.6666666666666666, \"#ed7953\"], [0.7777777777777778, \"#fb9f3a\"], [0.8888888888888888, \"#fdca26\"], [1.0, \"#f0f921\"]], \"type\": \"histogram2d\"}], \"histogram2dcontour\": [{\"colorbar\": {\"outlinewidth\": 0, \"ticks\": \"\"}, \"colorscale\": [[0.0, \"#0d0887\"], [0.1111111111111111, \"#46039f\"], [0.2222222222222222, \"#7201a8\"], [0.3333333333333333, \"#9c179e\"], [0.4444444444444444, \"#bd3786\"], [0.5555555555555556, \"#d8576b\"], [0.6666666666666666, \"#ed7953\"], [0.7777777777777778, \"#fb9f3a\"], [0.8888888888888888, \"#fdca26\"], [1.0, \"#f0f921\"]], \"type\": \"histogram2dcontour\"}], \"mesh3d\": [{\"colorbar\": {\"outlinewidth\": 0, \"ticks\": \"\"}, \"type\": \"mesh3d\"}], \"parcoords\": [{\"line\": {\"colorbar\": {\"outlinewidth\": 0, \"ticks\": \"\"}}, \"type\": \"parcoords\"}], \"pie\": [{\"automargin\": true, \"type\": \"pie\"}], \"scatter\": [{\"marker\": {\"colorbar\": {\"outlinewidth\": 0, \"ticks\": \"\"}}, \"type\": \"scatter\"}], \"scatter3d\": [{\"line\": {\"colorbar\": {\"outlinewidth\": 0, \"ticks\": \"\"}}, \"marker\": {\"colorbar\": {\"outlinewidth\": 0, \"ticks\": \"\"}}, \"type\": \"scatter3d\"}], \"scattercarpet\": [{\"marker\": {\"colorbar\": {\"outlinewidth\": 0, \"ticks\": \"\"}}, \"type\": \"scattercarpet\"}], \"scattergeo\": [{\"marker\": {\"colorbar\": {\"outlinewidth\": 0, \"ticks\": \"\"}}, \"type\": \"scattergeo\"}], \"scattergl\": [{\"marker\": {\"colorbar\": {\"outlinewidth\": 0, \"ticks\": \"\"}}, \"type\": \"scattergl\"}], \"scattermapbox\": [{\"marker\": {\"colorbar\": {\"outlinewidth\": 0, \"ticks\": \"\"}}, \"type\": \"scattermapbox\"}], \"scatterpolar\": [{\"marker\": {\"colorbar\": {\"outlinewidth\": 0, \"ticks\": \"\"}}, \"type\": \"scatterpolar\"}], \"scatterpolargl\": [{\"marker\": {\"colorbar\": {\"outlinewidth\": 0, \"ticks\": \"\"}}, \"type\": \"scatterpolargl\"}], \"scatterternary\": [{\"marker\": {\"colorbar\": {\"outlinewidth\": 0, \"ticks\": \"\"}}, \"type\": \"scatterternary\"}], \"surface\": [{\"colorbar\": {\"outlinewidth\": 0, \"ticks\": \"\"}, \"colorscale\": [[0.0, \"#0d0887\"], [0.1111111111111111, \"#46039f\"], [0.2222222222222222, \"#7201a8\"], [0.3333333333333333, \"#9c179e\"], [0.4444444444444444, \"#bd3786\"], [0.5555555555555556, \"#d8576b\"], [0.6666666666666666, \"#ed7953\"], [0.7777777777777778, \"#fb9f3a\"], [0.8888888888888888, \"#fdca26\"], [1.0, \"#f0f921\"]], \"type\": \"surface\"}], \"table\": [{\"cells\": {\"fill\": {\"color\": \"#EBF0F8\"}, \"line\": {\"color\": \"white\"}}, \"header\": {\"fill\": {\"color\": \"#C8D4E3\"}, \"line\": {\"color\": \"white\"}}, \"type\": \"table\"}]}, \"layout\": {\"annotationdefaults\": {\"arrowcolor\": \"#2a3f5f\", \"arrowhead\": 0, \"arrowwidth\": 1}, \"coloraxis\": {\"colorbar\": {\"outlinewidth\": 0, \"ticks\": \"\"}}, \"colorscale\": {\"diverging\": [[0, \"#8e0152\"], [0.1, \"#c51b7d\"], [0.2, \"#de77ae\"], [0.3, \"#f1b6da\"], [0.4, \"#fde0ef\"], [0.5, \"#f7f7f7\"], [0.6, \"#e6f5d0\"], [0.7, \"#b8e186\"], [0.8, \"#7fbc41\"], [0.9, \"#4d9221\"], [1, \"#276419\"]], \"sequential\": [[0.0, \"#0d0887\"], [0.1111111111111111, \"#46039f\"], [0.2222222222222222, \"#7201a8\"], [0.3333333333333333, \"#9c179e\"], [0.4444444444444444, \"#bd3786\"], [0.5555555555555556, \"#d8576b\"], [0.6666666666666666, \"#ed7953\"], [0.7777777777777778, \"#fb9f3a\"], [0.8888888888888888, \"#fdca26\"], [1.0, \"#f0f921\"]], \"sequentialminus\": [[0.0, \"#0d0887\"], [0.1111111111111111, \"#46039f\"], [0.2222222222222222, \"#7201a8\"], [0.3333333333333333, \"#9c179e\"], [0.4444444444444444, \"#bd3786\"], [0.5555555555555556, \"#d8576b\"], [0.6666666666666666, \"#ed7953\"], [0.7777777777777778, \"#fb9f3a\"], [0.8888888888888888, \"#fdca26\"], [1.0, \"#f0f921\"]]}, \"colorway\": [\"#636efa\", \"#EF553B\", \"#00cc96\", \"#ab63fa\", \"#FFA15A\", \"#19d3f3\", \"#FF6692\", \"#B6E880\", \"#FF97FF\", \"#FECB52\"], \"font\": {\"color\": \"#2a3f5f\"}, \"geo\": {\"bgcolor\": \"white\", \"lakecolor\": \"white\", \"landcolor\": \"#E5ECF6\", \"showlakes\": true, \"showland\": true, \"subunitcolor\": \"white\"}, \"hoverlabel\": {\"align\": \"left\"}, \"hovermode\": \"closest\", \"mapbox\": {\"style\": \"light\"}, \"paper_bgcolor\": \"white\", \"plot_bgcolor\": \"#E5ECF6\", \"polar\": {\"angularaxis\": {\"gridcolor\": \"white\", \"linecolor\": \"white\", \"ticks\": \"\"}, \"bgcolor\": \"#E5ECF6\", \"radialaxis\": {\"gridcolor\": \"white\", \"linecolor\": \"white\", \"ticks\": \"\"}}, \"scene\": {\"xaxis\": {\"backgroundcolor\": \"#E5ECF6\", \"gridcolor\": \"white\", \"gridwidth\": 2, \"linecolor\": \"white\", \"showbackground\": true, \"ticks\": \"\", \"zerolinecolor\": \"white\"}, \"yaxis\": {\"backgroundcolor\": \"#E5ECF6\", \"gridcolor\": \"white\", \"gridwidth\": 2, \"linecolor\": \"white\", \"showbackground\": true, \"ticks\": \"\", \"zerolinecolor\": \"white\"}, \"zaxis\": {\"backgroundcolor\": \"#E5ECF6\", \"gridcolor\": \"white\", \"gridwidth\": 2, \"linecolor\": \"white\", \"showbackground\": true, \"ticks\": \"\", \"zerolinecolor\": \"white\"}}, \"shapedefaults\": {\"line\": {\"color\": \"#2a3f5f\"}}, \"ternary\": {\"aaxis\": {\"gridcolor\": \"white\", \"linecolor\": \"white\", \"ticks\": \"\"}, \"baxis\": {\"gridcolor\": \"white\", \"linecolor\": \"white\", \"ticks\": \"\"}, \"bgcolor\": \"#E5ECF6\", \"caxis\": {\"gridcolor\": \"white\", \"linecolor\": \"white\", \"ticks\": \"\"}}, \"title\": {\"x\": 0.05}, \"xaxis\": {\"automargin\": true, \"gridcolor\": \"white\", \"linecolor\": \"white\", \"ticks\": \"\", \"title\": {\"standoff\": 15}, \"zerolinecolor\": \"white\", \"zerolinewidth\": 2}, \"yaxis\": {\"automargin\": true, \"gridcolor\": \"white\", \"linecolor\": \"white\", \"ticks\": \"\", \"title\": {\"standoff\": 15}, \"zerolinecolor\": \"white\", \"zerolinewidth\": 2}}}, \"title\": {\"text\": \"Variation Of Specificity With Different Models\"}, \"width\": 700, \"xaxis\": {\"nticks\": 40, \"title\": {\"text\": \"Models\"}}, \"yaxis\": {\"nticks\": 20, \"range\": [0.8, 1], \"title\": {\"text\": \"Specificity\"}}},\n",
              "                        {\"responsive\": true}\n",
              "                    ).then(function(){\n",
              "                            \n",
              "var gd = document.getElementById('f84f6722-db51-43a4-86b1-13c8b2b5717d');\n",
              "var x = new MutationObserver(function (mutations, observer) {{\n",
              "        var display = window.getComputedStyle(gd).display;\n",
              "        if (!display || display === 'none') {{\n",
              "            console.log([gd, 'removed!']);\n",
              "            Plotly.purge(gd);\n",
              "            observer.disconnect();\n",
              "        }}\n",
              "}});\n",
              "\n",
              "// Listen for the removal of the full notebook cells\n",
              "var notebookContainer = gd.closest('#notebook-container');\n",
              "if (notebookContainer) {{\n",
              "    x.observe(notebookContainer, {childList: true});\n",
              "}}\n",
              "\n",
              "// Listen for the clearing of the current output cell\n",
              "var outputEl = gd.closest('.output');\n",
              "if (outputEl) {{\n",
              "    x.observe(outputEl, {childList: true});\n",
              "}}\n",
              "\n",
              "                        })\n",
              "                };\n",
              "                \n",
              "            </script>\n",
              "        </div>\n",
              "</body>\n",
              "</html>"
            ]
          },
          "metadata": {
            "tags": []
          }
        }
      ]
    }
  ]
}