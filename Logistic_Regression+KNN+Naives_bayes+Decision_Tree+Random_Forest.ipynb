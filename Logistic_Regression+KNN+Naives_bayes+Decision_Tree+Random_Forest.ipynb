{
  "nbformat": 4,
  "nbformat_minor": 0,
  "metadata": {
    "colab": {
      "name": "Logistic_Regression+KNN+Naives_bayes+Decision_Tree+Random_Forest.ipynb",
      "provenance": [],
      "collapsed_sections": [],
      "toc_visible": true
    },
    "kernelspec": {
      "display_name": "Python 3",
      "name": "python3"
    }
  },
  "cells": [
    {
      "cell_type": "code",
      "metadata": {
        "id": "wmMtaA0AtQo2",
        "colab": {
          "base_uri": "https://localhost:8080/"
        },
        "outputId": "3d05f679-c799-422e-fa97-7cdf3f2e4a01"
      },
      "source": [
        "#mounting drive\r\n",
        "\r\n",
        "from google.colab import drive\r\n",
        "drive.mount('/content/drive')"
      ],
      "execution_count": null,
      "outputs": [
        {
          "output_type": "stream",
          "text": [
            "Drive already mounted at /content/drive; to attempt to forcibly remount, call drive.mount(\"/content/drive\", force_remount=True).\n"
          ],
          "name": "stdout"
        }
      ]
    },
    {
      "cell_type": "code",
      "metadata": {
        "colab": {
          "base_uri": "https://localhost:8080/"
        },
        "id": "xP6ss55itiXe",
        "outputId": "483a2dc6-d67c-46df-bcd8-24a35d63814f"
      },
      "source": [
        "import os\r\n",
        "os.chdir('drive/My Drive/Colab Notebooks/ML_and_NN_course/module 1')\r\n",
        "cwd=os.getcwd()\r\n",
        "print(cwd)"
      ],
      "execution_count": null,
      "outputs": [
        {
          "output_type": "stream",
          "text": [
            "/content/drive/My Drive/Colab Notebooks/ML_and_NN_course/module 1\n"
          ],
          "name": "stdout"
        }
      ]
    },
    {
      "cell_type": "markdown",
      "metadata": {
        "id": "uL-VMuzIuNpT"
      },
      "source": [
        "#importing Libraries"
      ]
    },
    {
      "cell_type": "code",
      "metadata": {
        "id": "iYkMSC1huMfE"
      },
      "source": [
        "import pandas as pd\r\n",
        "import numpy as np\r\n",
        "import matplotlib.pyplot as plt\r\n",
        "import seaborn as sns\r\n",
        "from sklearn.model_selection import train_test_split\r\n",
        "from sklearn import metrics\r\n",
        "from sklearn.preprocessing import LabelEncoder\r\n"
      ],
      "execution_count": null,
      "outputs": []
    },
    {
      "cell_type": "markdown",
      "metadata": {
        "id": "zdHzqIo64MOk"
      },
      "source": [
        "#Data Reading\r\n"
      ]
    },
    {
      "cell_type": "code",
      "metadata": {
        "id": "E_Y5j3NUtvyf"
      },
      "source": [
        "#data reading\r\n",
        "\r\n",
        "data=pd.read_csv('/content/drive/MyDrive/Colab Notebooks/ML_and_NN_course/module 1/diabetes_data_upload.csv')"
      ],
      "execution_count": null,
      "outputs": []
    },
    {
      "cell_type": "code",
      "metadata": {
        "colab": {
          "base_uri": "https://localhost:8080/",
          "height": 397
        },
        "id": "svOIaEglvGl1",
        "outputId": "8f730d37-43b5-4cdb-8c01-5f6c39e133e9"
      },
      "source": [
        "data.head(10)"
      ],
      "execution_count": null,
      "outputs": [
        {
          "output_type": "execute_result",
          "data": {
            "text/html": [
              "<div>\n",
              "<style scoped>\n",
              "    .dataframe tbody tr th:only-of-type {\n",
              "        vertical-align: middle;\n",
              "    }\n",
              "\n",
              "    .dataframe tbody tr th {\n",
              "        vertical-align: top;\n",
              "    }\n",
              "\n",
              "    .dataframe thead th {\n",
              "        text-align: right;\n",
              "    }\n",
              "</style>\n",
              "<table border=\"1\" class=\"dataframe\">\n",
              "  <thead>\n",
              "    <tr style=\"text-align: right;\">\n",
              "      <th></th>\n",
              "      <th>Age</th>\n",
              "      <th>Gender</th>\n",
              "      <th>Polyuria</th>\n",
              "      <th>Polydipsia</th>\n",
              "      <th>sudden weight loss</th>\n",
              "      <th>weakness</th>\n",
              "      <th>Polyphagia</th>\n",
              "      <th>Genital thrush</th>\n",
              "      <th>visual blurring</th>\n",
              "      <th>Itching</th>\n",
              "      <th>Irritability</th>\n",
              "      <th>delayed healing</th>\n",
              "      <th>partial paresis</th>\n",
              "      <th>muscle stiffness</th>\n",
              "      <th>Alopecia</th>\n",
              "      <th>Obesity</th>\n",
              "      <th>class</th>\n",
              "    </tr>\n",
              "  </thead>\n",
              "  <tbody>\n",
              "    <tr>\n",
              "      <th>0</th>\n",
              "      <td>40</td>\n",
              "      <td>Male</td>\n",
              "      <td>No</td>\n",
              "      <td>Yes</td>\n",
              "      <td>No</td>\n",
              "      <td>Yes</td>\n",
              "      <td>No</td>\n",
              "      <td>No</td>\n",
              "      <td>No</td>\n",
              "      <td>Yes</td>\n",
              "      <td>No</td>\n",
              "      <td>Yes</td>\n",
              "      <td>No</td>\n",
              "      <td>Yes</td>\n",
              "      <td>Yes</td>\n",
              "      <td>Yes</td>\n",
              "      <td>Positive</td>\n",
              "    </tr>\n",
              "    <tr>\n",
              "      <th>1</th>\n",
              "      <td>58</td>\n",
              "      <td>Male</td>\n",
              "      <td>No</td>\n",
              "      <td>No</td>\n",
              "      <td>No</td>\n",
              "      <td>Yes</td>\n",
              "      <td>No</td>\n",
              "      <td>No</td>\n",
              "      <td>Yes</td>\n",
              "      <td>No</td>\n",
              "      <td>No</td>\n",
              "      <td>No</td>\n",
              "      <td>Yes</td>\n",
              "      <td>No</td>\n",
              "      <td>Yes</td>\n",
              "      <td>No</td>\n",
              "      <td>Positive</td>\n",
              "    </tr>\n",
              "    <tr>\n",
              "      <th>2</th>\n",
              "      <td>41</td>\n",
              "      <td>Male</td>\n",
              "      <td>Yes</td>\n",
              "      <td>No</td>\n",
              "      <td>No</td>\n",
              "      <td>Yes</td>\n",
              "      <td>Yes</td>\n",
              "      <td>No</td>\n",
              "      <td>No</td>\n",
              "      <td>Yes</td>\n",
              "      <td>No</td>\n",
              "      <td>Yes</td>\n",
              "      <td>No</td>\n",
              "      <td>Yes</td>\n",
              "      <td>Yes</td>\n",
              "      <td>No</td>\n",
              "      <td>Positive</td>\n",
              "    </tr>\n",
              "    <tr>\n",
              "      <th>3</th>\n",
              "      <td>45</td>\n",
              "      <td>Male</td>\n",
              "      <td>No</td>\n",
              "      <td>No</td>\n",
              "      <td>Yes</td>\n",
              "      <td>Yes</td>\n",
              "      <td>Yes</td>\n",
              "      <td>Yes</td>\n",
              "      <td>No</td>\n",
              "      <td>Yes</td>\n",
              "      <td>No</td>\n",
              "      <td>Yes</td>\n",
              "      <td>No</td>\n",
              "      <td>No</td>\n",
              "      <td>No</td>\n",
              "      <td>No</td>\n",
              "      <td>Positive</td>\n",
              "    </tr>\n",
              "    <tr>\n",
              "      <th>4</th>\n",
              "      <td>60</td>\n",
              "      <td>Male</td>\n",
              "      <td>Yes</td>\n",
              "      <td>Yes</td>\n",
              "      <td>Yes</td>\n",
              "      <td>Yes</td>\n",
              "      <td>Yes</td>\n",
              "      <td>No</td>\n",
              "      <td>Yes</td>\n",
              "      <td>Yes</td>\n",
              "      <td>Yes</td>\n",
              "      <td>Yes</td>\n",
              "      <td>Yes</td>\n",
              "      <td>Yes</td>\n",
              "      <td>Yes</td>\n",
              "      <td>Yes</td>\n",
              "      <td>Positive</td>\n",
              "    </tr>\n",
              "    <tr>\n",
              "      <th>5</th>\n",
              "      <td>55</td>\n",
              "      <td>Male</td>\n",
              "      <td>Yes</td>\n",
              "      <td>Yes</td>\n",
              "      <td>No</td>\n",
              "      <td>Yes</td>\n",
              "      <td>Yes</td>\n",
              "      <td>No</td>\n",
              "      <td>Yes</td>\n",
              "      <td>Yes</td>\n",
              "      <td>No</td>\n",
              "      <td>Yes</td>\n",
              "      <td>No</td>\n",
              "      <td>Yes</td>\n",
              "      <td>Yes</td>\n",
              "      <td>Yes</td>\n",
              "      <td>Positive</td>\n",
              "    </tr>\n",
              "    <tr>\n",
              "      <th>6</th>\n",
              "      <td>57</td>\n",
              "      <td>Male</td>\n",
              "      <td>Yes</td>\n",
              "      <td>Yes</td>\n",
              "      <td>No</td>\n",
              "      <td>Yes</td>\n",
              "      <td>Yes</td>\n",
              "      <td>Yes</td>\n",
              "      <td>No</td>\n",
              "      <td>No</td>\n",
              "      <td>No</td>\n",
              "      <td>Yes</td>\n",
              "      <td>Yes</td>\n",
              "      <td>No</td>\n",
              "      <td>No</td>\n",
              "      <td>No</td>\n",
              "      <td>Positive</td>\n",
              "    </tr>\n",
              "    <tr>\n",
              "      <th>7</th>\n",
              "      <td>66</td>\n",
              "      <td>Male</td>\n",
              "      <td>Yes</td>\n",
              "      <td>Yes</td>\n",
              "      <td>Yes</td>\n",
              "      <td>Yes</td>\n",
              "      <td>No</td>\n",
              "      <td>No</td>\n",
              "      <td>Yes</td>\n",
              "      <td>Yes</td>\n",
              "      <td>Yes</td>\n",
              "      <td>No</td>\n",
              "      <td>Yes</td>\n",
              "      <td>Yes</td>\n",
              "      <td>No</td>\n",
              "      <td>No</td>\n",
              "      <td>Positive</td>\n",
              "    </tr>\n",
              "    <tr>\n",
              "      <th>8</th>\n",
              "      <td>67</td>\n",
              "      <td>Male</td>\n",
              "      <td>Yes</td>\n",
              "      <td>Yes</td>\n",
              "      <td>No</td>\n",
              "      <td>Yes</td>\n",
              "      <td>Yes</td>\n",
              "      <td>Yes</td>\n",
              "      <td>No</td>\n",
              "      <td>Yes</td>\n",
              "      <td>Yes</td>\n",
              "      <td>No</td>\n",
              "      <td>Yes</td>\n",
              "      <td>Yes</td>\n",
              "      <td>No</td>\n",
              "      <td>Yes</td>\n",
              "      <td>Positive</td>\n",
              "    </tr>\n",
              "    <tr>\n",
              "      <th>9</th>\n",
              "      <td>70</td>\n",
              "      <td>Male</td>\n",
              "      <td>No</td>\n",
              "      <td>Yes</td>\n",
              "      <td>Yes</td>\n",
              "      <td>Yes</td>\n",
              "      <td>Yes</td>\n",
              "      <td>No</td>\n",
              "      <td>Yes</td>\n",
              "      <td>Yes</td>\n",
              "      <td>Yes</td>\n",
              "      <td>No</td>\n",
              "      <td>No</td>\n",
              "      <td>No</td>\n",
              "      <td>Yes</td>\n",
              "      <td>No</td>\n",
              "      <td>Positive</td>\n",
              "    </tr>\n",
              "  </tbody>\n",
              "</table>\n",
              "</div>"
            ],
            "text/plain": [
              "   Age Gender Polyuria Polydipsia  ... muscle stiffness Alopecia Obesity     class\n",
              "0   40   Male       No        Yes  ...              Yes      Yes     Yes  Positive\n",
              "1   58   Male       No         No  ...               No      Yes      No  Positive\n",
              "2   41   Male      Yes         No  ...              Yes      Yes      No  Positive\n",
              "3   45   Male       No         No  ...               No       No      No  Positive\n",
              "4   60   Male      Yes        Yes  ...              Yes      Yes     Yes  Positive\n",
              "5   55   Male      Yes        Yes  ...              Yes      Yes     Yes  Positive\n",
              "6   57   Male      Yes        Yes  ...               No       No      No  Positive\n",
              "7   66   Male      Yes        Yes  ...              Yes       No      No  Positive\n",
              "8   67   Male      Yes        Yes  ...              Yes       No     Yes  Positive\n",
              "9   70   Male       No        Yes  ...               No      Yes      No  Positive\n",
              "\n",
              "[10 rows x 17 columns]"
            ]
          },
          "metadata": {
            "tags": []
          },
          "execution_count": 54
        }
      ]
    },
    {
      "cell_type": "code",
      "metadata": {
        "colab": {
          "base_uri": "https://localhost:8080/",
          "height": 397
        },
        "id": "Ny2Pw61RvJDl",
        "outputId": "cf90d9e7-7d11-43b1-9b28-afcae86f4632"
      },
      "source": [
        "data.tail(10)"
      ],
      "execution_count": null,
      "outputs": [
        {
          "output_type": "execute_result",
          "data": {
            "text/html": [
              "<div>\n",
              "<style scoped>\n",
              "    .dataframe tbody tr th:only-of-type {\n",
              "        vertical-align: middle;\n",
              "    }\n",
              "\n",
              "    .dataframe tbody tr th {\n",
              "        vertical-align: top;\n",
              "    }\n",
              "\n",
              "    .dataframe thead th {\n",
              "        text-align: right;\n",
              "    }\n",
              "</style>\n",
              "<table border=\"1\" class=\"dataframe\">\n",
              "  <thead>\n",
              "    <tr style=\"text-align: right;\">\n",
              "      <th></th>\n",
              "      <th>Age</th>\n",
              "      <th>Gender</th>\n",
              "      <th>Polyuria</th>\n",
              "      <th>Polydipsia</th>\n",
              "      <th>sudden weight loss</th>\n",
              "      <th>weakness</th>\n",
              "      <th>Polyphagia</th>\n",
              "      <th>Genital thrush</th>\n",
              "      <th>visual blurring</th>\n",
              "      <th>Itching</th>\n",
              "      <th>Irritability</th>\n",
              "      <th>delayed healing</th>\n",
              "      <th>partial paresis</th>\n",
              "      <th>muscle stiffness</th>\n",
              "      <th>Alopecia</th>\n",
              "      <th>Obesity</th>\n",
              "      <th>class</th>\n",
              "    </tr>\n",
              "  </thead>\n",
              "  <tbody>\n",
              "    <tr>\n",
              "      <th>510</th>\n",
              "      <td>67</td>\n",
              "      <td>Male</td>\n",
              "      <td>No</td>\n",
              "      <td>No</td>\n",
              "      <td>No</td>\n",
              "      <td>Yes</td>\n",
              "      <td>No</td>\n",
              "      <td>No</td>\n",
              "      <td>No</td>\n",
              "      <td>Yes</td>\n",
              "      <td>No</td>\n",
              "      <td>Yes</td>\n",
              "      <td>No</td>\n",
              "      <td>No</td>\n",
              "      <td>Yes</td>\n",
              "      <td>No</td>\n",
              "      <td>Negative</td>\n",
              "    </tr>\n",
              "    <tr>\n",
              "      <th>511</th>\n",
              "      <td>66</td>\n",
              "      <td>Male</td>\n",
              "      <td>No</td>\n",
              "      <td>No</td>\n",
              "      <td>No</td>\n",
              "      <td>Yes</td>\n",
              "      <td>Yes</td>\n",
              "      <td>No</td>\n",
              "      <td>Yes</td>\n",
              "      <td>Yes</td>\n",
              "      <td>No</td>\n",
              "      <td>Yes</td>\n",
              "      <td>Yes</td>\n",
              "      <td>Yes</td>\n",
              "      <td>Yes</td>\n",
              "      <td>No</td>\n",
              "      <td>Negative</td>\n",
              "    </tr>\n",
              "    <tr>\n",
              "      <th>512</th>\n",
              "      <td>43</td>\n",
              "      <td>Male</td>\n",
              "      <td>No</td>\n",
              "      <td>No</td>\n",
              "      <td>No</td>\n",
              "      <td>No</td>\n",
              "      <td>No</td>\n",
              "      <td>No</td>\n",
              "      <td>No</td>\n",
              "      <td>No</td>\n",
              "      <td>No</td>\n",
              "      <td>No</td>\n",
              "      <td>No</td>\n",
              "      <td>No</td>\n",
              "      <td>Yes</td>\n",
              "      <td>No</td>\n",
              "      <td>Negative</td>\n",
              "    </tr>\n",
              "    <tr>\n",
              "      <th>513</th>\n",
              "      <td>62</td>\n",
              "      <td>Female</td>\n",
              "      <td>Yes</td>\n",
              "      <td>Yes</td>\n",
              "      <td>Yes</td>\n",
              "      <td>Yes</td>\n",
              "      <td>No</td>\n",
              "      <td>No</td>\n",
              "      <td>Yes</td>\n",
              "      <td>No</td>\n",
              "      <td>No</td>\n",
              "      <td>No</td>\n",
              "      <td>Yes</td>\n",
              "      <td>No</td>\n",
              "      <td>No</td>\n",
              "      <td>Yes</td>\n",
              "      <td>Positive</td>\n",
              "    </tr>\n",
              "    <tr>\n",
              "      <th>514</th>\n",
              "      <td>54</td>\n",
              "      <td>Female</td>\n",
              "      <td>Yes</td>\n",
              "      <td>Yes</td>\n",
              "      <td>Yes</td>\n",
              "      <td>Yes</td>\n",
              "      <td>Yes</td>\n",
              "      <td>No</td>\n",
              "      <td>No</td>\n",
              "      <td>No</td>\n",
              "      <td>No</td>\n",
              "      <td>No</td>\n",
              "      <td>Yes</td>\n",
              "      <td>No</td>\n",
              "      <td>No</td>\n",
              "      <td>No</td>\n",
              "      <td>Positive</td>\n",
              "    </tr>\n",
              "    <tr>\n",
              "      <th>515</th>\n",
              "      <td>39</td>\n",
              "      <td>Female</td>\n",
              "      <td>Yes</td>\n",
              "      <td>Yes</td>\n",
              "      <td>Yes</td>\n",
              "      <td>No</td>\n",
              "      <td>Yes</td>\n",
              "      <td>No</td>\n",
              "      <td>No</td>\n",
              "      <td>Yes</td>\n",
              "      <td>No</td>\n",
              "      <td>Yes</td>\n",
              "      <td>Yes</td>\n",
              "      <td>No</td>\n",
              "      <td>No</td>\n",
              "      <td>No</td>\n",
              "      <td>Positive</td>\n",
              "    </tr>\n",
              "    <tr>\n",
              "      <th>516</th>\n",
              "      <td>48</td>\n",
              "      <td>Female</td>\n",
              "      <td>Yes</td>\n",
              "      <td>Yes</td>\n",
              "      <td>Yes</td>\n",
              "      <td>Yes</td>\n",
              "      <td>Yes</td>\n",
              "      <td>No</td>\n",
              "      <td>No</td>\n",
              "      <td>Yes</td>\n",
              "      <td>Yes</td>\n",
              "      <td>Yes</td>\n",
              "      <td>Yes</td>\n",
              "      <td>No</td>\n",
              "      <td>No</td>\n",
              "      <td>No</td>\n",
              "      <td>Positive</td>\n",
              "    </tr>\n",
              "    <tr>\n",
              "      <th>517</th>\n",
              "      <td>58</td>\n",
              "      <td>Female</td>\n",
              "      <td>Yes</td>\n",
              "      <td>Yes</td>\n",
              "      <td>Yes</td>\n",
              "      <td>Yes</td>\n",
              "      <td>Yes</td>\n",
              "      <td>No</td>\n",
              "      <td>Yes</td>\n",
              "      <td>No</td>\n",
              "      <td>No</td>\n",
              "      <td>No</td>\n",
              "      <td>Yes</td>\n",
              "      <td>Yes</td>\n",
              "      <td>No</td>\n",
              "      <td>Yes</td>\n",
              "      <td>Positive</td>\n",
              "    </tr>\n",
              "    <tr>\n",
              "      <th>518</th>\n",
              "      <td>32</td>\n",
              "      <td>Female</td>\n",
              "      <td>No</td>\n",
              "      <td>No</td>\n",
              "      <td>No</td>\n",
              "      <td>Yes</td>\n",
              "      <td>No</td>\n",
              "      <td>No</td>\n",
              "      <td>Yes</td>\n",
              "      <td>Yes</td>\n",
              "      <td>No</td>\n",
              "      <td>Yes</td>\n",
              "      <td>No</td>\n",
              "      <td>No</td>\n",
              "      <td>Yes</td>\n",
              "      <td>No</td>\n",
              "      <td>Negative</td>\n",
              "    </tr>\n",
              "    <tr>\n",
              "      <th>519</th>\n",
              "      <td>42</td>\n",
              "      <td>Male</td>\n",
              "      <td>No</td>\n",
              "      <td>No</td>\n",
              "      <td>No</td>\n",
              "      <td>No</td>\n",
              "      <td>No</td>\n",
              "      <td>No</td>\n",
              "      <td>No</td>\n",
              "      <td>No</td>\n",
              "      <td>No</td>\n",
              "      <td>No</td>\n",
              "      <td>No</td>\n",
              "      <td>No</td>\n",
              "      <td>No</td>\n",
              "      <td>No</td>\n",
              "      <td>Negative</td>\n",
              "    </tr>\n",
              "  </tbody>\n",
              "</table>\n",
              "</div>"
            ],
            "text/plain": [
              "     Age  Gender Polyuria  ... Alopecia Obesity     class\n",
              "510   67    Male       No  ...      Yes      No  Negative\n",
              "511   66    Male       No  ...      Yes      No  Negative\n",
              "512   43    Male       No  ...      Yes      No  Negative\n",
              "513   62  Female      Yes  ...       No     Yes  Positive\n",
              "514   54  Female      Yes  ...       No      No  Positive\n",
              "515   39  Female      Yes  ...       No      No  Positive\n",
              "516   48  Female      Yes  ...       No      No  Positive\n",
              "517   58  Female      Yes  ...       No     Yes  Positive\n",
              "518   32  Female       No  ...      Yes      No  Negative\n",
              "519   42    Male       No  ...       No      No  Negative\n",
              "\n",
              "[10 rows x 17 columns]"
            ]
          },
          "metadata": {
            "tags": []
          },
          "execution_count": 55
        }
      ]
    },
    {
      "cell_type": "code",
      "metadata": {
        "colab": {
          "base_uri": "https://localhost:8080/",
          "height": 284
        },
        "id": "veFbfItbvMJo",
        "outputId": "bc0bc096-dd47-49e6-90bf-cdc82496bf6c"
      },
      "source": [
        "data.describe()"
      ],
      "execution_count": null,
      "outputs": [
        {
          "output_type": "execute_result",
          "data": {
            "text/html": [
              "<div>\n",
              "<style scoped>\n",
              "    .dataframe tbody tr th:only-of-type {\n",
              "        vertical-align: middle;\n",
              "    }\n",
              "\n",
              "    .dataframe tbody tr th {\n",
              "        vertical-align: top;\n",
              "    }\n",
              "\n",
              "    .dataframe thead th {\n",
              "        text-align: right;\n",
              "    }\n",
              "</style>\n",
              "<table border=\"1\" class=\"dataframe\">\n",
              "  <thead>\n",
              "    <tr style=\"text-align: right;\">\n",
              "      <th></th>\n",
              "      <th>Age</th>\n",
              "    </tr>\n",
              "  </thead>\n",
              "  <tbody>\n",
              "    <tr>\n",
              "      <th>count</th>\n",
              "      <td>520.000000</td>\n",
              "    </tr>\n",
              "    <tr>\n",
              "      <th>mean</th>\n",
              "      <td>48.028846</td>\n",
              "    </tr>\n",
              "    <tr>\n",
              "      <th>std</th>\n",
              "      <td>12.151466</td>\n",
              "    </tr>\n",
              "    <tr>\n",
              "      <th>min</th>\n",
              "      <td>16.000000</td>\n",
              "    </tr>\n",
              "    <tr>\n",
              "      <th>25%</th>\n",
              "      <td>39.000000</td>\n",
              "    </tr>\n",
              "    <tr>\n",
              "      <th>50%</th>\n",
              "      <td>47.500000</td>\n",
              "    </tr>\n",
              "    <tr>\n",
              "      <th>75%</th>\n",
              "      <td>57.000000</td>\n",
              "    </tr>\n",
              "    <tr>\n",
              "      <th>max</th>\n",
              "      <td>90.000000</td>\n",
              "    </tr>\n",
              "  </tbody>\n",
              "</table>\n",
              "</div>"
            ],
            "text/plain": [
              "              Age\n",
              "count  520.000000\n",
              "mean    48.028846\n",
              "std     12.151466\n",
              "min     16.000000\n",
              "25%     39.000000\n",
              "50%     47.500000\n",
              "75%     57.000000\n",
              "max     90.000000"
            ]
          },
          "metadata": {
            "tags": []
          },
          "execution_count": 56
        }
      ]
    },
    {
      "cell_type": "code",
      "metadata": {
        "colab": {
          "base_uri": "https://localhost:8080/"
        },
        "id": "2odCStfivQUr",
        "outputId": "2ea7f4a9-c8fb-4db8-ac0b-f16ef76b836e"
      },
      "source": [
        "data.info()"
      ],
      "execution_count": null,
      "outputs": [
        {
          "output_type": "stream",
          "text": [
            "<class 'pandas.core.frame.DataFrame'>\n",
            "RangeIndex: 520 entries, 0 to 519\n",
            "Data columns (total 17 columns):\n",
            " #   Column              Non-Null Count  Dtype \n",
            "---  ------              --------------  ----- \n",
            " 0   Age                 520 non-null    int64 \n",
            " 1   Gender              520 non-null    object\n",
            " 2   Polyuria            520 non-null    object\n",
            " 3   Polydipsia          520 non-null    object\n",
            " 4   sudden weight loss  520 non-null    object\n",
            " 5   weakness            520 non-null    object\n",
            " 6   Polyphagia          520 non-null    object\n",
            " 7   Genital thrush      520 non-null    object\n",
            " 8   visual blurring     520 non-null    object\n",
            " 9   Itching             520 non-null    object\n",
            " 10  Irritability        520 non-null    object\n",
            " 11  delayed healing     520 non-null    object\n",
            " 12  partial paresis     520 non-null    object\n",
            " 13  muscle stiffness    520 non-null    object\n",
            " 14  Alopecia            520 non-null    object\n",
            " 15  Obesity             520 non-null    object\n",
            " 16  class               520 non-null    object\n",
            "dtypes: int64(1), object(16)\n",
            "memory usage: 69.2+ KB\n"
          ],
          "name": "stdout"
        }
      ]
    },
    {
      "cell_type": "markdown",
      "metadata": {
        "id": "bTBjiFFS4RbB"
      },
      "source": [
        "#Checking for null values in the data"
      ]
    },
    {
      "cell_type": "code",
      "metadata": {
        "colab": {
          "base_uri": "https://localhost:8080/"
        },
        "id": "heLfB7A3vUhs",
        "outputId": "a6dd7884-4941-4b4d-dd22-59dc4a88d136"
      },
      "source": [
        "data.isnull().any()"
      ],
      "execution_count": null,
      "outputs": [
        {
          "output_type": "execute_result",
          "data": {
            "text/plain": [
              "Age                   False\n",
              "Gender                False\n",
              "Polyuria              False\n",
              "Polydipsia            False\n",
              "sudden weight loss    False\n",
              "weakness              False\n",
              "Polyphagia            False\n",
              "Genital thrush        False\n",
              "visual blurring       False\n",
              "Itching               False\n",
              "Irritability          False\n",
              "delayed healing       False\n",
              "partial paresis       False\n",
              "muscle stiffness      False\n",
              "Alopecia              False\n",
              "Obesity               False\n",
              "class                 False\n",
              "dtype: bool"
            ]
          },
          "metadata": {
            "tags": []
          },
          "execution_count": 58
        }
      ]
    },
    {
      "cell_type": "markdown",
      "metadata": {
        "id": "Ybdo4dP94Xay"
      },
      "source": [
        "#Encoding Categorical Columns Using Sckit Learn Preprocessing Label Encoder"
      ]
    },
    {
      "cell_type": "code",
      "metadata": {
        "id": "53qEz0CwvZFU"
      },
      "source": [
        "#encoding the categorical data\r\n",
        "le=LabelEncoder()\r\n",
        "data['Gender']=le.fit_transform(data['Gender'])\r\n",
        "data['Polyuria']=le.fit_transform(data['Polyuria'])\r\n",
        "data['Polydipsia']=le.fit_transform(data['Polydipsia'])\r\n",
        "data['sudden weight loss']=le.fit_transform(data['sudden weight loss'])\r\n",
        "data['Polyphagia']=le.fit_transform(data['Polyphagia'])\r\n",
        "data['Genital thrush']=le.fit_transform(data['Genital thrush'])\r\n",
        "data['weakness']=le.fit_transform(data['weakness'])\r\n",
        "data['visual blurring']=le.fit_transform(data['visual blurring'])\r\n",
        "data['Itching']=le.fit_transform(data['Itching'])\r\n",
        "data['Irritability']=le.fit_transform(data['Irritability'])\r\n",
        "data['delayed healing']=le.fit_transform(data['delayed healing'])\r\n",
        "data['partial paresis']=le.fit_transform(data['partial paresis'])\r\n",
        "data['muscle stiffness']=le.fit_transform(data['muscle stiffness'])\r\n",
        "data['Alopecia']=le.fit_transform(data['Alopecia'])\r\n",
        "data['Obesity']=le.fit_transform(data['Obesity'])\r\n",
        "data['class']=le.fit_transform(data['class'])\r\n"
      ],
      "execution_count": null,
      "outputs": []
    },
    {
      "cell_type": "code",
      "metadata": {
        "colab": {
          "base_uri": "https://localhost:8080/",
          "height": 249
        },
        "id": "Sq62YXv5xyId",
        "outputId": "26258812-d689-4c4b-ca8e-0bf1246361e2"
      },
      "source": [
        "data.head()"
      ],
      "execution_count": null,
      "outputs": [
        {
          "output_type": "execute_result",
          "data": {
            "text/html": [
              "<div>\n",
              "<style scoped>\n",
              "    .dataframe tbody tr th:only-of-type {\n",
              "        vertical-align: middle;\n",
              "    }\n",
              "\n",
              "    .dataframe tbody tr th {\n",
              "        vertical-align: top;\n",
              "    }\n",
              "\n",
              "    .dataframe thead th {\n",
              "        text-align: right;\n",
              "    }\n",
              "</style>\n",
              "<table border=\"1\" class=\"dataframe\">\n",
              "  <thead>\n",
              "    <tr style=\"text-align: right;\">\n",
              "      <th></th>\n",
              "      <th>Age</th>\n",
              "      <th>Gender</th>\n",
              "      <th>Polyuria</th>\n",
              "      <th>Polydipsia</th>\n",
              "      <th>sudden weight loss</th>\n",
              "      <th>weakness</th>\n",
              "      <th>Polyphagia</th>\n",
              "      <th>Genital thrush</th>\n",
              "      <th>visual blurring</th>\n",
              "      <th>Itching</th>\n",
              "      <th>Irritability</th>\n",
              "      <th>delayed healing</th>\n",
              "      <th>partial paresis</th>\n",
              "      <th>muscle stiffness</th>\n",
              "      <th>Alopecia</th>\n",
              "      <th>Obesity</th>\n",
              "      <th>class</th>\n",
              "    </tr>\n",
              "  </thead>\n",
              "  <tbody>\n",
              "    <tr>\n",
              "      <th>0</th>\n",
              "      <td>40</td>\n",
              "      <td>1</td>\n",
              "      <td>0</td>\n",
              "      <td>1</td>\n",
              "      <td>0</td>\n",
              "      <td>1</td>\n",
              "      <td>0</td>\n",
              "      <td>0</td>\n",
              "      <td>0</td>\n",
              "      <td>1</td>\n",
              "      <td>0</td>\n",
              "      <td>1</td>\n",
              "      <td>0</td>\n",
              "      <td>1</td>\n",
              "      <td>1</td>\n",
              "      <td>1</td>\n",
              "      <td>1</td>\n",
              "    </tr>\n",
              "    <tr>\n",
              "      <th>1</th>\n",
              "      <td>58</td>\n",
              "      <td>1</td>\n",
              "      <td>0</td>\n",
              "      <td>0</td>\n",
              "      <td>0</td>\n",
              "      <td>1</td>\n",
              "      <td>0</td>\n",
              "      <td>0</td>\n",
              "      <td>1</td>\n",
              "      <td>0</td>\n",
              "      <td>0</td>\n",
              "      <td>0</td>\n",
              "      <td>1</td>\n",
              "      <td>0</td>\n",
              "      <td>1</td>\n",
              "      <td>0</td>\n",
              "      <td>1</td>\n",
              "    </tr>\n",
              "    <tr>\n",
              "      <th>2</th>\n",
              "      <td>41</td>\n",
              "      <td>1</td>\n",
              "      <td>1</td>\n",
              "      <td>0</td>\n",
              "      <td>0</td>\n",
              "      <td>1</td>\n",
              "      <td>1</td>\n",
              "      <td>0</td>\n",
              "      <td>0</td>\n",
              "      <td>1</td>\n",
              "      <td>0</td>\n",
              "      <td>1</td>\n",
              "      <td>0</td>\n",
              "      <td>1</td>\n",
              "      <td>1</td>\n",
              "      <td>0</td>\n",
              "      <td>1</td>\n",
              "    </tr>\n",
              "    <tr>\n",
              "      <th>3</th>\n",
              "      <td>45</td>\n",
              "      <td>1</td>\n",
              "      <td>0</td>\n",
              "      <td>0</td>\n",
              "      <td>1</td>\n",
              "      <td>1</td>\n",
              "      <td>1</td>\n",
              "      <td>1</td>\n",
              "      <td>0</td>\n",
              "      <td>1</td>\n",
              "      <td>0</td>\n",
              "      <td>1</td>\n",
              "      <td>0</td>\n",
              "      <td>0</td>\n",
              "      <td>0</td>\n",
              "      <td>0</td>\n",
              "      <td>1</td>\n",
              "    </tr>\n",
              "    <tr>\n",
              "      <th>4</th>\n",
              "      <td>60</td>\n",
              "      <td>1</td>\n",
              "      <td>1</td>\n",
              "      <td>1</td>\n",
              "      <td>1</td>\n",
              "      <td>1</td>\n",
              "      <td>1</td>\n",
              "      <td>0</td>\n",
              "      <td>1</td>\n",
              "      <td>1</td>\n",
              "      <td>1</td>\n",
              "      <td>1</td>\n",
              "      <td>1</td>\n",
              "      <td>1</td>\n",
              "      <td>1</td>\n",
              "      <td>1</td>\n",
              "      <td>1</td>\n",
              "    </tr>\n",
              "  </tbody>\n",
              "</table>\n",
              "</div>"
            ],
            "text/plain": [
              "   Age  Gender  Polyuria  ...  Alopecia  Obesity  class\n",
              "0   40       1         0  ...         1        1      1\n",
              "1   58       1         0  ...         1        0      1\n",
              "2   41       1         1  ...         1        0      1\n",
              "3   45       1         0  ...         0        0      1\n",
              "4   60       1         1  ...         1        1      1\n",
              "\n",
              "[5 rows x 17 columns]"
            ]
          },
          "metadata": {
            "tags": []
          },
          "execution_count": 60
        }
      ]
    },
    {
      "cell_type": "markdown",
      "metadata": {
        "id": "WyR0mjQq4leM"
      },
      "source": [
        "#Checking for number of unique values in each column"
      ]
    },
    {
      "cell_type": "code",
      "metadata": {
        "colab": {
          "base_uri": "https://localhost:8080/"
        },
        "id": "lS1pMwzqzw1z",
        "outputId": "56d88964-c88b-4c13-e1a7-f0a04ab79f4c"
      },
      "source": [
        "#unique value in each colum\r\n",
        "data.nunique()"
      ],
      "execution_count": null,
      "outputs": [
        {
          "output_type": "execute_result",
          "data": {
            "text/plain": [
              "Age                   51\n",
              "Gender                 2\n",
              "Polyuria               2\n",
              "Polydipsia             2\n",
              "sudden weight loss     2\n",
              "weakness               2\n",
              "Polyphagia             2\n",
              "Genital thrush         2\n",
              "visual blurring        2\n",
              "Itching                2\n",
              "Irritability           2\n",
              "delayed healing        2\n",
              "partial paresis        2\n",
              "muscle stiffness       2\n",
              "Alopecia               2\n",
              "Obesity                2\n",
              "class                  2\n",
              "dtype: int64"
            ]
          },
          "metadata": {
            "tags": []
          },
          "execution_count": 61
        }
      ]
    },
    {
      "cell_type": "code",
      "metadata": {
        "colab": {
          "base_uri": "https://localhost:8080/"
        },
        "id": "Vr82dmmA0RQA",
        "outputId": "1040b791-df34-4fc2-b586-860adfa3022a"
      },
      "source": [
        "#va;ue_count of class column \r\n",
        "pd.value_counts(data['class'].values)"
      ],
      "execution_count": null,
      "outputs": [
        {
          "output_type": "execute_result",
          "data": {
            "text/plain": [
              "1    320\n",
              "0    200\n",
              "dtype: int64"
            ]
          },
          "metadata": {
            "tags": []
          },
          "execution_count": 62
        }
      ]
    },
    {
      "cell_type": "code",
      "metadata": {
        "colab": {
          "base_uri": "https://localhost:8080/",
          "height": 352
        },
        "id": "qXGsVxib0XSZ",
        "outputId": "e1a3854a-4c3b-4927-f3a6-9a103e946cfb"
      },
      "source": [
        "#univariate analysis using dist plot\r\n",
        "sns.distplot(data['Age'])\r\n"
      ],
      "execution_count": null,
      "outputs": [
        {
          "output_type": "stream",
          "text": [
            "/usr/local/lib/python3.6/dist-packages/seaborn/distributions.py:2551: FutureWarning: `distplot` is a deprecated function and will be removed in a future version. Please adapt your code to use either `displot` (a figure-level function with similar flexibility) or `histplot` (an axes-level function for histograms).\n",
            "  warnings.warn(msg, FutureWarning)\n"
          ],
          "name": "stderr"
        },
        {
          "output_type": "execute_result",
          "data": {
            "text/plain": [
              "<matplotlib.axes._subplots.AxesSubplot at 0x7f550bf90470>"
            ]
          },
          "metadata": {
            "tags": []
          },
          "execution_count": 63
        },
        {
          "output_type": "display_data",
          "data": {
            "image/png": "[encoded data removed]",
            "text/plain": [
              "<Figure size 432x288 with 1 Axes>"
            ]
          },
          "metadata": {
            "tags": [],
            "needs_background": "light"
          }
        }
      ]
    },
    {
      "cell_type": "markdown",
      "metadata": {
        "id": "p5lAtnxU44_X"
      },
      "source": [
        "#correlation "
      ]
    },
    {
      "cell_type": "code",
      "metadata": {
        "colab": {
          "base_uri": "https://localhost:8080/",
          "height": 722
        },
        "id": "qSHRle6m4uv6",
        "outputId": "d99eb65f-9019-43ff-f074-47cef82cd1e4"
      },
      "source": [
        "data.corr()"
      ],
      "execution_count": null,
      "outputs": [
        {
          "output_type": "execute_result",
          "data": {
            "text/html": [
              "<div>\n",
              "<style scoped>\n",
              "    .dataframe tbody tr th:only-of-type {\n",
              "        vertical-align: middle;\n",
              "    }\n",
              "\n",
              "    .dataframe tbody tr th {\n",
              "        vertical-align: top;\n",
              "    }\n",
              "\n",
              "    .dataframe thead th {\n",
              "        text-align: right;\n",
              "    }\n",
              "</style>\n",
              "<table border=\"1\" class=\"dataframe\">\n",
              "  <thead>\n",
              "    <tr style=\"text-align: right;\">\n",
              "      <th></th>\n",
              "      <th>Age</th>\n",
              "      <th>Gender</th>\n",
              "      <th>Polyuria</th>\n",
              "      <th>Polydipsia</th>\n",
              "      <th>sudden weight loss</th>\n",
              "      <th>weakness</th>\n",
              "      <th>Polyphagia</th>\n",
              "      <th>Genital thrush</th>\n",
              "      <th>visual blurring</th>\n",
              "      <th>Itching</th>\n",
              "      <th>Irritability</th>\n",
              "      <th>delayed healing</th>\n",
              "      <th>partial paresis</th>\n",
              "      <th>muscle stiffness</th>\n",
              "      <th>Alopecia</th>\n",
              "      <th>Obesity</th>\n",
              "      <th>class</th>\n",
              "    </tr>\n",
              "  </thead>\n",
              "  <tbody>\n",
              "    <tr>\n",
              "      <th>Age</th>\n",
              "      <td>1.000000</td>\n",
              "      <td>0.062872</td>\n",
              "      <td>0.199781</td>\n",
              "      <td>0.137382</td>\n",
              "      <td>0.064808</td>\n",
              "      <td>0.224596</td>\n",
              "      <td>0.315577</td>\n",
              "      <td>0.096519</td>\n",
              "      <td>0.402729</td>\n",
              "      <td>0.296559</td>\n",
              "      <td>0.201625</td>\n",
              "      <td>0.257501</td>\n",
              "      <td>0.232742</td>\n",
              "      <td>0.307703</td>\n",
              "      <td>0.321691</td>\n",
              "      <td>0.140458</td>\n",
              "      <td>0.108679</td>\n",
              "    </tr>\n",
              "    <tr>\n",
              "      <th>Gender</th>\n",
              "      <td>0.062872</td>\n",
              "      <td>1.000000</td>\n",
              "      <td>-0.268894</td>\n",
              "      <td>-0.312262</td>\n",
              "      <td>-0.281840</td>\n",
              "      <td>-0.124490</td>\n",
              "      <td>-0.219968</td>\n",
              "      <td>0.208961</td>\n",
              "      <td>-0.208092</td>\n",
              "      <td>-0.052496</td>\n",
              "      <td>-0.013735</td>\n",
              "      <td>-0.101978</td>\n",
              "      <td>-0.332288</td>\n",
              "      <td>-0.090542</td>\n",
              "      <td>0.327871</td>\n",
              "      <td>-0.005396</td>\n",
              "      <td>-0.449233</td>\n",
              "    </tr>\n",
              "    <tr>\n",
              "      <th>Polyuria</th>\n",
              "      <td>0.199781</td>\n",
              "      <td>-0.268894</td>\n",
              "      <td>1.000000</td>\n",
              "      <td>0.598609</td>\n",
              "      <td>0.447207</td>\n",
              "      <td>0.263000</td>\n",
              "      <td>0.373873</td>\n",
              "      <td>0.087273</td>\n",
              "      <td>0.235095</td>\n",
              "      <td>0.088289</td>\n",
              "      <td>0.237740</td>\n",
              "      <td>0.149873</td>\n",
              "      <td>0.441664</td>\n",
              "      <td>0.152938</td>\n",
              "      <td>-0.144192</td>\n",
              "      <td>0.126567</td>\n",
              "      <td>0.665922</td>\n",
              "    </tr>\n",
              "    <tr>\n",
              "      <th>Polydipsia</th>\n",
              "      <td>0.137382</td>\n",
              "      <td>-0.312262</td>\n",
              "      <td>0.598609</td>\n",
              "      <td>1.000000</td>\n",
              "      <td>0.405965</td>\n",
              "      <td>0.332453</td>\n",
              "      <td>0.316839</td>\n",
              "      <td>0.028081</td>\n",
              "      <td>0.331250</td>\n",
              "      <td>0.128716</td>\n",
              "      <td>0.203446</td>\n",
              "      <td>0.115691</td>\n",
              "      <td>0.442249</td>\n",
              "      <td>0.180723</td>\n",
              "      <td>-0.310964</td>\n",
              "      <td>0.098691</td>\n",
              "      <td>0.648734</td>\n",
              "    </tr>\n",
              "    <tr>\n",
              "      <th>sudden weight loss</th>\n",
              "      <td>0.064808</td>\n",
              "      <td>-0.281840</td>\n",
              "      <td>0.447207</td>\n",
              "      <td>0.405965</td>\n",
              "      <td>1.000000</td>\n",
              "      <td>0.282884</td>\n",
              "      <td>0.243511</td>\n",
              "      <td>0.089858</td>\n",
              "      <td>0.068754</td>\n",
              "      <td>-0.004516</td>\n",
              "      <td>0.140340</td>\n",
              "      <td>0.088140</td>\n",
              "      <td>0.264014</td>\n",
              "      <td>0.109756</td>\n",
              "      <td>-0.202727</td>\n",
              "      <td>0.169294</td>\n",
              "      <td>0.436568</td>\n",
              "    </tr>\n",
              "    <tr>\n",
              "      <th>weakness</th>\n",
              "      <td>0.224596</td>\n",
              "      <td>-0.124490</td>\n",
              "      <td>0.263000</td>\n",
              "      <td>0.332453</td>\n",
              "      <td>0.282884</td>\n",
              "      <td>1.000000</td>\n",
              "      <td>0.180266</td>\n",
              "      <td>0.027780</td>\n",
              "      <td>0.301043</td>\n",
              "      <td>0.309440</td>\n",
              "      <td>0.146698</td>\n",
              "      <td>0.335507</td>\n",
              "      <td>0.272982</td>\n",
              "      <td>0.263164</td>\n",
              "      <td>0.090490</td>\n",
              "      <td>0.045665</td>\n",
              "      <td>0.243275</td>\n",
              "    </tr>\n",
              "    <tr>\n",
              "      <th>Polyphagia</th>\n",
              "      <td>0.315577</td>\n",
              "      <td>-0.219968</td>\n",
              "      <td>0.373873</td>\n",
              "      <td>0.316839</td>\n",
              "      <td>0.243511</td>\n",
              "      <td>0.180266</td>\n",
              "      <td>1.000000</td>\n",
              "      <td>-0.063712</td>\n",
              "      <td>0.293545</td>\n",
              "      <td>0.144390</td>\n",
              "      <td>0.239466</td>\n",
              "      <td>0.263980</td>\n",
              "      <td>0.373569</td>\n",
              "      <td>0.320031</td>\n",
              "      <td>-0.053498</td>\n",
              "      <td>0.029785</td>\n",
              "      <td>0.342504</td>\n",
              "    </tr>\n",
              "    <tr>\n",
              "      <th>Genital thrush</th>\n",
              "      <td>0.096519</td>\n",
              "      <td>0.208961</td>\n",
              "      <td>0.087273</td>\n",
              "      <td>0.028081</td>\n",
              "      <td>0.089858</td>\n",
              "      <td>0.027780</td>\n",
              "      <td>-0.063712</td>\n",
              "      <td>1.000000</td>\n",
              "      <td>-0.148408</td>\n",
              "      <td>0.125336</td>\n",
              "      <td>0.160551</td>\n",
              "      <td>0.136111</td>\n",
              "      <td>-0.195612</td>\n",
              "      <td>-0.100188</td>\n",
              "      <td>0.204847</td>\n",
              "      <td>0.053828</td>\n",
              "      <td>0.110288</td>\n",
              "    </tr>\n",
              "    <tr>\n",
              "      <th>visual blurring</th>\n",
              "      <td>0.402729</td>\n",
              "      <td>-0.208092</td>\n",
              "      <td>0.235095</td>\n",
              "      <td>0.331250</td>\n",
              "      <td>0.068754</td>\n",
              "      <td>0.301043</td>\n",
              "      <td>0.293545</td>\n",
              "      <td>-0.148408</td>\n",
              "      <td>1.000000</td>\n",
              "      <td>0.291191</td>\n",
              "      <td>0.077095</td>\n",
              "      <td>0.177767</td>\n",
              "      <td>0.364156</td>\n",
              "      <td>0.412369</td>\n",
              "      <td>0.014604</td>\n",
              "      <td>0.109005</td>\n",
              "      <td>0.251300</td>\n",
              "    </tr>\n",
              "    <tr>\n",
              "      <th>Itching</th>\n",
              "      <td>0.296559</td>\n",
              "      <td>-0.052496</td>\n",
              "      <td>0.088289</td>\n",
              "      <td>0.128716</td>\n",
              "      <td>-0.004516</td>\n",
              "      <td>0.309440</td>\n",
              "      <td>0.144390</td>\n",
              "      <td>0.125336</td>\n",
              "      <td>0.291191</td>\n",
              "      <td>1.000000</td>\n",
              "      <td>0.114006</td>\n",
              "      <td>0.453316</td>\n",
              "      <td>0.116669</td>\n",
              "      <td>0.215575</td>\n",
              "      <td>0.266506</td>\n",
              "      <td>0.001894</td>\n",
              "      <td>-0.013384</td>\n",
              "    </tr>\n",
              "    <tr>\n",
              "      <th>Irritability</th>\n",
              "      <td>0.201625</td>\n",
              "      <td>-0.013735</td>\n",
              "      <td>0.237740</td>\n",
              "      <td>0.203446</td>\n",
              "      <td>0.140340</td>\n",
              "      <td>0.146698</td>\n",
              "      <td>0.239466</td>\n",
              "      <td>0.160551</td>\n",
              "      <td>0.077095</td>\n",
              "      <td>0.114006</td>\n",
              "      <td>1.000000</td>\n",
              "      <td>0.126877</td>\n",
              "      <td>0.151571</td>\n",
              "      <td>0.201637</td>\n",
              "      <td>0.043708</td>\n",
              "      <td>0.127801</td>\n",
              "      <td>0.299467</td>\n",
              "    </tr>\n",
              "    <tr>\n",
              "      <th>delayed healing</th>\n",
              "      <td>0.257501</td>\n",
              "      <td>-0.101978</td>\n",
              "      <td>0.149873</td>\n",
              "      <td>0.115691</td>\n",
              "      <td>0.088140</td>\n",
              "      <td>0.335507</td>\n",
              "      <td>0.263980</td>\n",
              "      <td>0.136111</td>\n",
              "      <td>0.177767</td>\n",
              "      <td>0.453316</td>\n",
              "      <td>0.126877</td>\n",
              "      <td>1.000000</td>\n",
              "      <td>0.187382</td>\n",
              "      <td>0.250078</td>\n",
              "      <td>0.290179</td>\n",
              "      <td>-0.066339</td>\n",
              "      <td>0.046980</td>\n",
              "    </tr>\n",
              "    <tr>\n",
              "      <th>partial paresis</th>\n",
              "      <td>0.232742</td>\n",
              "      <td>-0.332288</td>\n",
              "      <td>0.441664</td>\n",
              "      <td>0.442249</td>\n",
              "      <td>0.264014</td>\n",
              "      <td>0.272982</td>\n",
              "      <td>0.373569</td>\n",
              "      <td>-0.195612</td>\n",
              "      <td>0.364156</td>\n",
              "      <td>0.116669</td>\n",
              "      <td>0.151571</td>\n",
              "      <td>0.187382</td>\n",
              "      <td>1.000000</td>\n",
              "      <td>0.232634</td>\n",
              "      <td>-0.221576</td>\n",
              "      <td>-0.009401</td>\n",
              "      <td>0.432288</td>\n",
              "    </tr>\n",
              "    <tr>\n",
              "      <th>muscle stiffness</th>\n",
              "      <td>0.307703</td>\n",
              "      <td>-0.090542</td>\n",
              "      <td>0.152938</td>\n",
              "      <td>0.180723</td>\n",
              "      <td>0.109756</td>\n",
              "      <td>0.263164</td>\n",
              "      <td>0.320031</td>\n",
              "      <td>-0.100188</td>\n",
              "      <td>0.412369</td>\n",
              "      <td>0.215575</td>\n",
              "      <td>0.201637</td>\n",
              "      <td>0.250078</td>\n",
              "      <td>0.232634</td>\n",
              "      <td>1.000000</td>\n",
              "      <td>0.040758</td>\n",
              "      <td>0.158910</td>\n",
              "      <td>0.122474</td>\n",
              "    </tr>\n",
              "    <tr>\n",
              "      <th>Alopecia</th>\n",
              "      <td>0.321691</td>\n",
              "      <td>0.327871</td>\n",
              "      <td>-0.144192</td>\n",
              "      <td>-0.310964</td>\n",
              "      <td>-0.202727</td>\n",
              "      <td>0.090490</td>\n",
              "      <td>-0.053498</td>\n",
              "      <td>0.204847</td>\n",
              "      <td>0.014604</td>\n",
              "      <td>0.266506</td>\n",
              "      <td>0.043708</td>\n",
              "      <td>0.290179</td>\n",
              "      <td>-0.221576</td>\n",
              "      <td>0.040758</td>\n",
              "      <td>1.000000</td>\n",
              "      <td>0.029229</td>\n",
              "      <td>-0.267512</td>\n",
              "    </tr>\n",
              "    <tr>\n",
              "      <th>Obesity</th>\n",
              "      <td>0.140458</td>\n",
              "      <td>-0.005396</td>\n",
              "      <td>0.126567</td>\n",
              "      <td>0.098691</td>\n",
              "      <td>0.169294</td>\n",
              "      <td>0.045665</td>\n",
              "      <td>0.029785</td>\n",
              "      <td>0.053828</td>\n",
              "      <td>0.109005</td>\n",
              "      <td>0.001894</td>\n",
              "      <td>0.127801</td>\n",
              "      <td>-0.066339</td>\n",
              "      <td>-0.009401</td>\n",
              "      <td>0.158910</td>\n",
              "      <td>0.029229</td>\n",
              "      <td>1.000000</td>\n",
              "      <td>0.072173</td>\n",
              "    </tr>\n",
              "    <tr>\n",
              "      <th>class</th>\n",
              "      <td>0.108679</td>\n",
              "      <td>-0.449233</td>\n",
              "      <td>0.665922</td>\n",
              "      <td>0.648734</td>\n",
              "      <td>0.436568</td>\n",
              "      <td>0.243275</td>\n",
              "      <td>0.342504</td>\n",
              "      <td>0.110288</td>\n",
              "      <td>0.251300</td>\n",
              "      <td>-0.013384</td>\n",
              "      <td>0.299467</td>\n",
              "      <td>0.046980</td>\n",
              "      <td>0.432288</td>\n",
              "      <td>0.122474</td>\n",
              "      <td>-0.267512</td>\n",
              "      <td>0.072173</td>\n",
              "      <td>1.000000</td>\n",
              "    </tr>\n",
              "  </tbody>\n",
              "</table>\n",
              "</div>"
            ],
            "text/plain": [
              "                         Age    Gender  Polyuria  ...  Alopecia   Obesity     class\n",
              "Age                 1.000000  0.062872  0.199781  ...  0.321691  0.140458  0.108679\n",
              "Gender              0.062872  1.000000 -0.268894  ...  0.327871 -0.005396 -0.449233\n",
              "Polyuria            0.199781 -0.268894  1.000000  ... -0.144192  0.126567  0.665922\n",
              "Polydipsia          0.137382 -0.312262  0.598609  ... -0.310964  0.098691  0.648734\n",
              "sudden weight loss  0.064808 -0.281840  0.447207  ... -0.202727  0.169294  0.436568\n",
              "weakness            0.224596 -0.124490  0.263000  ...  0.090490  0.045665  0.243275\n",
              "Polyphagia          0.315577 -0.219968  0.373873  ... -0.053498  0.029785  0.342504\n",
              "Genital thrush      0.096519  0.208961  0.087273  ...  0.204847  0.053828  0.110288\n",
              "visual blurring     0.402729 -0.208092  0.235095  ...  0.014604  0.109005  0.251300\n",
              "Itching             0.296559 -0.052496  0.088289  ...  0.266506  0.001894 -0.013384\n",
              "Irritability        0.201625 -0.013735  0.237740  ...  0.043708  0.127801  0.299467\n",
              "delayed healing     0.257501 -0.101978  0.149873  ...  0.290179 -0.066339  0.046980\n",
              "partial paresis     0.232742 -0.332288  0.441664  ... -0.221576 -0.009401  0.432288\n",
              "muscle stiffness    0.307703 -0.090542  0.152938  ...  0.040758  0.158910  0.122474\n",
              "Alopecia            0.321691  0.327871 -0.144192  ...  1.000000  0.029229 -0.267512\n",
              "Obesity             0.140458 -0.005396  0.126567  ...  0.029229  1.000000  0.072173\n",
              "class               0.108679 -0.449233  0.665922  ... -0.267512  0.072173  1.000000\n",
              "\n",
              "[17 rows x 17 columns]"
            ]
          },
          "metadata": {
            "tags": []
          },
          "execution_count": 65
        }
      ]
    },
    {
      "cell_type": "markdown",
      "metadata": {
        "id": "gcKsThfT4x9P"
      },
      "source": [
        "#Correlation Matrix"
      ]
    },
    {
      "cell_type": "code",
      "metadata": {
        "colab": {
          "base_uri": "https://localhost:8080/",
          "height": 564
        },
        "id": "MfohOY--5NpI",
        "outputId": "c8f74fb9-f00f-4048-8135-af7ff800434a"
      },
      "source": [
        "fig,ax = plt.subplots(figsize=(14,10))\r\n",
        "sns.heatmap(data.corr(),cmap=\"RdBu_r\",annot=True)"
      ],
      "execution_count": null,
      "outputs": [
        {
          "output_type": "execute_result",
          "data": {
            "text/plain": [
              "<matplotlib.axes._subplots.AxesSubplot at 0x7f55039d36d8>"
            ]
          },
          "metadata": {
            "tags": []
          },
          "execution_count": 66
        },
        {
          "output_type": "display_data",
          "data": {
            "image/png": "[encoded data removed]",
            "text/plain": [
              "<Figure size 1008x720 with 2 Axes>"
            ]
          },
          "metadata": {
            "tags": [],
            "needs_background": "light"
          }
        }
      ]
    },
    {
      "cell_type": "markdown",
      "metadata": {
        "id": "XpYcCRgH5mfp"
      },
      "source": [
        "#splitting data into input and output"
      ]
    },
    {
      "cell_type": "code",
      "metadata": {
        "colab": {
          "base_uri": "https://localhost:8080/"
        },
        "id": "K2ld0qBG5aGE",
        "outputId": "1c706aae-ec02-4e24-b8ef-ae11c0955edd"
      },
      "source": [
        "data_Y=data['class']\r\n",
        "data_Y.head()"
      ],
      "execution_count": null,
      "outputs": [
        {
          "output_type": "execute_result",
          "data": {
            "text/plain": [
              "0    1\n",
              "1    1\n",
              "2    1\n",
              "3    1\n",
              "4    1\n",
              "Name: class, dtype: int64"
            ]
          },
          "metadata": {
            "tags": []
          },
          "execution_count": 67
        }
      ]
    },
    {
      "cell_type": "code",
      "metadata": {
        "id": "baSr8iYm5qfJ"
      },
      "source": [
        "data.drop('class',axis=1,inplace=True)"
      ],
      "execution_count": null,
      "outputs": []
    },
    {
      "cell_type": "code",
      "metadata": {
        "colab": {
          "base_uri": "https://localhost:8080/",
          "height": 249
        },
        "id": "YJCdRKQu5yfY",
        "outputId": "5d1147fa-a7c2-45e0-abda-a4daad598656"
      },
      "source": [
        "data_X=data\r\n",
        "data_X.head()"
      ],
      "execution_count": null,
      "outputs": [
        {
          "output_type": "execute_result",
          "data": {
            "text/html": [
              "<div>\n",
              "<style scoped>\n",
              "    .dataframe tbody tr th:only-of-type {\n",
              "        vertical-align: middle;\n",
              "    }\n",
              "\n",
              "    .dataframe tbody tr th {\n",
              "        vertical-align: top;\n",
              "    }\n",
              "\n",
              "    .dataframe thead th {\n",
              "        text-align: right;\n",
              "    }\n",
              "</style>\n",
              "<table border=\"1\" class=\"dataframe\">\n",
              "  <thead>\n",
              "    <tr style=\"text-align: right;\">\n",
              "      <th></th>\n",
              "      <th>Age</th>\n",
              "      <th>Gender</th>\n",
              "      <th>Polyuria</th>\n",
              "      <th>Polydipsia</th>\n",
              "      <th>sudden weight loss</th>\n",
              "      <th>weakness</th>\n",
              "      <th>Polyphagia</th>\n",
              "      <th>Genital thrush</th>\n",
              "      <th>visual blurring</th>\n",
              "      <th>Itching</th>\n",
              "      <th>Irritability</th>\n",
              "      <th>delayed healing</th>\n",
              "      <th>partial paresis</th>\n",
              "      <th>muscle stiffness</th>\n",
              "      <th>Alopecia</th>\n",
              "      <th>Obesity</th>\n",
              "    </tr>\n",
              "  </thead>\n",
              "  <tbody>\n",
              "    <tr>\n",
              "      <th>0</th>\n",
              "      <td>40</td>\n",
              "      <td>1</td>\n",
              "      <td>0</td>\n",
              "      <td>1</td>\n",
              "      <td>0</td>\n",
              "      <td>1</td>\n",
              "      <td>0</td>\n",
              "      <td>0</td>\n",
              "      <td>0</td>\n",
              "      <td>1</td>\n",
              "      <td>0</td>\n",
              "      <td>1</td>\n",
              "      <td>0</td>\n",
              "      <td>1</td>\n",
              "      <td>1</td>\n",
              "      <td>1</td>\n",
              "    </tr>\n",
              "    <tr>\n",
              "      <th>1</th>\n",
              "      <td>58</td>\n",
              "      <td>1</td>\n",
              "      <td>0</td>\n",
              "      <td>0</td>\n",
              "      <td>0</td>\n",
              "      <td>1</td>\n",
              "      <td>0</td>\n",
              "      <td>0</td>\n",
              "      <td>1</td>\n",
              "      <td>0</td>\n",
              "      <td>0</td>\n",
              "      <td>0</td>\n",
              "      <td>1</td>\n",
              "      <td>0</td>\n",
              "      <td>1</td>\n",
              "      <td>0</td>\n",
              "    </tr>\n",
              "    <tr>\n",
              "      <th>2</th>\n",
              "      <td>41</td>\n",
              "      <td>1</td>\n",
              "      <td>1</td>\n",
              "      <td>0</td>\n",
              "      <td>0</td>\n",
              "      <td>1</td>\n",
              "      <td>1</td>\n",
              "      <td>0</td>\n",
              "      <td>0</td>\n",
              "      <td>1</td>\n",
              "      <td>0</td>\n",
              "      <td>1</td>\n",
              "      <td>0</td>\n",
              "      <td>1</td>\n",
              "      <td>1</td>\n",
              "      <td>0</td>\n",
              "    </tr>\n",
              "    <tr>\n",
              "      <th>3</th>\n",
              "      <td>45</td>\n",
              "      <td>1</td>\n",
              "      <td>0</td>\n",
              "      <td>0</td>\n",
              "      <td>1</td>\n",
              "      <td>1</td>\n",
              "      <td>1</td>\n",
              "      <td>1</td>\n",
              "      <td>0</td>\n",
              "      <td>1</td>\n",
              "      <td>0</td>\n",
              "      <td>1</td>\n",
              "      <td>0</td>\n",
              "      <td>0</td>\n",
              "      <td>0</td>\n",
              "      <td>0</td>\n",
              "    </tr>\n",
              "    <tr>\n",
              "      <th>4</th>\n",
              "      <td>60</td>\n",
              "      <td>1</td>\n",
              "      <td>1</td>\n",
              "      <td>1</td>\n",
              "      <td>1</td>\n",
              "      <td>1</td>\n",
              "      <td>1</td>\n",
              "      <td>0</td>\n",
              "      <td>1</td>\n",
              "      <td>1</td>\n",
              "      <td>1</td>\n",
              "      <td>1</td>\n",
              "      <td>1</td>\n",
              "      <td>1</td>\n",
              "      <td>1</td>\n",
              "      <td>1</td>\n",
              "    </tr>\n",
              "  </tbody>\n",
              "</table>\n",
              "</div>"
            ],
            "text/plain": [
              "   Age  Gender  Polyuria  ...  muscle stiffness  Alopecia  Obesity\n",
              "0   40       1         0  ...                 1         1        1\n",
              "1   58       1         0  ...                 0         1        0\n",
              "2   41       1         1  ...                 1         1        0\n",
              "3   45       1         0  ...                 0         0        0\n",
              "4   60       1         1  ...                 1         1        1\n",
              "\n",
              "[5 rows x 16 columns]"
            ]
          },
          "metadata": {
            "tags": []
          },
          "execution_count": 69
        }
      ]
    },
    {
      "cell_type": "markdown",
      "metadata": {
        "id": "GFBDMSOP42zO"
      },
      "source": [
        "#Normalizing the data using Standard Scaler"
      ]
    },
    {
      "cell_type": "code",
      "metadata": {
        "colab": {
          "base_uri": "https://localhost:8080/",
          "height": 455
        },
        "id": "7vKeoRLj51-x",
        "outputId": "d4e23815-a048-4141-b71c-1689b2dc151e"
      },
      "source": [
        "from sklearn.preprocessing import StandardScaler\r\n",
        "scaler = StandardScaler()\r\n",
        "col_names=data_X.columns\r\n",
        "data_X[col_names] = scaler.fit_transform(data_X.values)\r\n",
        "data_X"
      ],
      "execution_count": null,
      "outputs": [
        {
          "output_type": "execute_result",
          "data": {
            "text/html": [
              "<div>\n",
              "<style scoped>\n",
              "    .dataframe tbody tr th:only-of-type {\n",
              "        vertical-align: middle;\n",
              "    }\n",
              "\n",
              "    .dataframe tbody tr th {\n",
              "        vertical-align: top;\n",
              "    }\n",
              "\n",
              "    .dataframe thead th {\n",
              "        text-align: right;\n",
              "    }\n",
              "</style>\n",
              "<table border=\"1\" class=\"dataframe\">\n",
              "  <thead>\n",
              "    <tr style=\"text-align: right;\">\n",
              "      <th></th>\n",
              "      <th>Age</th>\n",
              "      <th>Gender</th>\n",
              "      <th>Polyuria</th>\n",
              "      <th>Polydipsia</th>\n",
              "      <th>sudden weight loss</th>\n",
              "      <th>weakness</th>\n",
              "      <th>Polyphagia</th>\n",
              "      <th>Genital thrush</th>\n",
              "      <th>visual blurring</th>\n",
              "      <th>Itching</th>\n",
              "      <th>Irritability</th>\n",
              "      <th>delayed healing</th>\n",
              "      <th>partial paresis</th>\n",
              "      <th>muscle stiffness</th>\n",
              "      <th>Alopecia</th>\n",
              "      <th>Obesity</th>\n",
              "    </tr>\n",
              "  </thead>\n",
              "  <tbody>\n",
              "    <tr>\n",
              "      <th>0</th>\n",
              "      <td>-0.661367</td>\n",
              "      <td>0.765092</td>\n",
              "      <td>-0.992337</td>\n",
              "      <td>1.109847</td>\n",
              "      <td>-0.846269</td>\n",
              "      <td>0.839594</td>\n",
              "      <td>-0.915126</td>\n",
              "      <td>-0.535844</td>\n",
              "      <td>-0.901025</td>\n",
              "      <td>1.027295</td>\n",
              "      <td>-0.565506</td>\n",
              "      <td>1.084312</td>\n",
              "      <td>-0.869918</td>\n",
              "      <td>1.290994</td>\n",
              "      <td>1.380227</td>\n",
              "      <td>2.215647</td>\n",
              "    </tr>\n",
              "    <tr>\n",
              "      <th>1</th>\n",
              "      <td>0.821362</td>\n",
              "      <td>0.765092</td>\n",
              "      <td>-0.992337</td>\n",
              "      <td>-0.901025</td>\n",
              "      <td>-0.846269</td>\n",
              "      <td>0.839594</td>\n",
              "      <td>-0.915126</td>\n",
              "      <td>-0.535844</td>\n",
              "      <td>1.109847</td>\n",
              "      <td>-0.973430</td>\n",
              "      <td>-0.565506</td>\n",
              "      <td>-0.922244</td>\n",
              "      <td>1.149534</td>\n",
              "      <td>-0.774597</td>\n",
              "      <td>1.380227</td>\n",
              "      <td>-0.451335</td>\n",
              "    </tr>\n",
              "    <tr>\n",
              "      <th>2</th>\n",
              "      <td>-0.578993</td>\n",
              "      <td>0.765092</td>\n",
              "      <td>1.007722</td>\n",
              "      <td>-0.901025</td>\n",
              "      <td>-0.846269</td>\n",
              "      <td>0.839594</td>\n",
              "      <td>1.092746</td>\n",
              "      <td>-0.535844</td>\n",
              "      <td>-0.901025</td>\n",
              "      <td>1.027295</td>\n",
              "      <td>-0.565506</td>\n",
              "      <td>1.084312</td>\n",
              "      <td>-0.869918</td>\n",
              "      <td>1.290994</td>\n",
              "      <td>1.380227</td>\n",
              "      <td>-0.451335</td>\n",
              "    </tr>\n",
              "    <tr>\n",
              "      <th>3</th>\n",
              "      <td>-0.249498</td>\n",
              "      <td>0.765092</td>\n",
              "      <td>-0.992337</td>\n",
              "      <td>-0.901025</td>\n",
              "      <td>1.181657</td>\n",
              "      <td>0.839594</td>\n",
              "      <td>1.092746</td>\n",
              "      <td>1.866215</td>\n",
              "      <td>-0.901025</td>\n",
              "      <td>1.027295</td>\n",
              "      <td>-0.565506</td>\n",
              "      <td>1.084312</td>\n",
              "      <td>-0.869918</td>\n",
              "      <td>-0.774597</td>\n",
              "      <td>-0.724518</td>\n",
              "      <td>-0.451335</td>\n",
              "    </tr>\n",
              "    <tr>\n",
              "      <th>4</th>\n",
              "      <td>0.986110</td>\n",
              "      <td>0.765092</td>\n",
              "      <td>1.007722</td>\n",
              "      <td>1.109847</td>\n",
              "      <td>1.181657</td>\n",
              "      <td>0.839594</td>\n",
              "      <td>1.092746</td>\n",
              "      <td>-0.535844</td>\n",
              "      <td>1.109847</td>\n",
              "      <td>1.027295</td>\n",
              "      <td>1.768328</td>\n",
              "      <td>1.084312</td>\n",
              "      <td>1.149534</td>\n",
              "      <td>1.290994</td>\n",
              "      <td>1.380227</td>\n",
              "      <td>2.215647</td>\n",
              "    </tr>\n",
              "    <tr>\n",
              "      <th>...</th>\n",
              "      <td>...</td>\n",
              "      <td>...</td>\n",
              "      <td>...</td>\n",
              "      <td>...</td>\n",
              "      <td>...</td>\n",
              "      <td>...</td>\n",
              "      <td>...</td>\n",
              "      <td>...</td>\n",
              "      <td>...</td>\n",
              "      <td>...</td>\n",
              "      <td>...</td>\n",
              "      <td>...</td>\n",
              "      <td>...</td>\n",
              "      <td>...</td>\n",
              "      <td>...</td>\n",
              "      <td>...</td>\n",
              "    </tr>\n",
              "    <tr>\n",
              "      <th>515</th>\n",
              "      <td>-0.743741</td>\n",
              "      <td>-1.307032</td>\n",
              "      <td>1.007722</td>\n",
              "      <td>1.109847</td>\n",
              "      <td>1.181657</td>\n",
              "      <td>-1.191052</td>\n",
              "      <td>1.092746</td>\n",
              "      <td>-0.535844</td>\n",
              "      <td>-0.901025</td>\n",
              "      <td>1.027295</td>\n",
              "      <td>-0.565506</td>\n",
              "      <td>1.084312</td>\n",
              "      <td>1.149534</td>\n",
              "      <td>-0.774597</td>\n",
              "      <td>-0.724518</td>\n",
              "      <td>-0.451335</td>\n",
              "    </tr>\n",
              "    <tr>\n",
              "      <th>516</th>\n",
              "      <td>-0.002376</td>\n",
              "      <td>-1.307032</td>\n",
              "      <td>1.007722</td>\n",
              "      <td>1.109847</td>\n",
              "      <td>1.181657</td>\n",
              "      <td>0.839594</td>\n",
              "      <td>1.092746</td>\n",
              "      <td>-0.535844</td>\n",
              "      <td>-0.901025</td>\n",
              "      <td>1.027295</td>\n",
              "      <td>1.768328</td>\n",
              "      <td>1.084312</td>\n",
              "      <td>1.149534</td>\n",
              "      <td>-0.774597</td>\n",
              "      <td>-0.724518</td>\n",
              "      <td>-0.451335</td>\n",
              "    </tr>\n",
              "    <tr>\n",
              "      <th>517</th>\n",
              "      <td>0.821362</td>\n",
              "      <td>-1.307032</td>\n",
              "      <td>1.007722</td>\n",
              "      <td>1.109847</td>\n",
              "      <td>1.181657</td>\n",
              "      <td>0.839594</td>\n",
              "      <td>1.092746</td>\n",
              "      <td>-0.535844</td>\n",
              "      <td>1.109847</td>\n",
              "      <td>-0.973430</td>\n",
              "      <td>-0.565506</td>\n",
              "      <td>-0.922244</td>\n",
              "      <td>1.149534</td>\n",
              "      <td>1.290994</td>\n",
              "      <td>-0.724518</td>\n",
              "      <td>2.215647</td>\n",
              "    </tr>\n",
              "    <tr>\n",
              "      <th>518</th>\n",
              "      <td>-1.320358</td>\n",
              "      <td>-1.307032</td>\n",
              "      <td>-0.992337</td>\n",
              "      <td>-0.901025</td>\n",
              "      <td>-0.846269</td>\n",
              "      <td>0.839594</td>\n",
              "      <td>-0.915126</td>\n",
              "      <td>-0.535844</td>\n",
              "      <td>1.109847</td>\n",
              "      <td>1.027295</td>\n",
              "      <td>-0.565506</td>\n",
              "      <td>1.084312</td>\n",
              "      <td>-0.869918</td>\n",
              "      <td>-0.774597</td>\n",
              "      <td>1.380227</td>\n",
              "      <td>-0.451335</td>\n",
              "    </tr>\n",
              "    <tr>\n",
              "      <th>519</th>\n",
              "      <td>-0.496619</td>\n",
              "      <td>0.765092</td>\n",
              "      <td>-0.992337</td>\n",
              "      <td>-0.901025</td>\n",
              "      <td>-0.846269</td>\n",
              "      <td>-1.191052</td>\n",
              "      <td>-0.915126</td>\n",
              "      <td>-0.535844</td>\n",
              "      <td>-0.901025</td>\n",
              "      <td>-0.973430</td>\n",
              "      <td>-0.565506</td>\n",
              "      <td>-0.922244</td>\n",
              "      <td>-0.869918</td>\n",
              "      <td>-0.774597</td>\n",
              "      <td>-0.724518</td>\n",
              "      <td>-0.451335</td>\n",
              "    </tr>\n",
              "  </tbody>\n",
              "</table>\n",
              "<p>520 rows × 16 columns</p>\n",
              "</div>"
            ],
            "text/plain": [
              "          Age    Gender  Polyuria  ...  muscle stiffness  Alopecia   Obesity\n",
              "0   -0.661367  0.765092 -0.992337  ...          1.290994  1.380227  2.215647\n",
              "1    0.821362  0.765092 -0.992337  ...         -0.774597  1.380227 -0.451335\n",
              "2   -0.578993  0.765092  1.007722  ...          1.290994  1.380227 -0.451335\n",
              "3   -0.249498  0.765092 -0.992337  ...         -0.774597 -0.724518 -0.451335\n",
              "4    0.986110  0.765092  1.007722  ...          1.290994  1.380227  2.215647\n",
              "..        ...       ...       ...  ...               ...       ...       ...\n",
              "515 -0.743741 -1.307032  1.007722  ...         -0.774597 -0.724518 -0.451335\n",
              "516 -0.002376 -1.307032  1.007722  ...         -0.774597 -0.724518 -0.451335\n",
              "517  0.821362 -1.307032  1.007722  ...          1.290994 -0.724518  2.215647\n",
              "518 -1.320358 -1.307032 -0.992337  ...         -0.774597  1.380227 -0.451335\n",
              "519 -0.496619  0.765092 -0.992337  ...         -0.774597 -0.724518 -0.451335\n",
              "\n",
              "[520 rows x 16 columns]"
            ]
          },
          "metadata": {
            "tags": []
          },
          "execution_count": 70
        }
      ]
    },
    {
      "cell_type": "code",
      "metadata": {
        "colab": {
          "base_uri": "https://localhost:8080/",
          "height": 405
        },
        "id": "q8IJ1us-5_-r",
        "outputId": "7922dabc-de07-4c92-c6bd-2884616eaf2e"
      },
      "source": [
        "data_X.describe()"
      ],
      "execution_count": null,
      "outputs": [
        {
          "output_type": "execute_result",
          "data": {
            "text/html": [
              "<div>\n",
              "<style scoped>\n",
              "    .dataframe tbody tr th:only-of-type {\n",
              "        vertical-align: middle;\n",
              "    }\n",
              "\n",
              "    .dataframe tbody tr th {\n",
              "        vertical-align: top;\n",
              "    }\n",
              "\n",
              "    .dataframe thead th {\n",
              "        text-align: right;\n",
              "    }\n",
              "</style>\n",
              "<table border=\"1\" class=\"dataframe\">\n",
              "  <thead>\n",
              "    <tr style=\"text-align: right;\">\n",
              "      <th></th>\n",
              "      <th>Age</th>\n",
              "      <th>Gender</th>\n",
              "      <th>Polyuria</th>\n",
              "      <th>Polydipsia</th>\n",
              "      <th>sudden weight loss</th>\n",
              "      <th>weakness</th>\n",
              "      <th>Polyphagia</th>\n",
              "      <th>Genital thrush</th>\n",
              "      <th>visual blurring</th>\n",
              "      <th>Itching</th>\n",
              "      <th>Irritability</th>\n",
              "      <th>delayed healing</th>\n",
              "      <th>partial paresis</th>\n",
              "      <th>muscle stiffness</th>\n",
              "      <th>Alopecia</th>\n",
              "      <th>Obesity</th>\n",
              "    </tr>\n",
              "  </thead>\n",
              "  <tbody>\n",
              "    <tr>\n",
              "      <th>count</th>\n",
              "      <td>5.200000e+02</td>\n",
              "      <td>5.200000e+02</td>\n",
              "      <td>5.200000e+02</td>\n",
              "      <td>5.200000e+02</td>\n",
              "      <td>5.200000e+02</td>\n",
              "      <td>5.200000e+02</td>\n",
              "      <td>5.200000e+02</td>\n",
              "      <td>5.200000e+02</td>\n",
              "      <td>5.200000e+02</td>\n",
              "      <td>5.200000e+02</td>\n",
              "      <td>5.200000e+02</td>\n",
              "      <td>5.200000e+02</td>\n",
              "      <td>5.200000e+02</td>\n",
              "      <td>5.200000e+02</td>\n",
              "      <td>5.200000e+02</td>\n",
              "      <td>5.200000e+02</td>\n",
              "    </tr>\n",
              "    <tr>\n",
              "      <th>mean</th>\n",
              "      <td>4.035234e-17</td>\n",
              "      <td>-6.853492e-17</td>\n",
              "      <td>1.099975e-15</td>\n",
              "      <td>-1.190928e-15</td>\n",
              "      <td>6.473454e-16</td>\n",
              "      <td>5.606626e-16</td>\n",
              "      <td>-7.015755e-16</td>\n",
              "      <td>-1.985591e-16</td>\n",
              "      <td>-1.921540e-18</td>\n",
              "      <td>6.533235e-17</td>\n",
              "      <td>3.454502e-16</td>\n",
              "      <td>9.223391e-17</td>\n",
              "      <td>1.298534e-15</td>\n",
              "      <td>3.505743e-16</td>\n",
              "      <td>1.468910e-16</td>\n",
              "      <td>-1.609823e-16</td>\n",
              "    </tr>\n",
              "    <tr>\n",
              "      <th>std</th>\n",
              "      <td>1.000963e+00</td>\n",
              "      <td>1.000963e+00</td>\n",
              "      <td>1.000963e+00</td>\n",
              "      <td>1.000963e+00</td>\n",
              "      <td>1.000963e+00</td>\n",
              "      <td>1.000963e+00</td>\n",
              "      <td>1.000963e+00</td>\n",
              "      <td>1.000963e+00</td>\n",
              "      <td>1.000963e+00</td>\n",
              "      <td>1.000963e+00</td>\n",
              "      <td>1.000963e+00</td>\n",
              "      <td>1.000963e+00</td>\n",
              "      <td>1.000963e+00</td>\n",
              "      <td>1.000963e+00</td>\n",
              "      <td>1.000963e+00</td>\n",
              "      <td>1.000963e+00</td>\n",
              "    </tr>\n",
              "    <tr>\n",
              "      <th>min</th>\n",
              "      <td>-2.638339e+00</td>\n",
              "      <td>-1.307032e+00</td>\n",
              "      <td>-9.923371e-01</td>\n",
              "      <td>-9.010254e-01</td>\n",
              "      <td>-8.462692e-01</td>\n",
              "      <td>-1.191052e+00</td>\n",
              "      <td>-9.151261e-01</td>\n",
              "      <td>-5.358439e-01</td>\n",
              "      <td>-9.010254e-01</td>\n",
              "      <td>-9.734298e-01</td>\n",
              "      <td>-5.655059e-01</td>\n",
              "      <td>-9.222439e-01</td>\n",
              "      <td>-8.699177e-01</td>\n",
              "      <td>-7.745967e-01</td>\n",
              "      <td>-7.245182e-01</td>\n",
              "      <td>-4.513355e-01</td>\n",
              "    </tr>\n",
              "    <tr>\n",
              "      <th>25%</th>\n",
              "      <td>-7.437407e-01</td>\n",
              "      <td>-1.307032e+00</td>\n",
              "      <td>-9.923371e-01</td>\n",
              "      <td>-9.010254e-01</td>\n",
              "      <td>-8.462692e-01</td>\n",
              "      <td>-1.191052e+00</td>\n",
              "      <td>-9.151261e-01</td>\n",
              "      <td>-5.358439e-01</td>\n",
              "      <td>-9.010254e-01</td>\n",
              "      <td>-9.734298e-01</td>\n",
              "      <td>-5.655059e-01</td>\n",
              "      <td>-9.222439e-01</td>\n",
              "      <td>-8.699177e-01</td>\n",
              "      <td>-7.745967e-01</td>\n",
              "      <td>-7.245182e-01</td>\n",
              "      <td>-4.513355e-01</td>\n",
              "    </tr>\n",
              "    <tr>\n",
              "      <th>50%</th>\n",
              "      <td>-4.356309e-02</td>\n",
              "      <td>7.650921e-01</td>\n",
              "      <td>-9.923371e-01</td>\n",
              "      <td>-9.010254e-01</td>\n",
              "      <td>-8.462692e-01</td>\n",
              "      <td>8.395940e-01</td>\n",
              "      <td>-9.151261e-01</td>\n",
              "      <td>-5.358439e-01</td>\n",
              "      <td>-9.010254e-01</td>\n",
              "      <td>-9.734298e-01</td>\n",
              "      <td>-5.655059e-01</td>\n",
              "      <td>-9.222439e-01</td>\n",
              "      <td>-8.699177e-01</td>\n",
              "      <td>-7.745967e-01</td>\n",
              "      <td>-7.245182e-01</td>\n",
              "      <td>-4.513355e-01</td>\n",
              "    </tr>\n",
              "    <tr>\n",
              "      <th>75%</th>\n",
              "      <td>7.389884e-01</td>\n",
              "      <td>7.650921e-01</td>\n",
              "      <td>1.007722e+00</td>\n",
              "      <td>1.109847e+00</td>\n",
              "      <td>1.181657e+00</td>\n",
              "      <td>8.395940e-01</td>\n",
              "      <td>1.092746e+00</td>\n",
              "      <td>-5.358439e-01</td>\n",
              "      <td>1.109847e+00</td>\n",
              "      <td>1.027295e+00</td>\n",
              "      <td>-5.655059e-01</td>\n",
              "      <td>1.084312e+00</td>\n",
              "      <td>1.149534e+00</td>\n",
              "      <td>1.290994e+00</td>\n",
              "      <td>1.380227e+00</td>\n",
              "      <td>-4.513355e-01</td>\n",
              "    </tr>\n",
              "    <tr>\n",
              "      <th>max</th>\n",
              "      <td>3.457325e+00</td>\n",
              "      <td>7.650921e-01</td>\n",
              "      <td>1.007722e+00</td>\n",
              "      <td>1.109847e+00</td>\n",
              "      <td>1.181657e+00</td>\n",
              "      <td>8.395940e-01</td>\n",
              "      <td>1.092746e+00</td>\n",
              "      <td>1.866215e+00</td>\n",
              "      <td>1.109847e+00</td>\n",
              "      <td>1.027295e+00</td>\n",
              "      <td>1.768328e+00</td>\n",
              "      <td>1.084312e+00</td>\n",
              "      <td>1.149534e+00</td>\n",
              "      <td>1.290994e+00</td>\n",
              "      <td>1.380227e+00</td>\n",
              "      <td>2.215647e+00</td>\n",
              "    </tr>\n",
              "  </tbody>\n",
              "</table>\n",
              "</div>"
            ],
            "text/plain": [
              "                Age        Gender  ...      Alopecia       Obesity\n",
              "count  5.200000e+02  5.200000e+02  ...  5.200000e+02  5.200000e+02\n",
              "mean   4.035234e-17 -6.853492e-17  ...  1.468910e-16 -1.609823e-16\n",
              "std    1.000963e+00  1.000963e+00  ...  1.000963e+00  1.000963e+00\n",
              "min   -2.638339e+00 -1.307032e+00  ... -7.245182e-01 -4.513355e-01\n",
              "25%   -7.437407e-01 -1.307032e+00  ... -7.245182e-01 -4.513355e-01\n",
              "50%   -4.356309e-02  7.650921e-01  ... -7.245182e-01 -4.513355e-01\n",
              "75%    7.389884e-01  7.650921e-01  ...  1.380227e+00 -4.513355e-01\n",
              "max    3.457325e+00  7.650921e-01  ...  1.380227e+00  2.215647e+00\n",
              "\n",
              "[8 rows x 16 columns]"
            ]
          },
          "metadata": {
            "tags": []
          },
          "execution_count": 71
        }
      ]
    },
    {
      "cell_type": "markdown",
      "metadata": {
        "id": "GDsWIXH56SR1"
      },
      "source": [
        "#spliting the data into training and test set in the ratio of 85:15"
      ]
    },
    {
      "cell_type": "code",
      "metadata": {
        "colab": {
          "base_uri": "https://localhost:8080/"
        },
        "id": "8Zd0VJCp6HNv",
        "outputId": "4c88daa1-cfa8-4bbb-80c9-16e496d93b7d"
      },
      "source": [
        "#Splitting the data into training and validation dataset\r\n",
        "X_train,X_test,Y_train,Y_test = train_test_split(data_X,data_Y,train_size = 0.85,random_state=39)\r\n",
        "print(X_train.shape)\r\n",
        "print(X_test.shape)\r\n",
        "print(Y_train.shape)\r\n",
        "print(Y_test.shape)\r\n"
      ],
      "execution_count": null,
      "outputs": [
        {
          "output_type": "stream",
          "text": [
            "(442, 16)\n",
            "(78, 16)\n",
            "(442,)\n",
            "(78,)\n"
          ],
          "name": "stdout"
        }
      ]
    },
    {
      "cell_type": "markdown",
      "metadata": {
        "id": "6cq7AVg-4_LS"
      },
      "source": [
        "#Logistic Regression \r\n"
      ]
    },
    {
      "cell_type": "code",
      "metadata": {
        "id": "U9AmDimU6f8h"
      },
      "source": [
        "#applying logistic regression model\r\n",
        "from sklearn.linear_model import LogisticRegression\r\n",
        "logistic_regression=LogisticRegression()\r\n",
        "logistic_regression.fit(X_train,Y_train)\r\n",
        "Y_pred1 = logistic_regression.predict(X_train)\r\n",
        "Y_pred2 = logistic_regression.predict(X_test)"
      ],
      "execution_count": null,
      "outputs": []
    },
    {
      "cell_type": "code",
      "metadata": {
        "colab": {
          "base_uri": "https://localhost:8080/"
        },
        "id": "VAGuPFqa6n8U",
        "outputId": "64c5dc05-f3ba-491c-e09e-90f08a89ae2d"
      },
      "source": [
        "#printing confusion matrix \r\n",
        "from sklearn.metrics import confusion_matrix,recall_score,precision_score,roc_auc_score,f1_score\r\n",
        "matrix = confusion_matrix(Y_train,Y_pred1)\r\n",
        "print(\"train set confusion matrix\")\r\n",
        "print(matrix)\r\n",
        "print('True positive = ', matrix[0][0])\r\n",
        "print('False positive = ', matrix[0][1])\r\n",
        "print('False negative = ', matrix[1][0])\r\n",
        "print('True negative = ', matrix[1][1])\r\n",
        "\r\n",
        "matrix1 = confusion_matrix(Y_test,Y_pred2)\r\n",
        "print(\"test set confusion matrix\")\r\n",
        "print(matrix1)\r\n",
        "print('True positive = ', matrix1[0][0])\r\n",
        "print('False positive = ', matrix1[0][1])\r\n",
        "print('False negative = ', matrix1[1][0])\r\n",
        "print('True negative = ', matrix1[1][1])\r\n"
      ],
      "execution_count": null,
      "outputs": [
        {
          "output_type": "stream",
          "text": [
            "train set confusion matrix\n",
            "[[154  15]\n",
            " [ 17 256]]\n",
            "True positive =  154\n",
            "False positive =  15\n",
            "False negative =  17\n",
            "True negative =  256\n",
            "test set confusion matrix\n",
            "[[29  2]\n",
            " [ 3 44]]\n",
            "True positive =  29\n",
            "False positive =  2\n",
            "False negative =  3\n",
            "True negative =  44\n"
          ],
          "name": "stdout"
        }
      ]
    },
    {
      "cell_type": "code",
      "metadata": {
        "colab": {
          "base_uri": "https://localhost:8080/",
          "height": 314
        },
        "id": "GiIH8LI469y8",
        "outputId": "77db8a25-5aa0-48c6-edad-438faaea1495"
      },
      "source": [
        "#plotting heatmap for confusion matrix\r\n",
        "print(\"train set confusion matrix\")\r\n",
        "sns.heatmap(matrix,annot=True)\r\n",
        "plt.ylabel('observed')\r\n",
        "plt.xlabel('predicted')\r\n"
      ],
      "execution_count": null,
      "outputs": [
        {
          "output_type": "stream",
          "text": [
            "train set confusion matrix\n"
          ],
          "name": "stdout"
        },
        {
          "output_type": "execute_result",
          "data": {
            "text/plain": [
              "Text(0.5, 15.0, 'predicted')"
            ]
          },
          "metadata": {
            "tags": []
          },
          "execution_count": 124
        },
        {
          "output_type": "display_data",
          "data": {
            "image/png": "[encoded data removed]",
            "text/plain": [
              "<Figure size 432x288 with 2 Axes>"
            ]
          },
          "metadata": {
            "tags": [],
            "needs_background": "light"
          }
        }
      ]
    },
    {
      "cell_type": "code",
      "metadata": {
        "colab": {
          "base_uri": "https://localhost:8080/",
          "height": 314
        },
        "id": "dMsDbeQrTMsX",
        "outputId": "2f724cf3-918d-491f-9183-65fc2e574cd4"
      },
      "source": [
        "print(\"test set confusion matrix\")\r\n",
        "sns.heatmap(matrix1,annot=True)\r\n",
        "plt.ylabel('observed')\r\n",
        "plt.xlabel('predicted')"
      ],
      "execution_count": null,
      "outputs": [
        {
          "output_type": "stream",
          "text": [
            "test set confusion matrix\n"
          ],
          "name": "stdout"
        },
        {
          "output_type": "execute_result",
          "data": {
            "text/plain": [
              "Text(0.5, 15.0, 'predicted')"
            ]
          },
          "metadata": {
            "tags": []
          },
          "execution_count": 125
        },
        {
          "output_type": "display_data",
          "data": {
            "image/png": "[encoded data removed]",
            "text/plain": [
              "<Figure size 432x288 with 2 Axes>"
            ]
          },
          "metadata": {
            "tags": [],
            "needs_background": "light"
          }
        }
      ]
    },
    {
      "cell_type": "code",
      "metadata": {
        "colab": {
          "base_uri": "https://localhost:8080/"
        },
        "id": "ewKbQ7T87CYO",
        "outputId": "9790cfb6-7d89-4f2d-862b-b4d5b502a56d"
      },
      "source": [
        "#printing accuracy of train and test data\r\n",
        "print('train accuracy:',metrics.accuracy_score(Y_train,Y_pred1))\r\n",
        "print(\"test accuracy :\",metrics.accuracy_score(Y_test,Y_pred2))\r\n",
        "#printing errors of test data\r\n",
        "print('train Recall Score:', recall_score(Y_train,Y_pred1))\r\n",
        "print('test Recall Score:', recall_score(Y_test,Y_pred2))\r\n",
        "\r\n",
        "print('train Precission score',precision_score(Y_train,Y_pred1))\r\n",
        "print('test Precission score',precision_score(Y_test,Y_pred2))\r\n",
        "\r\n",
        "print('train f1 score',f1_score(Y_train,Y_pred1))\r\n",
        "print('test f1 score',f1_score(Y_test,Y_pred2))\r\n",
        "\r\n",
        "print('train specificity score',matrix[0][0]/(matrix[0][0]+matrix[0][1]))\r\n",
        "print('test specificity score',matrix1[0][0]/(matrix1[0][0]+matrix1[0][1]))\r\n",
        "\r\n",
        "\r\n",
        "\r\n"
      ],
      "execution_count": null,
      "outputs": [
        {
          "output_type": "stream",
          "text": [
            "train accuracy: 0.9276018099547512\n",
            "test accuracy : 0.9358974358974359\n",
            "train Recall Score: 0.9377289377289377\n",
            "test Recall Score: 0.9361702127659575\n",
            "train Precission score 0.9446494464944649\n",
            "test Precission score 0.9565217391304348\n",
            "train f1 score 0.9411764705882353\n",
            "test f1 score 0.9462365591397849\n",
            "train specificity score 0.9112426035502958\n",
            "test specificity score 0.9354838709677419\n"
          ],
          "name": "stdout"
        }
      ]
    },
    {
      "cell_type": "markdown",
      "metadata": {
        "id": "Vkqb5DxUA-hp"
      },
      "source": [
        "# 1.naive bayes"
      ]
    },
    {
      "cell_type": "code",
      "metadata": {
        "id": "_Ifq3kFGA6XF"
      },
      "source": [
        "from sklearn.naive_bayes import GaussianNB\r\n",
        "nb=GaussianNB()\r\n",
        "nb.fit(X_train,Y_train)\r\n",
        "Y_pred1=nb.predict(X_train)\r\n",
        "Y_pred2=nb.predict(X_test)"
      ],
      "execution_count": null,
      "outputs": []
    },
    {
      "cell_type": "code",
      "metadata": {
        "colab": {
          "base_uri": "https://localhost:8080/"
        },
        "id": "njO9tQtaA3YF",
        "outputId": "d7bbbb22-8171-4153-e695-9ff7d091f8bb"
      },
      "source": [
        "matrix = confusion_matrix(Y_train,Y_pred1)\r\n",
        "print(\"train set confusion matrix\")\r\n",
        "print(matrix)\r\n",
        "print('True positive = ', matrix[0][0])\r\n",
        "print('False positive = ', matrix[0][1])\r\n",
        "print('False negative = ', matrix[1][0])\r\n",
        "print('True negative = ', matrix[1][1])\r\n",
        "\r\n",
        "matrix1 = confusion_matrix(Y_test,Y_pred2)\r\n",
        "print(\"test set confusion matrix\")\r\n",
        "print(matrix1)\r\n",
        "print('True positive = ', matrix1[0][0])\r\n",
        "print('False positive = ', matrix1[0][1])\r\n",
        "print('False negative = ', matrix1[1][0])\r\n",
        "print('True negative = ', matrix1[1][1])\r\n"
      ],
      "execution_count": null,
      "outputs": [
        {
          "output_type": "stream",
          "text": [
            "train set confusion matrix\n",
            "[[148  21]\n",
            " [ 19 254]]\n",
            "True positive =  148\n",
            "False positive =  21\n",
            "False negative =  19\n",
            "True negative =  254\n",
            "test set confusion matrix\n",
            "[[27  4]\n",
            " [ 4 43]]\n",
            "True positive =  27\n",
            "False positive =  4\n",
            "False negative =  4\n",
            "True negative =  43\n"
          ],
          "name": "stdout"
        }
      ]
    },
    {
      "cell_type": "code",
      "metadata": {
        "colab": {
          "base_uri": "https://localhost:8080/",
          "height": 315
        },
        "id": "KKPkPwLuV3GB",
        "outputId": "ea1ce136-8ba0-4dd2-dd72-1177f7aaf60b"
      },
      "source": [
        "#plotting heatmap for confusion matrix\r\n",
        "print(\"train set confusion matrix\")\r\n",
        "sns.heatmap(matrix,annot=True)\r\n",
        "plt.ylabel('observed')\r\n",
        "plt.xlabel('predicted')\r\n"
      ],
      "execution_count": null,
      "outputs": [
        {
          "output_type": "stream",
          "text": [
            "train set confusion matrix\n"
          ],
          "name": "stdout"
        },
        {
          "output_type": "execute_result",
          "data": {
            "text/plain": [
              "Text(0.5, 15.0, 'predicted')"
            ]
          },
          "metadata": {
            "tags": []
          },
          "execution_count": 129
        },
        {
          "output_type": "display_data",
          "data": {
            "image/png": "[encoded data removed]",
            "text/plain": [
              "<Figure size 432x288 with 2 Axes>"
            ]
          },
          "metadata": {
            "tags": [],
            "needs_background": "light"
          }
        }
      ]
    },
    {
      "cell_type": "code",
      "metadata": {
        "colab": {
          "base_uri": "https://localhost:8080/",
          "height": 314
        },
        "id": "RbzbDvRiV80w",
        "outputId": "fe7283d8-96e3-4f3c-e38a-818b31b2d642"
      },
      "source": [
        "#plotting heatmap for confusion matrix\r\n",
        "print(\"test set confusion matrix\")\r\n",
        "sns.heatmap(matrix1,annot=True)\r\n",
        "plt.ylabel('observed')\r\n",
        "plt.xlabel('predicted')\r\n"
      ],
      "execution_count": null,
      "outputs": [
        {
          "output_type": "stream",
          "text": [
            "test set confusion matrix\n"
          ],
          "name": "stdout"
        },
        {
          "output_type": "execute_result",
          "data": {
            "text/plain": [
              "Text(0.5, 15.0, 'predicted')"
            ]
          },
          "metadata": {
            "tags": []
          },
          "execution_count": 130
        },
        {
          "output_type": "display_data",
          "data": {
            "image/png": "[encoded data removed]",
            "text/plain": [
              "<Figure size 432x288 with 2 Axes>"
            ]
          },
          "metadata": {
            "tags": [],
            "needs_background": "light"
          }
        }
      ]
    },
    {
      "cell_type": "code",
      "metadata": {
        "colab": {
          "base_uri": "https://localhost:8080/"
        },
        "id": "WKgg5TQdBEiZ",
        "outputId": "bf7bdae5-f84e-446c-d677-f746110ffc65"
      },
      "source": [
        "#printing accuracy of train and test data\r\n",
        "print('train accuracy:',metrics.accuracy_score(Y_train,Y_pred1))\r\n",
        "print(\"test accuracy :\",metrics.accuracy_score(Y_test,Y_pred2))\r\n",
        "#printing errors of test data\r\n",
        "print('train Recall Score:', recall_score(Y_train,Y_pred1))\r\n",
        "print('test Recall Score:', recall_score(Y_test,Y_pred2))\r\n",
        "\r\n",
        "print('train Precission score',precision_score(Y_train,Y_pred1))\r\n",
        "print('test Precission score',precision_score(Y_test,Y_pred2))\r\n",
        "\r\n",
        "print('train f1 score',f1_score(Y_train,Y_pred1))\r\n",
        "print('test f1 score',f1_score(Y_test,Y_pred2))\r\n",
        "\r\n",
        "print('train specificity score',matrix[0][0]/(matrix[0][0]+matrix[0][1]))\r\n",
        "print('test specificity score',matrix1[0][0]/(matrix1[0][0]+matrix1[0][1]))\r\n"
      ],
      "execution_count": null,
      "outputs": [
        {
          "output_type": "stream",
          "text": [
            "train accuracy: 0.9095022624434389\n",
            "test accuracy : 0.8974358974358975\n",
            "train Recall Score: 0.9304029304029304\n",
            "test Recall Score: 0.9148936170212766\n",
            "train Precission score 0.9236363636363636\n",
            "test Precission score 0.9148936170212766\n",
            "train f1 score 0.927007299270073\n",
            "test f1 score 0.9148936170212766\n",
            "train specificity score 0.8757396449704142\n",
            "test specificity score 0.8709677419354839\n"
          ],
          "name": "stdout"
        }
      ]
    },
    {
      "cell_type": "markdown",
      "metadata": {
        "id": "G2IyjF9SBI8C"
      },
      "source": [
        "#2.Stochastic Gradient Descent"
      ]
    },
    {
      "cell_type": "code",
      "metadata": {
        "id": "lxMtCZK5BH6x"
      },
      "source": [
        "from sklearn.linear_model import SGDClassifier\r\n",
        "sgd=SGDClassifier(loss='modified_huber',shuffle=True,random_state=39)\r\n",
        "sgd.fit(X_train,Y_train)\r\n",
        "Y_pred1=sgd.predict(X_train)\r\n",
        "Y_pred2=sgd.predict(X_test)"
      ],
      "execution_count": null,
      "outputs": []
    },
    {
      "cell_type": "code",
      "metadata": {
        "colab": {
          "base_uri": "https://localhost:8080/"
        },
        "id": "YhcI0iwaBNvZ",
        "outputId": "81661576-c46f-4d43-bedc-078721dd0e6d"
      },
      "source": [
        "matrix = confusion_matrix(Y_train,Y_pred1)\r\n",
        "print(\"train set confusion matrix\")\r\n",
        "print(matrix)\r\n",
        "print('True positive = ', matrix[0][0])\r\n",
        "print('False positive = ', matrix[0][1])\r\n",
        "print('False negative = ', matrix[1][0])\r\n",
        "print('True negative = ', matrix[1][1])\r\n",
        "\r\n",
        "matrix1 = confusion_matrix(Y_test,Y_pred2)\r\n",
        "print(\"test set confusion matrix\")\r\n",
        "print(matrix1)\r\n",
        "print('True positive = ', matrix1[0][0])\r\n",
        "print('False positive = ', matrix1[0][1])\r\n",
        "print('False negative = ', matrix1[1][0])\r\n",
        "print('True negative = ', matrix1[1][1])\r\n"
      ],
      "execution_count": null,
      "outputs": [
        {
          "output_type": "stream",
          "text": [
            "train set confusion matrix\n",
            "[[150  19]\n",
            " [ 26 247]]\n",
            "True positive =  150\n",
            "False positive =  19\n",
            "False negative =  26\n",
            "True negative =  247\n",
            "test set confusion matrix\n",
            "[[27  4]\n",
            " [ 4 43]]\n",
            "True positive =  27\n",
            "False positive =  4\n",
            "False negative =  4\n",
            "True negative =  43\n"
          ],
          "name": "stdout"
        }
      ]
    },
    {
      "cell_type": "code",
      "metadata": {
        "colab": {
          "base_uri": "https://localhost:8080/",
          "height": 314
        },
        "id": "RRUnVbf2Wf4B",
        "outputId": "d8b48527-107e-4fa3-828f-9635bf6b142b"
      },
      "source": [
        "#plotting heatmap for confusion matrix\r\n",
        "print(\"train set confusion matrix\")\r\n",
        "sns.heatmap(matrix,annot=True)\r\n",
        "plt.ylabel('observed')\r\n",
        "plt.xlabel('predicted')"
      ],
      "execution_count": null,
      "outputs": [
        {
          "output_type": "stream",
          "text": [
            "train set confusion matrix\n"
          ],
          "name": "stdout"
        },
        {
          "output_type": "execute_result",
          "data": {
            "text/plain": [
              "Text(0.5, 15.0, 'predicted')"
            ]
          },
          "metadata": {
            "tags": []
          },
          "execution_count": 85
        },
        {
          "output_type": "display_data",
          "data": {
            "image/png": "[encoded data removed]",
            "text/plain": [
              "<Figure size 432x288 with 2 Axes>"
            ]
          },
          "metadata": {
            "tags": [],
            "needs_background": "light"
          }
        }
      ]
    },
    {
      "cell_type": "code",
      "metadata": {
        "colab": {
          "base_uri": "https://localhost:8080/",
          "height": 314
        },
        "id": "gH63SOvVW3sq",
        "outputId": "80f3b981-364f-47a4-c479-6bfe11e54bde"
      },
      "source": [
        "#plotting heatmap for confusion matrix\r\n",
        "print(\"test set confusion matrix\")\r\n",
        "sns.heatmap(matrix1,annot=True)\r\n",
        "plt.ylabel('observed')\r\n",
        "plt.xlabel('predicted')"
      ],
      "execution_count": null,
      "outputs": [
        {
          "output_type": "stream",
          "text": [
            "test set confusion matrix\n"
          ],
          "name": "stdout"
        },
        {
          "output_type": "execute_result",
          "data": {
            "text/plain": [
              "Text(0.5, 15.0, 'predicted')"
            ]
          },
          "metadata": {
            "tags": []
          },
          "execution_count": 86
        },
        {
          "output_type": "display_data",
          "data": {
            "image/png": "[encoded data removed]",
            "text/plain": [
              "<Figure size 432x288 with 2 Axes>"
            ]
          },
          "metadata": {
            "tags": [],
            "needs_background": "light"
          }
        }
      ]
    },
    {
      "cell_type": "code",
      "metadata": {
        "colab": {
          "base_uri": "https://localhost:8080/"
        },
        "id": "Hzd5IBuJBQPx",
        "outputId": "27d8346b-47bf-480d-e162-76a36858f6e5"
      },
      "source": [
        "#printing accuracy of train and test data\r\n",
        "print('train accuracy:',metrics.accuracy_score(Y_train,Y_pred1))\r\n",
        "print(\"test accuracy :\",metrics.accuracy_score(Y_test,Y_pred2))\r\n",
        "#printing errors of test data\r\n",
        "print('train Recall Score:', recall_score(Y_train,Y_pred1))\r\n",
        "print('test Recall Score:', recall_score(Y_test,Y_pred2))\r\n",
        "\r\n",
        "print('train Precission score',precision_score(Y_train,Y_pred1))\r\n",
        "print('test Precission score',precision_score(Y_test,Y_pred2))\r\n",
        "\r\n",
        "print('train f1 score',f1_score(Y_train,Y_pred1))\r\n",
        "print('test f1 score',f1_score(Y_test,Y_pred2))\r\n",
        "\r\n",
        "print('train specificity score',matrix[1][1]/(matrix[1][1]+matrix[0][1]))\r\n",
        "print('test specificity score',matrix1[1][1]/(matrix1[1][1]+matrix1[0][1]))"
      ],
      "execution_count": null,
      "outputs": [
        {
          "output_type": "stream",
          "text": [
            "train accuracy: 0.8981900452488688\n",
            "test accuracy : 0.8974358974358975\n",
            "train Recall Score: 0.9047619047619048\n",
            "test Recall Score: 0.9148936170212766\n",
            "train Precission score 0.9285714285714286\n",
            "test Precission score 0.9148936170212766\n",
            "train f1 score 0.9165120593692022\n",
            "test f1 score 0.9148936170212766\n",
            "train specificity score 0.9285714285714286\n",
            "test specificity score 0.9148936170212766\n"
          ],
          "name": "stdout"
        }
      ]
    },
    {
      "cell_type": "markdown",
      "metadata": {
        "id": "cDlkUM22BV5P"
      },
      "source": [
        "#3.K-Nearest Neighbours"
      ]
    },
    {
      "cell_type": "code",
      "metadata": {
        "id": "akvEOWdIBTRD"
      },
      "source": [
        "from sklearn.neighbors import KNeighborsClassifier\r\n",
        "knn=KNeighborsClassifier(n_neighbors=15)\r\n",
        "knn.fit(X_train,Y_train)\r\n",
        "Y_pred1=knn.predict(X_train)\r\n",
        "Y_pred2=knn.predict(X_test)"
      ],
      "execution_count": null,
      "outputs": []
    },
    {
      "cell_type": "code",
      "metadata": {
        "colab": {
          "base_uri": "https://localhost:8080/"
        },
        "id": "kaDwduieBdtZ",
        "outputId": "f8f792d1-61f0-4781-8173-f1b15ae3ee82"
      },
      "source": [
        "matrix = confusion_matrix(Y_train,Y_pred1)\r\n",
        "print(\"train set confusion matrix\")\r\n",
        "print(matrix)\r\n",
        "print('True positive = ', matrix[0][0])\r\n",
        "print('False positive = ', matrix[0][1])\r\n",
        "print('False negative = ', matrix[1][0])\r\n",
        "print('True negative = ', matrix[1][1])\r\n",
        "\r\n",
        "matrix1 = confusion_matrix(Y_test,Y_pred2)\r\n",
        "print(\"test set confusion matrix\")\r\n",
        "print(matrix1)\r\n",
        "print('True positive = ', matrix1[0][0])\r\n",
        "print('False positive = ', matrix1[0][1])\r\n",
        "print('False negative = ', matrix1[1][0])\r\n",
        "print('True negative = ', matrix1[1][1])"
      ],
      "execution_count": null,
      "outputs": [
        {
          "output_type": "stream",
          "text": [
            "train set confusion matrix\n",
            "[[166   3]\n",
            " [ 32 241]]\n",
            "True positive =  166\n",
            "False positive =  3\n",
            "False negative =  32\n",
            "True negative =  241\n",
            "test set confusion matrix\n",
            "[[30  1]\n",
            " [ 4 43]]\n",
            "True positive =  30\n",
            "False positive =  1\n",
            "False negative =  4\n",
            "True negative =  43\n"
          ],
          "name": "stdout"
        }
      ]
    },
    {
      "cell_type": "code",
      "metadata": {
        "colab": {
          "base_uri": "https://localhost:8080/",
          "height": 314
        },
        "id": "IYeSXusjXMVj",
        "outputId": "86effa4f-4022-4ebf-f105-e9df4f1c2d7e"
      },
      "source": [
        "#plotting heatmap for confusion matrix\r\n",
        "print(\"train set confusion matrix\")\r\n",
        "sns.heatmap(matrix,annot=True)\r\n",
        "plt.ylabel('observed')\r\n",
        "plt.xlabel('predicted')"
      ],
      "execution_count": null,
      "outputs": [
        {
          "output_type": "stream",
          "text": [
            "train set confusion matrix\n"
          ],
          "name": "stdout"
        },
        {
          "output_type": "execute_result",
          "data": {
            "text/plain": [
              "Text(0.5, 15.0, 'predicted')"
            ]
          },
          "metadata": {
            "tags": []
          },
          "execution_count": 134
        },
        {
          "output_type": "display_data",
          "data": {
            "image/png": "[encoded data removed]",
            "text/plain": [
              "<Figure size 432x288 with 2 Axes>"
            ]
          },
          "metadata": {
            "tags": [],
            "needs_background": "light"
          }
        }
      ]
    },
    {
      "cell_type": "code",
      "metadata": {
        "colab": {
          "base_uri": "https://localhost:8080/",
          "height": 314
        },
        "id": "yUSZLGNIXULK",
        "outputId": "a3351eac-6b11-4f25-db27-1c1fb8ae7d7a"
      },
      "source": [
        "#plotting heatmap for confusion matrix\r\n",
        "print(\"test set confusion matrix\")\r\n",
        "sns.heatmap(matrix1,annot=True)\r\n",
        "plt.ylabel('observed')\r\n",
        "plt.xlabel('predicted')"
      ],
      "execution_count": null,
      "outputs": [
        {
          "output_type": "stream",
          "text": [
            "test set confusion matrix\n"
          ],
          "name": "stdout"
        },
        {
          "output_type": "execute_result",
          "data": {
            "text/plain": [
              "Text(0.5, 15.0, 'predicted')"
            ]
          },
          "metadata": {
            "tags": []
          },
          "execution_count": 135
        },
        {
          "output_type": "display_data",
          "data": {
            "image/png": "[encoded data removed]",
            "text/plain": [
              "<Figure size 432x288 with 2 Axes>"
            ]
          },
          "metadata": {
            "tags": [],
            "needs_background": "light"
          }
        }
      ]
    },
    {
      "cell_type": "code",
      "metadata": {
        "colab": {
          "base_uri": "https://localhost:8080/"
        },
        "id": "5J41jgirBggX",
        "outputId": "122f0e4e-e5c3-42c2-b67a-2bd3a5430e4f"
      },
      "source": [
        "#printing accuracy of train and test data\r\n",
        "print('train accuracy:',metrics.accuracy_score(Y_train,Y_pred1))\r\n",
        "print(\"test accuracy :\",metrics.accuracy_score(Y_test,Y_pred2))\r\n",
        "#printing errors of test data\r\n",
        "print('train Recall Score:', recall_score(Y_train,Y_pred1))\r\n",
        "print('test Recall Score:', recall_score(Y_test,Y_pred2))\r\n",
        "\r\n",
        "print('train Precission score',precision_score(Y_train,Y_pred1))\r\n",
        "print('test Precission score',precision_score(Y_test,Y_pred2))\r\n",
        "\r\n",
        "print('train f1 score',f1_score(Y_train,Y_pred1))\r\n",
        "print('test f1 score',f1_score(Y_test,Y_pred2))\r\n",
        "\r\n",
        "print('train specificity score',matrix[0][0]/(matrix[0][0]+matrix[0][1]))\r\n",
        "print('test specificity score',matrix1[0][0]/(matrix1[0][0]+matrix1[0][1]))"
      ],
      "execution_count": null,
      "outputs": [
        {
          "output_type": "stream",
          "text": [
            "train accuracy: 0.920814479638009\n",
            "test accuracy : 0.9358974358974359\n",
            "train Recall Score: 0.8827838827838828\n",
            "test Recall Score: 0.9148936170212766\n",
            "train Precission score 0.9877049180327869\n",
            "test Precission score 0.9772727272727273\n",
            "train f1 score 0.932301740812379\n",
            "test f1 score 0.945054945054945\n",
            "train specificity score 0.9822485207100592\n",
            "test specificity score 0.967741935483871\n"
          ],
          "name": "stdout"
        }
      ]
    },
    {
      "cell_type": "markdown",
      "metadata": {
        "id": "RF-6K5XNBq96"
      },
      "source": [
        "#4.Decision Tree"
      ]
    },
    {
      "cell_type": "code",
      "metadata": {
        "id": "YgkZvZirBob6"
      },
      "source": [
        "from sklearn.tree import DecisionTreeClassifier\r\n",
        "dt=DecisionTreeClassifier(max_depth=50,random_state=39,max_features=None,min_samples_leaf=15)\r\n",
        "dt.fit(X_train,Y_train)\r\n",
        "Y_pred1=dt.predict(X_train)\r\n",
        "Y_pred2=dt.predict(X_test)"
      ],
      "execution_count": null,
      "outputs": []
    },
    {
      "cell_type": "code",
      "metadata": {
        "colab": {
          "base_uri": "https://localhost:8080/"
        },
        "id": "btR5tOpYBuTa",
        "outputId": "4ec9abc4-2fdf-4f50-fc8d-251f82b4e444"
      },
      "source": [
        "matrix = confusion_matrix(Y_train,Y_pred1)\r\n",
        "print(\"train set confusion matrix\")\r\n",
        "print(matrix)\r\n",
        "print('True positive = ', matrix[0][0])\r\n",
        "print('False positive = ', matrix[0][1])\r\n",
        "print('False negative = ', matrix[1][0])\r\n",
        "print('True negative = ', matrix[1][1])\r\n",
        "\r\n",
        "matrix1 = confusion_matrix(Y_test,Y_pred2)\r\n",
        "print(\"test set confusion matrix\")\r\n",
        "print(matrix1)\r\n",
        "print('True positive = ', matrix1[0][0])\r\n",
        "print('False positive = ', matrix1[0][1])\r\n",
        "print('False negative = ', matrix1[1][0])\r\n",
        "print('True negative = ', matrix1[1][1])"
      ],
      "execution_count": null,
      "outputs": [
        {
          "output_type": "stream",
          "text": [
            "train set confusion matrix\n",
            "[[154  15]\n",
            " [ 20 253]]\n",
            "True positive =  154\n",
            "False positive =  15\n",
            "False negative =  20\n",
            "True negative =  253\n",
            "test set confusion matrix\n",
            "[[28  3]\n",
            " [ 4 43]]\n",
            "True positive =  28\n",
            "False positive =  3\n",
            "False negative =  4\n",
            "True negative =  43\n"
          ],
          "name": "stdout"
        }
      ]
    },
    {
      "cell_type": "code",
      "metadata": {
        "colab": {
          "base_uri": "https://localhost:8080/",
          "height": 316
        },
        "id": "oCaLR0lfXjAj",
        "outputId": "25aa7f37-921c-40c6-c7c4-163bca7dbd8a"
      },
      "source": [
        "#plotting heatmap for confusion matrix\r\n",
        "print(\"train set confusion matrix\")\r\n",
        "sns.heatmap(matrix,annot=True)\r\n",
        "plt.ylabel('observed')\r\n",
        "plt.xlabel('predicted')"
      ],
      "execution_count": null,
      "outputs": [
        {
          "output_type": "stream",
          "text": [
            "train set confusion matrix\n"
          ],
          "name": "stdout"
        },
        {
          "output_type": "execute_result",
          "data": {
            "text/plain": [
              "Text(0.5, 15.0, 'predicted')"
            ]
          },
          "metadata": {
            "tags": []
          },
          "execution_count": 139
        },
        {
          "output_type": "display_data",
          "data": {
            "image/png": "[encoded data removed]",
            "text/plain": [
              "<Figure size 432x288 with 2 Axes>"
            ]
          },
          "metadata": {
            "tags": [],
            "needs_background": "light"
          }
        }
      ]
    },
    {
      "cell_type": "code",
      "metadata": {
        "colab": {
          "base_uri": "https://localhost:8080/",
          "height": 314
        },
        "id": "iJGIWv-VXodR",
        "outputId": "b62c4c31-8458-42b0-ff24-063ba26cbf3d"
      },
      "source": [
        "#plotting heatmap for confusion matrix\r\n",
        "print(\"test set confusion matrix\")\r\n",
        "sns.heatmap(matrix1,annot=True)\r\n",
        "plt.ylabel('observed')\r\n",
        "plt.xlabel('predicted')"
      ],
      "execution_count": null,
      "outputs": [
        {
          "output_type": "stream",
          "text": [
            "test set confusion matrix\n"
          ],
          "name": "stdout"
        },
        {
          "output_type": "execute_result",
          "data": {
            "text/plain": [
              "Text(0.5, 15.0, 'predicted')"
            ]
          },
          "metadata": {
            "tags": []
          },
          "execution_count": 140
        },
        {
          "output_type": "display_data",
          "data": {
            "image/png": "[encoded data removed]",
            "text/plain": [
              "<Figure size 432x288 with 2 Axes>"
            ]
          },
          "metadata": {
            "tags": [],
            "needs_background": "light"
          }
        }
      ]
    },
    {
      "cell_type": "code",
      "metadata": {
        "colab": {
          "base_uri": "https://localhost:8080/"
        },
        "id": "5dvoqoW4Bwn6",
        "outputId": "6708910c-cdfc-4cae-8e32-29f64c1af423"
      },
      "source": [
        "#printing accuracy of train and test data\r\n",
        "print('train accuracy:',metrics.accuracy_score(Y_train,Y_pred1))\r\n",
        "print(\"test accuracy :\",metrics.accuracy_score(Y_test,Y_pred2))\r\n",
        "#printing errors of test data\r\n",
        "print('train Recall Score:', recall_score(Y_train,Y_pred1))\r\n",
        "print('test Recall Score:', recall_score(Y_test,Y_pred2))\r\n",
        "\r\n",
        "print('train Precission score',precision_score(Y_train,Y_pred1))\r\n",
        "print('test Precission score',precision_score(Y_test,Y_pred2))\r\n",
        "\r\n",
        "print('train f1 score',f1_score(Y_train,Y_pred1))\r\n",
        "print('test f1 score',f1_score(Y_test,Y_pred2))\r\n",
        "\r\n",
        "print('train specificity score',matrix[0][0]/(matrix[0][0]+matrix[0][1]))\r\n",
        "print('test specificity score',matrix1[0][0]/(matrix1[0][0]+matrix1[0][1]))"
      ],
      "execution_count": null,
      "outputs": [
        {
          "output_type": "stream",
          "text": [
            "train accuracy: 0.920814479638009\n",
            "test accuracy : 0.9102564102564102\n",
            "train Recall Score: 0.9267399267399268\n",
            "test Recall Score: 0.9148936170212766\n",
            "train Precission score 0.9440298507462687\n",
            "test Precission score 0.9347826086956522\n",
            "train f1 score 0.9353049907578558\n",
            "test f1 score 0.924731182795699\n",
            "train specificity score 0.9112426035502958\n",
            "test specificity score 0.9032258064516129\n"
          ],
          "name": "stdout"
        }
      ]
    },
    {
      "cell_type": "markdown",
      "metadata": {
        "id": "dhuNHMPkB14T"
      },
      "source": [
        "#5.Random Forest"
      ]
    },
    {
      "cell_type": "code",
      "metadata": {
        "id": "KJdRoXKTBzQ7"
      },
      "source": [
        "from sklearn.ensemble import RandomForestClassifier\r\n",
        "rf=RandomForestClassifier(n_estimators=500,max_depth=100,oob_score=True,n_jobs=-1,random_state=39,max_features=None,min_samples_leaf=5)\r\n",
        "rf.fit(X_train,Y_train)\r\n",
        "Y_pred1=rf.predict(X_train)\r\n",
        "Y_pred2=rf.predict(X_test)"
      ],
      "execution_count": null,
      "outputs": []
    },
    {
      "cell_type": "code",
      "metadata": {
        "id": "io-KpUstUgnF"
      },
      "source": [
        "rf??"
      ],
      "execution_count": null,
      "outputs": []
    },
    {
      "cell_type": "code",
      "metadata": {
        "colab": {
          "base_uri": "https://localhost:8080/"
        },
        "id": "13APdCOuB5hT",
        "outputId": "231fd784-56c4-4506-c1b0-70fc67ea9877"
      },
      "source": [
        "matrix = confusion_matrix(Y_train,Y_pred1)\r\n",
        "print(\"train set confusion matrix\")\r\n",
        "print(matrix)\r\n",
        "print('True positive = ', matrix[0][0])\r\n",
        "print('False positive = ', matrix[0][1])\r\n",
        "print('False negative = ', matrix[1][0])\r\n",
        "print('True negative = ', matrix[1][1])\r\n",
        "\r\n",
        "matrix1 = confusion_matrix(Y_test,Y_pred2)\r\n",
        "print(\"test set confusion matrix\")\r\n",
        "print(matrix1)\r\n",
        "print('True positive = ', matrix1[0][0])\r\n",
        "print('False positive = ', matrix1[0][1])\r\n",
        "print('False negative = ', matrix1[1][0])\r\n",
        "print('True negative = ', matrix1[1][1])"
      ],
      "execution_count": null,
      "outputs": [
        {
          "output_type": "stream",
          "text": [
            "train set confusion matrix\n",
            "[[162   7]\n",
            " [ 13 260]]\n",
            "True positive =  162\n",
            "False positive =  7\n",
            "False negative =  13\n",
            "True negative =  260\n",
            "test set confusion matrix\n",
            "[[30  1]\n",
            " [ 3 44]]\n",
            "True positive =  30\n",
            "False positive =  1\n",
            "False negative =  3\n",
            "True negative =  44\n"
          ],
          "name": "stdout"
        }
      ]
    },
    {
      "cell_type": "code",
      "metadata": {
        "colab": {
          "base_uri": "https://localhost:8080/",
          "height": 314
        },
        "id": "L2MQocRrYhnB",
        "outputId": "927a4334-a452-4aa0-d127-1aa8a9da6bff"
      },
      "source": [
        "#plotting heatmap for confusion matrix\r\n",
        "print(\"train set confusion matrix\")\r\n",
        "sns.heatmap(matrix,annot=True)\r\n",
        "plt.ylabel('observed')\r\n",
        "plt.xlabel('predicted')"
      ],
      "execution_count": null,
      "outputs": [
        {
          "output_type": "stream",
          "text": [
            "train set confusion matrix\n"
          ],
          "name": "stdout"
        },
        {
          "output_type": "execute_result",
          "data": {
            "text/plain": [
              "Text(0.5, 15.0, 'predicted')"
            ]
          },
          "metadata": {
            "tags": []
          },
          "execution_count": 150
        },
        {
          "output_type": "display_data",
          "data": {
            "image/png": "[encoded data removed]",
            "text/plain": [
              "<Figure size 432x288 with 2 Axes>"
            ]
          },
          "metadata": {
            "tags": [],
            "needs_background": "light"
          }
        }
      ]
    },
    {
      "cell_type": "code",
      "metadata": {
        "colab": {
          "base_uri": "https://localhost:8080/",
          "height": 314
        },
        "id": "F9ion3-UYph1",
        "outputId": "bf0b31c4-135b-4eac-c210-3182f8c376ab"
      },
      "source": [
        "#plotting heatmap for confusion matrix\r\n",
        "print(\"test set confusion matrix\")\r\n",
        "sns.heatmap(matrix1,annot=True)\r\n",
        "plt.ylabel('observed')\r\n",
        "plt.xlabel('predicted')"
      ],
      "execution_count": null,
      "outputs": [
        {
          "output_type": "stream",
          "text": [
            "test set confusion matrix\n"
          ],
          "name": "stdout"
        },
        {
          "output_type": "execute_result",
          "data": {
            "text/plain": [
              "Text(0.5, 15.0, 'predicted')"
            ]
          },
          "metadata": {
            "tags": []
          },
          "execution_count": 151
        },
        {
          "output_type": "display_data",
          "data": {
            "image/png": "[encoded data removed]",
            "text/plain": [
              "<Figure size 432x288 with 2 Axes>"
            ]
          },
          "metadata": {
            "tags": [],
            "needs_background": "light"
          }
        }
      ]
    },
    {
      "cell_type": "code",
      "metadata": {
        "colab": {
          "base_uri": "https://localhost:8080/"
        },
        "id": "2gPdTFIkB7nn",
        "outputId": "2959b184-1262-4208-b1a2-60e547b616a4"
      },
      "source": [
        "#printing accuracy of train and test data\r\n",
        "print('train accuracy:',metrics.accuracy_score(Y_train,Y_pred1))\r\n",
        "print(\"test accuracy :\",metrics.accuracy_score(Y_test,Y_pred2))\r\n",
        "#printing errors of test data\r\n",
        "print('train Recall Score:', recall_score(Y_train,Y_pred1))\r\n",
        "print('test Recall Score:', recall_score(Y_test,Y_pred2))\r\n",
        "\r\n",
        "print('train Precission score',precision_score(Y_train,Y_pred1))\r\n",
        "print('test Precission score',precision_score(Y_test,Y_pred2))\r\n",
        "\r\n",
        "print('train f1 score',f1_score(Y_train,Y_pred1))\r\n",
        "print('test f1 score',f1_score(Y_test,Y_pred2))\r\n",
        "\r\n",
        "print('train specificity score',matrix[0][0]/(matrix[0][0]+matrix[0][1]))\r\n",
        "print('test specificity score',matrix1[0][0]/(matrix1[0][0]+matrix1[0][1]))"
      ],
      "execution_count": null,
      "outputs": [
        {
          "output_type": "stream",
          "text": [
            "train accuracy: 0.9547511312217195\n",
            "test accuracy : 0.9487179487179487\n",
            "train Recall Score: 0.9523809523809523\n",
            "test Recall Score: 0.9361702127659575\n",
            "train Precission score 0.9737827715355806\n",
            "test Precission score 0.9777777777777777\n",
            "train f1 score 0.962962962962963\n",
            "test f1 score 0.9565217391304347\n",
            "train specificity score 0.9585798816568047\n",
            "test specificity score 0.967741935483871\n"
          ],
          "name": "stdout"
        }
      ]
    },
    {
      "cell_type": "code",
      "metadata": {
        "id": "09CeiYOuB9up"
      },
      "source": [
        ""
      ],
      "execution_count": null,
      "outputs": []
    }
  ]
}